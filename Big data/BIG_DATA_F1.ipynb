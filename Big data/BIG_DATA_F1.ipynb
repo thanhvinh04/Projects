{
  "nbformat": 4,
  "nbformat_minor": 0,
  "metadata": {
    "colab": {
      "provenance": [],
      "toc_visible": true
    },
    "kernelspec": {
      "name": "python3",
      "display_name": "Python 3"
    },
    "language_info": {
      "name": "python"
    }
  },
  "cells": [
    {
      "cell_type": "markdown",
      "source": [
        "### __DRIVER CONNECT__"
      ],
      "metadata": {
        "id": "S7WRZOBGufr6"
      }
    },
    {
      "cell_type": "code",
      "source": [
        "from google.colab import drive\n",
        "drive.mount('/content/drive')"
      ],
      "metadata": {
        "id": "l_uIvNtQM5Gh",
        "colab": {
          "base_uri": "https://localhost:8080/"
        },
        "outputId": "611c2e55-54ff-41b2-9974-db45b74da7d1",
        "collapsed": true
      },
      "execution_count": 1,
      "outputs": [
        {
          "output_type": "stream",
          "name": "stdout",
          "text": [
            "Mounted at /content/drive\n"
          ]
        }
      ]
    },
    {
      "cell_type": "markdown",
      "source": [
        "### __INSTALL AND DEFINE SPARKSESSION__"
      ],
      "metadata": {
        "id": "tLCEzkb6ul58"
      }
    },
    {
      "cell_type": "code",
      "source": [
        "!pip install pyspark"
      ],
      "metadata": {
        "id": "4ukO5QRARjrS",
        "colab": {
          "base_uri": "https://localhost:8080/"
        },
        "outputId": "1ae447ce-118f-4679-e8c7-374014468936"
      },
      "execution_count": 2,
      "outputs": [
        {
          "output_type": "stream",
          "name": "stdout",
          "text": [
            "Requirement already satisfied: pyspark in /usr/local/lib/python3.11/dist-packages (3.5.1)\n",
            "Requirement already satisfied: py4j==0.10.9.7 in /usr/local/lib/python3.11/dist-packages (from pyspark) (0.10.9.7)\n"
          ]
        }
      ]
    },
    {
      "cell_type": "code",
      "source": [
        "from pyspark.sql import SparkSession\n",
        "spark = SparkSession.builder.master(\"local\").appName(\"F1 Data\").config('spark.ui.port', '4050').getOrCreate()"
      ],
      "metadata": {
        "id": "HrpJ9jUZRlTr"
      },
      "execution_count": 3,
      "outputs": []
    },
    {
      "cell_type": "code",
      "source": [
        "!pip install tensorflow pyspark"
      ],
      "metadata": {
        "colab": {
          "base_uri": "https://localhost:8080/"
        },
        "id": "qBuleqdQAeXp",
        "outputId": "114f7c0f-9882-4234-cac0-0602cf113c10"
      },
      "execution_count": 4,
      "outputs": [
        {
          "output_type": "stream",
          "name": "stdout",
          "text": [
            "Requirement already satisfied: tensorflow in /usr/local/lib/python3.11/dist-packages (2.18.0)\n",
            "Requirement already satisfied: pyspark in /usr/local/lib/python3.11/dist-packages (3.5.1)\n",
            "Collecting tensorflowonspark\n",
            "  Downloading tensorflowonspark-2.2.5-py2.py3-none-any.whl.metadata (5.6 kB)\n",
            "Requirement already satisfied: absl-py>=1.0.0 in /usr/local/lib/python3.11/dist-packages (from tensorflow) (1.4.0)\n",
            "Requirement already satisfied: astunparse>=1.6.0 in /usr/local/lib/python3.11/dist-packages (from tensorflow) (1.6.3)\n",
            "Requirement already satisfied: flatbuffers>=24.3.25 in /usr/local/lib/python3.11/dist-packages (from tensorflow) (25.2.10)\n",
            "Requirement already satisfied: gast!=0.5.0,!=0.5.1,!=0.5.2,>=0.2.1 in /usr/local/lib/python3.11/dist-packages (from tensorflow) (0.6.0)\n",
            "Requirement already satisfied: google-pasta>=0.1.1 in /usr/local/lib/python3.11/dist-packages (from tensorflow) (0.2.0)\n",
            "Requirement already satisfied: libclang>=13.0.0 in /usr/local/lib/python3.11/dist-packages (from tensorflow) (18.1.1)\n",
            "Requirement already satisfied: opt-einsum>=2.3.2 in /usr/local/lib/python3.11/dist-packages (from tensorflow) (3.4.0)\n",
            "Requirement already satisfied: packaging in /usr/local/lib/python3.11/dist-packages (from tensorflow) (24.2)\n",
            "Requirement already satisfied: protobuf!=4.21.0,!=4.21.1,!=4.21.2,!=4.21.3,!=4.21.4,!=4.21.5,<6.0.0dev,>=3.20.3 in /usr/local/lib/python3.11/dist-packages (from tensorflow) (5.29.4)\n",
            "Requirement already satisfied: requests<3,>=2.21.0 in /usr/local/lib/python3.11/dist-packages (from tensorflow) (2.32.3)\n",
            "Requirement already satisfied: setuptools in /usr/local/lib/python3.11/dist-packages (from tensorflow) (75.2.0)\n",
            "Requirement already satisfied: six>=1.12.0 in /usr/local/lib/python3.11/dist-packages (from tensorflow) (1.17.0)\n",
            "Requirement already satisfied: termcolor>=1.1.0 in /usr/local/lib/python3.11/dist-packages (from tensorflow) (3.1.0)\n",
            "Requirement already satisfied: typing-extensions>=3.6.6 in /usr/local/lib/python3.11/dist-packages (from tensorflow) (4.13.2)\n",
            "Requirement already satisfied: wrapt>=1.11.0 in /usr/local/lib/python3.11/dist-packages (from tensorflow) (1.17.2)\n",
            "Requirement already satisfied: grpcio<2.0,>=1.24.3 in /usr/local/lib/python3.11/dist-packages (from tensorflow) (1.71.0)\n",
            "Requirement already satisfied: tensorboard<2.19,>=2.18 in /usr/local/lib/python3.11/dist-packages (from tensorflow) (2.18.0)\n",
            "Requirement already satisfied: keras>=3.5.0 in /usr/local/lib/python3.11/dist-packages (from tensorflow) (3.8.0)\n",
            "Requirement already satisfied: numpy<2.1.0,>=1.26.0 in /usr/local/lib/python3.11/dist-packages (from tensorflow) (2.0.2)\n",
            "Requirement already satisfied: h5py>=3.11.0 in /usr/local/lib/python3.11/dist-packages (from tensorflow) (3.13.0)\n",
            "Requirement already satisfied: ml-dtypes<0.5.0,>=0.4.0 in /usr/local/lib/python3.11/dist-packages (from tensorflow) (0.4.1)\n",
            "Requirement already satisfied: tensorflow-io-gcs-filesystem>=0.23.1 in /usr/local/lib/python3.11/dist-packages (from tensorflow) (0.37.1)\n",
            "Requirement already satisfied: py4j==0.10.9.7 in /usr/local/lib/python3.11/dist-packages (from pyspark) (0.10.9.7)\n",
            "\u001b[33mWARNING: Package 'tensorflowonspark' has an invalid Requires-Python: Invalid specifier: '>=\"3.6\"'\u001b[0m\u001b[33m\n",
            "\u001b[0mRequirement already satisfied: wheel<1.0,>=0.23.0 in /usr/local/lib/python3.11/dist-packages (from astunparse>=1.6.0->tensorflow) (0.45.1)\n",
            "Requirement already satisfied: rich in /usr/local/lib/python3.11/dist-packages (from keras>=3.5.0->tensorflow) (13.9.4)\n",
            "Requirement already satisfied: namex in /usr/local/lib/python3.11/dist-packages (from keras>=3.5.0->tensorflow) (0.0.9)\n",
            "Requirement already satisfied: optree in /usr/local/lib/python3.11/dist-packages (from keras>=3.5.0->tensorflow) (0.15.0)\n",
            "Requirement already satisfied: charset-normalizer<4,>=2 in /usr/local/lib/python3.11/dist-packages (from requests<3,>=2.21.0->tensorflow) (3.4.2)\n",
            "Requirement already satisfied: idna<4,>=2.5 in /usr/local/lib/python3.11/dist-packages (from requests<3,>=2.21.0->tensorflow) (3.10)\n",
            "Requirement already satisfied: urllib3<3,>=1.21.1 in /usr/local/lib/python3.11/dist-packages (from requests<3,>=2.21.0->tensorflow) (2.4.0)\n",
            "Requirement already satisfied: certifi>=2017.4.17 in /usr/local/lib/python3.11/dist-packages (from requests<3,>=2.21.0->tensorflow) (2025.4.26)\n",
            "Requirement already satisfied: markdown>=2.6.8 in /usr/local/lib/python3.11/dist-packages (from tensorboard<2.19,>=2.18->tensorflow) (3.8)\n",
            "Requirement already satisfied: tensorboard-data-server<0.8.0,>=0.7.0 in /usr/local/lib/python3.11/dist-packages (from tensorboard<2.19,>=2.18->tensorflow) (0.7.2)\n",
            "Requirement already satisfied: werkzeug>=1.0.1 in /usr/local/lib/python3.11/dist-packages (from tensorboard<2.19,>=2.18->tensorflow) (3.1.3)\n",
            "Requirement already satisfied: MarkupSafe>=2.1.1 in /usr/local/lib/python3.11/dist-packages (from werkzeug>=1.0.1->tensorboard<2.19,>=2.18->tensorflow) (3.0.2)\n",
            "Requirement already satisfied: markdown-it-py>=2.2.0 in /usr/local/lib/python3.11/dist-packages (from rich->keras>=3.5.0->tensorflow) (3.0.0)\n",
            "Requirement already satisfied: pygments<3.0.0,>=2.13.0 in /usr/local/lib/python3.11/dist-packages (from rich->keras>=3.5.0->tensorflow) (2.19.1)\n",
            "Requirement already satisfied: mdurl~=0.1 in /usr/local/lib/python3.11/dist-packages (from markdown-it-py>=2.2.0->rich->keras>=3.5.0->tensorflow) (0.1.2)\n",
            "Downloading tensorflowonspark-2.2.5-py2.py3-none-any.whl (45 kB)\n",
            "\u001b[2K   \u001b[90m━━━━━━━━━━━━━━━━━━━━━━━━━━━━━━━━━━━━━━━━\u001b[0m \u001b[32m45.4/45.4 kB\u001b[0m \u001b[31m2.7 MB/s\u001b[0m eta \u001b[36m0:00:00\u001b[0m\n",
            "\u001b[?25hInstalling collected packages: tensorflowonspark\n",
            "Successfully installed tensorflowonspark-2.2.5\n"
          ]
        }
      ]
    },
    {
      "cell_type": "markdown",
      "source": [
        "### __XỬ LÝ CHÍNH__"
      ],
      "metadata": {
        "id": "cbG431he_8CX"
      }
    },
    {
      "cell_type": "markdown",
      "source": [
        "#####__XỬ LÝ DỮ LIỆU__"
      ],
      "metadata": {
        "id": "fCbHh06nXRww"
      }
    },
    {
      "cell_type": "code",
      "source": [
        "from pyspark.sql.types import *\n",
        "\n",
        "schema_laps = StructType([\n",
        "    StructField(\"Time\", LongType(), True),\n",
        "    StructField(\"Driver\", StringType(), True),\n",
        "    StructField(\"DriverNumber\", StringType(), True),\n",
        "    StructField(\"LapTime\", LongType(), True),\n",
        "    StructField(\"LapNumber\", DoubleType(), True),\n",
        "    StructField(\"Stint\", DoubleType(), True),\n",
        "    StructField(\"PitOutTime\", LongType(), True),\n",
        "    StructField(\"PitInTime\", LongType(), True),\n",
        "    StructField(\"Sector1Time\", LongType(), True),\n",
        "    StructField(\"Sector2Time\", LongType(), True),\n",
        "    StructField(\"Sector3Time\", LongType(), True),\n",
        "    StructField(\"Sector1SessionTime\", LongType(), True),\n",
        "    StructField(\"Sector2SessionTime\", LongType(), True),\n",
        "    StructField(\"Sector3SessionTime\", LongType(), True),\n",
        "    StructField(\"SpeedI1\", DoubleType(), True),\n",
        "    StructField(\"SpeedI2\", DoubleType(), True),\n",
        "    StructField(\"SpeedFL\", DoubleType(), True),\n",
        "    StructField(\"SpeedST\", DoubleType(), True),\n",
        "    StructField(\"IsPersonalBest\", BooleanType(), True),\n",
        "    StructField(\"Compound\", StringType(), True),\n",
        "    StructField(\"TyreLife\", DoubleType(), True),\n",
        "    StructField(\"FreshTyre\", BooleanType(), True),\n",
        "    StructField(\"Team\", StringType(), True),\n",
        "    StructField(\"LapStartTime\", LongType(), True),\n",
        "    StructField(\"LapStartDate\", StringType(), True),\n",
        "    StructField(\"TrackStatus\", StringType(), True),\n",
        "    StructField(\"Position\", DoubleType(), True),\n",
        "    StructField(\"Deleted\", BooleanType(), True),\n",
        "    StructField(\"DeletedReason\", StringType(), True),\n",
        "    StructField(\"FastF1Generated\", BooleanType(), True),\n",
        "    StructField(\"IsAccurate\", BooleanType(), True),\n",
        "])\n",
        "\n",
        "schema_weather = StructType([\n",
        "    StructField(\"Time\", LongType(), True),\n",
        "    StructField(\"AirTemp\", DoubleType(), True),\n",
        "    StructField(\"Humidity\", DoubleType(), True),\n",
        "    StructField(\"Pressure\", DoubleType(), True),\n",
        "    StructField(\"Rainfall\", BooleanType(), True),\n",
        "    StructField(\"TrackTemp\", DoubleType(), True),\n",
        "    StructField(\"WindDirection\", LongType(), True),\n",
        "    StructField(\"WindSpeed\", DoubleType(), True),\n",
        "])"
      ],
      "metadata": {
        "id": "Cm-qdJ38GzsX"
      },
      "execution_count": 5,
      "outputs": []
    },
    {
      "cell_type": "code",
      "source": [
        "# Thay lốp cũ => không bắt đầu từ 1 => chưa đúng\n",
        "# Tính thời gian trong stint bằng cách group by theo DriverNumber, Stint lấy sum PitOutTime - sum PitInTime\n",
        "\n",
        "def count_tyre_life_1(df):\n",
        "    # Lọc ra các dòng có TyreLife = 1\n",
        "    df_tyre_1 = df.filter(F.col(\"TyreLife\") == 1)\n",
        "\n",
        "    # Đếm số dòng có TyreLife = 1 cho mỗi tay đua\n",
        "    tyre_change_count_df = df_tyre_1.groupBy(\"DriverNumber\").agg(F.count(\"*\").alias(\"TyreChangeCount\"))\n",
        "\n",
        "    return tyre_change_count_df\n",
        "\n",
        "# Hàm tính trung bình thời gian trong stint cho mỗi tay đua\n",
        "def calculate_avg_stint_time(df):\n",
        "    # Nhóm theo DriverNumber và Stint, sau đó tính tổng PitOutTime và PitInTime\n",
        "    stint_time_df = df.groupBy(\"DriverNumber\", \"Stint\").agg(\n",
        "        F.sum(\"PitOutTime\").alias(\"TotalPitOutTime\"),\n",
        "        F.sum(\"PitInTime\").alias(\"TotalPitInTime\")\n",
        "    )\n",
        "\n",
        "    # Tính hiệu PitOutTime - PitInTime cho mỗi DriverNumber và Stint\n",
        "    stint_time_df = stint_time_df.withColumn(\"StintTime\", F.col(\"TotalPitOutTime\") - F.col(\"TotalPitInTime\"))\n",
        "\n",
        "    # Tính trung bình thời gian trong stint cho mỗi DriverNumber\n",
        "    avg_stint_time_df = stint_time_df.groupBy(\"DriverNumber\").agg(\n",
        "        F.avg(\"StintTime\").alias(\"AvgStintTime\")\n",
        "    )\n",
        "\n",
        "    return avg_stint_time_df"
      ],
      "metadata": {
        "id": "ID1ej-PfmQnb"
      },
      "execution_count": 6,
      "outputs": []
    },
    {
      "cell_type": "code",
      "source": [
        "import os\n",
        "import pandas as pd\n",
        "import numpy as np\n",
        "from pyspark.sql import functions as F\n",
        "from pyspark.sql.window import Window\n",
        "from pyspark.sql.functions import expr, col, row_number"
      ],
      "metadata": {
        "id": "il8doFEXLCaC"
      },
      "execution_count": 7,
      "outputs": []
    },
    {
      "cell_type": "code",
      "source": [
        "def preprocess_fastf1_data(base_folder_path, years, spark,\n",
        "                            schema_laps, schema_weather,\n",
        "                            count_tyre_life_1, driver_stats):\n",
        "    final_dataframes = []\n",
        "\n",
        "    def mode_spark(df, group_key, target_col):\n",
        "        return df.groupBy(group_key).agg(\n",
        "            expr(f\"first({target_col}) as {target_col}_mode\")\n",
        "        )\n",
        "\n",
        "    for year in years:\n",
        "        folder_path = os.path.join(base_folder_path, year)\n",
        "        if not os.path.exists(folder_path):\n",
        "            continue\n",
        "\n",
        "        for filename in os.listdir(folder_path):\n",
        "            if \"laps\" in filename and \"_r_\" in filename and filename.endswith('.parquet'):\n",
        "\n",
        "                # Load các file cần thiết\n",
        "                spark_laps = spark.read.schema(schema_laps).parquet(os.path.join(folder_path, filename))\n",
        "                spark_weather = spark.read.schema(schema_weather).parquet(os.path.join(folder_path, filename.replace(\"laps\", \"weather\")))\n",
        "                df_drivers = pd.read_parquet(os.path.join(folder_path, filename.replace(\"laps\", \"drivers\")))\n",
        "                df_results = pd.read_parquet(os.path.join(folder_path, filename.replace(\"laps\", \"results\")))\n",
        "\n",
        "                # Tính số lần thay lốp\n",
        "                tyre_change_count_df = count_tyre_life_1(spark_laps).toPandas()\n",
        "                df_results = df_results.merge(tyre_change_count_df, on=\"DriverNumber\", how=\"left\")\n",
        "\n",
        "                # Join laps với weather theo thời gian gần nhất liền trước\n",
        "                weather_sorted = spark_weather.orderBy(\"Time\")\n",
        "                spark_joined = spark_laps.alias(\"laps\").join(\n",
        "                    weather_sorted.alias(\"weather\"),\n",
        "                    on=expr(\"laps.Time >= weather.Time\"),\n",
        "                    how=\"left\"\n",
        "                ).withColumn(\"weather_time_diff\", col(\"laps.Time\") - col(\"weather.Time\"))\n",
        "\n",
        "                window_spec_weather = Window.partitionBy(\"laps.LapNumber\", \"laps.DriverNumber\", \"laps.Time\") \\\n",
        "                                            .orderBy(col(\"weather_time_diff\").asc_nulls_last())\n",
        "\n",
        "                joined_final = spark_joined.withColumn(\"row_number\", row_number().over(window_spec_weather)) \\\n",
        "                                           .filter(col(\"row_number\") == 1) \\\n",
        "                                           .drop(\"row_number\", \"weather_time_diff\")\n",
        "\n",
        "                # Tổng hợp các đặc trưng\n",
        "                agg_df = joined_final.groupBy(\"DriverNumber\").agg(\n",
        "                    F.avg(\"LapTime\").alias(\"LapTime_mean\"),\n",
        "                    F.countDistinct(\"Stint\").alias(\"Stint_nunique\"),\n",
        "                    F.countDistinct(\"WindDirection\").alias(\"WindDirection_nunique\"),\n",
        "                    F.avg(\"PitOutTime\").alias(\"PitOutTime_mean\"),\n",
        "                    F.avg(\"PitInTime\").alias(\"PitInTime_mean\"),\n",
        "                    F.avg(\"Sector1Time\").alias(\"Sector1Time_mean\"),\n",
        "                    F.max(\"Sector1Time\").alias(\"Sector1Time_max\"),\n",
        "                    F.min(\"Sector1Time\").alias(\"Sector1Time_min\"),\n",
        "                    F.avg(\"SpeedI1\").alias(\"SpeedI1_mean\"),\n",
        "                    F.max(\"SpeedI1\").alias(\"SpeedI1_max\"),\n",
        "                    F.min(\"SpeedI1\").alias(\"SpeedI1_min\"),\n",
        "                    F.avg(\"AirTemp\").alias(\"AirTemp_mean\"),\n",
        "                    F.avg(\"Humidity\").alias(\"Humidity_mean\"),\n",
        "                    F.avg(\"Pressure\").alias(\"Pressure_mean\"),\n",
        "                    F.avg(\"TrackTemp\").alias(\"TrackTemp_mean\"),\n",
        "                    F.avg(\"WindSpeed\").alias(\"WindSpeed_mean\"),\n",
        "                    F.avg(F.when(F.col(\"Rainfall\") == True, 1).otherwise(0)).alias(\"Rainfall_mean\"),\n",
        "                    F.sum(F.when(F.col(\"IsPersonalBest\") == True, 1).otherwise(0)).alias(\"IsPersonalBest_sum\"),\n",
        "                    F.mean(F.when(F.col(\"FreshTyre\") == True, 1).otherwise(0)).alias(\"FreshTyre_mean\"),\n",
        "                    F.sum(F.when(F.col(\"Deleted\") == True, 1).otherwise(0)).alias(\"Deleted_sum\")\n",
        "                )\n",
        "\n",
        "                compound_mode = mode_spark(joined_final, 'DriverNumber', 'Compound')\n",
        "                trackstatus_mode = mode_spark(joined_final, 'DriverNumber', 'TrackStatus')\n",
        "                agg_spark = agg_df.join(compound_mode, on=\"DriverNumber\", how=\"left\") \\\n",
        "                                  .join(trackstatus_mode, on=\"DriverNumber\", how=\"left\")\n",
        "\n",
        "                # Chuẩn hoá driver_stats\n",
        "                experience_map = {k: v['Experience'] for k, v in driver_stats.items()}\n",
        "                wins_map = {k: v['Wins'] for k, v in driver_stats.items()}\n",
        "                winrate_map = {k: v.get('WinRate', 0.0) for k, v in driver_stats.items()}\n",
        "\n",
        "                df_results = df_results.drop(columns=['Q1', 'Q2', 'Q3'], errors='ignore')\n",
        "                if 'Time' in df_results.columns:\n",
        "                    df_results['Time'] = df_results['Time'].dt.total_seconds() * 1000\n",
        "\n",
        "                df_results['Experience'] = df_results['DriverNumber'].map(lambda x: experience_map.get(x, 0))\n",
        "                df_results['Wins'] = df_results['DriverNumber'].map(lambda x: wins_map.get(x, 0))\n",
        "                df_results['WinRate'] = df_results['DriverNumber'].map(lambda x: winrate_map.get(x, 0.0))\n",
        "\n",
        "                for driver in df_results['DriverNumber'].unique():\n",
        "                    if driver not in driver_stats:\n",
        "                        driver_stats[driver] = {'Experience': 0, 'Wins': 0}\n",
        "                    driver_stats[driver]['Experience'] += 1\n",
        "                    if driver in df_results[df_results['Position'] <= 10]['DriverNumber'].values:\n",
        "                        driver_stats[driver]['Wins'] += 1\n",
        "                    exp = driver_stats[driver]['Experience']\n",
        "                    wins = driver_stats[driver]['Wins']\n",
        "                    driver_stats[driver]['WinRate'] = wins / exp if exp > 0 else 0.0\n",
        "\n",
        "                # Join Spark\n",
        "                df_final = agg_spark.join(spark.createDataFrame(df_results), on='DriverNumber', how='left') \\\n",
        "                                    .join(spark.createDataFrame(df_drivers), on=col('DriverNumber') == col('driver_number'), how='left')\n",
        "\n",
        "                columns_to_drop = ['driver_number', 'driver_code', 'first_name', 'last_name', 'LastName',\n",
        "                                   'team_name', 'DriverId', 'TeamName', 'TeamColor',\n",
        "                                   'FirstName', 'FullName', 'HeadshotUrl', 'CountryCode',\n",
        "                                   'BroadcastName', 'Abbreviation', 'Status', 'Time', 'Wins',\n",
        "                                   'ClassifiedPosition', 'Points']\n",
        "                df_final = df_final.drop(*columns_to_drop)\n",
        "                final_dataframes.append(df_final.toPandas())\n",
        "\n",
        "    # Gộp kết quả toàn bộ\n",
        "    if final_dataframes:\n",
        "        full_df = pd.concat(final_dataframes, ignore_index=True)\n",
        "        print(\"✅ Dữ liệu cuối cùng:\", full_df.shape)\n",
        "\n",
        "        # Chuyển sang Spark\n",
        "        full_df = full_df.replace({np.nan: None})\n",
        "        spark_df = spark.createDataFrame(full_df).cache()\n",
        "        print(\"✅ Dữ liệu Spark:\", spark_df.count(), \"hàng,\", len(spark_df.columns), \"cột\")\n",
        "        return spark_df\n",
        "    else:\n",
        "        print(\"❌ Không có dữ liệu nào được xử lý.\")\n",
        "        return None"
      ],
      "metadata": {
        "id": "WTsfGRFSXY2j"
      },
      "execution_count": 8,
      "outputs": []
    },
    {
      "cell_type": "code",
      "source": [
        "spark_df = preprocess_fastf1_data(\n",
        "    base_folder_path='/content/drive/My Drive/Fastf1/raw/',\n",
        "    years=['2019', '2020', '2021', '2022', '2023', '2024', '2025'],\n",
        "    spark=spark,\n",
        "    schema_laps=schema_laps,\n",
        "    schema_weather=schema_weather,\n",
        "    count_tyre_life_1=count_tyre_life_1,\n",
        "    driver_stats={}\n",
        ")"
      ],
      "metadata": {
        "colab": {
          "base_uri": "https://localhost:8080/"
        },
        "id": "z3Kf56vc5zb0",
        "outputId": "e151609f-f5bc-4a83-e128-c899ce6d120d"
      },
      "execution_count": 9,
      "outputs": [
        {
          "output_type": "stream",
          "name": "stdout",
          "text": [
            "✅ Dữ liệu cuối cùng: (2235, 29)\n",
            "✅ Dữ liệu Spark: 2235 hàng, 29 cột\n"
          ]
        }
      ]
    },
    {
      "cell_type": "code",
      "source": [
        "from pyspark.sql.functions import udf, col\n",
        "from pyspark.sql.types import IntegerType\n",
        "\n",
        "# Hàm xử lý Position → PositionGroup\n",
        "def map_position_to_group(pos):\n",
        "    if pos is None:\n",
        "        return None\n",
        "    if pos <= 5:\n",
        "        return 0\n",
        "    elif pos <= 10:\n",
        "        return 1\n",
        "    elif pos <= 15:\n",
        "        return 2\n",
        "    else:\n",
        "        return 3\n",
        "\n",
        "# UDF cho PositionGroup\n",
        "position_udf = udf(map_position_to_group, IntegerType())\n",
        "\n",
        "# Hàm áp dụng PositionGroup\n",
        "def add_position_group(df, drop_position=True):\n",
        "    if \"Position\" in df.columns:\n",
        "        df = df.withColumn(\"PositionGroup\", position_udf(col(\"Position\")))\n",
        "        if drop_position:\n",
        "            df = df.drop(\"Position\")\n",
        "    return df"
      ],
      "metadata": {
        "id": "A1woGzm78JxN"
      },
      "execution_count": 10,
      "outputs": []
    },
    {
      "cell_type": "code",
      "source": [
        "spark_df = add_position_group(spark_df, drop_position=True)"
      ],
      "metadata": {
        "id": "5eejmNJLIdKZ"
      },
      "execution_count": 11,
      "outputs": []
    },
    {
      "cell_type": "code",
      "source": [
        "from pyspark.sql.functions import mean\n",
        "\n",
        "def fill_numeric_with_mean(df, numeric_cols):\n",
        "    for col_name in numeric_cols:\n",
        "        if col_name in df.columns:\n",
        "            mean_value = df.select(mean(col_name)).collect()[0][0]\n",
        "            if mean_value is not None:\n",
        "                df = df.fillna({col_name: mean_value})\n",
        "    return df"
      ],
      "metadata": {
        "id": "vmVQXpklIk7-"
      },
      "execution_count": 12,
      "outputs": []
    },
    {
      "cell_type": "code",
      "source": [
        "from pyspark.sql.functions import when\n",
        "\n",
        "def convert_track_status(df):\n",
        "    if \"TrackStatus_mode\" in df.columns:\n",
        "        df = df.withColumn(\"TrackStatus_mode\", when(col(\"TrackStatus_mode\") == \"\", None).otherwise(col(\"TrackStatus_mode\")))\n",
        "        df = df.withColumn(\"TrackStatus\", col(\"TrackStatus_mode\").cast(IntegerType()))\n",
        "        df = df.drop(\"TrackStatus_mode\")\n",
        "    return df"
      ],
      "metadata": {
        "id": "OOynN7ndIvWx"
      },
      "execution_count": 13,
      "outputs": []
    },
    {
      "cell_type": "code",
      "source": [
        "def cast_columns_to_int(df, columns):\n",
        "    for col_name in columns:\n",
        "        if col_name in df.columns:\n",
        "            df = df.withColumn(col_name, col(col_name).cast(IntegerType()))\n",
        "    return df"
      ],
      "metadata": {
        "id": "IiqGpNsRIza1"
      },
      "execution_count": 14,
      "outputs": []
    },
    {
      "cell_type": "code",
      "source": [
        "from pyspark.sql.functions import monotonically_increasing_id, lit, first\n",
        "\n",
        "def one_hot_encode_compound_mode(df):\n",
        "    df = df.withColumn(\"RowID\", monotonically_increasing_id())\n",
        "    df_dummies = df.select(\"RowID\", \"Compound_mode\").withColumn(\"dummy\", lit(1))\n",
        "    compound_dummies = df_dummies.groupBy(\"RowID\").pivot(\"Compound_mode\").agg(first(\"dummy\")).fillna(0)\n",
        "    df = df.join(compound_dummies, on=\"RowID\", how=\"left\").drop(\"Compound_mode\", \"RowID\")\n",
        "    return df"
      ],
      "metadata": {
        "id": "W-3fplZPI1A_"
      },
      "execution_count": 15,
      "outputs": []
    },
    {
      "cell_type": "code",
      "source": [
        "from pyspark.ml.feature import StringIndexer\n",
        "\n",
        "def label_encode_column(df, column):\n",
        "    if column in df.columns:\n",
        "        indexer = StringIndexer(inputCol=column, outputCol=f\"{column}_index\")\n",
        "        df = indexer.fit(df).transform(df).drop(column).withColumnRenamed(f\"{column}_index\", column)\n",
        "    return df"
      ],
      "metadata": {
        "id": "swa82Yh-I2s2"
      },
      "execution_count": 16,
      "outputs": []
    },
    {
      "cell_type": "code",
      "source": [
        "def convert_booleans_to_int(df):\n",
        "    bool_cols = [field.name for field in df.schema.fields if str(field.dataType) == 'BooleanType']\n",
        "    for col_name in bool_cols:\n",
        "        df = df.withColumn(col_name, col(col_name).cast(IntegerType()))\n",
        "    return df"
      ],
      "metadata": {
        "id": "wPOSNLgPI4bf"
      },
      "execution_count": 17,
      "outputs": []
    },
    {
      "cell_type": "code",
      "source": [
        "# Xóa DriverNumber\n",
        "\n",
        "def drop_columns(df, cols):\n",
        "    for col_name in cols:\n",
        "        if col_name in df.columns:\n",
        "            df = df.drop(col_name)\n",
        "    return df"
      ],
      "metadata": {
        "id": "D8Swnl1jI7sg"
      },
      "execution_count": 18,
      "outputs": []
    },
    {
      "cell_type": "code",
      "source": [
        "columns_to_drop = ['Wins', 'ClassifiedPosition', 'Points']\n",
        "numeric_cols = [col.name for col in spark_df.schema.fields if col.name not in columns_to_drop and col.name != 'PositionGroup']\n",
        "\n",
        "spark_df = drop_columns(spark_df, columns_to_drop)\n",
        "spark_df = add_position_group(spark_df, drop_position=True)\n",
        "spark_df = fill_numeric_with_mean(spark_df, numeric_cols)\n",
        "spark_df = convert_track_status(spark_df)\n",
        "spark_df = cast_columns_to_int(spark_df, [\"DriverNumber\", \"IsPersonalBest_sum\"])\n",
        "spark_df = spark_df.fillna({'TyreChangeCount': 0})\n",
        "spark_df = one_hot_encode_compound_mode(spark_df)\n",
        "spark_df = label_encode_column(spark_df, \"TeamId\")\n",
        "spark_df = convert_booleans_to_int(spark_df)\n",
        "spark_df = spark_df.fillna({\"TrackStatus\": 0})\n",
        "spark_df = drop_columns(spark_df, [\"DriverNumber\"])  # nếu còn\n",
        "\n",
        "print(\"✅ Số hàng:\", spark_df.count(), \" | Số cột:\", len(spark_df.columns))\n",
        "spark_df.printSchema()"
      ],
      "metadata": {
        "colab": {
          "base_uri": "https://localhost:8080/"
        },
        "id": "PlArkv71JFTX",
        "outputId": "89d1398b-f783-4dff-8d34-76cb2e7edfc5"
      },
      "execution_count": 19,
      "outputs": [
        {
          "output_type": "stream",
          "name": "stdout",
          "text": [
            "✅ Số hàng: 2235  | Số cột: 33\n",
            "root\n",
            " |-- LapTime_mean: double (nullable = false)\n",
            " |-- Stint_nunique: long (nullable = true)\n",
            " |-- WindDirection_nunique: long (nullable = true)\n",
            " |-- PitOutTime_mean: double (nullable = false)\n",
            " |-- PitInTime_mean: double (nullable = false)\n",
            " |-- Sector1Time_mean: double (nullable = false)\n",
            " |-- Sector1Time_max: double (nullable = false)\n",
            " |-- Sector1Time_min: double (nullable = false)\n",
            " |-- SpeedI1_mean: double (nullable = false)\n",
            " |-- SpeedI1_max: double (nullable = false)\n",
            " |-- SpeedI1_min: double (nullable = false)\n",
            " |-- AirTemp_mean: double (nullable = false)\n",
            " |-- Humidity_mean: double (nullable = false)\n",
            " |-- Pressure_mean: double (nullable = false)\n",
            " |-- TrackTemp_mean: double (nullable = false)\n",
            " |-- WindSpeed_mean: double (nullable = false)\n",
            " |-- Rainfall_mean: double (nullable = false)\n",
            " |-- IsPersonalBest_sum: integer (nullable = true)\n",
            " |-- FreshTyre_mean: double (nullable = false)\n",
            " |-- Deleted_sum: long (nullable = true)\n",
            " |-- GridPosition: double (nullable = false)\n",
            " |-- TyreChangeCount: double (nullable = false)\n",
            " |-- Experience: long (nullable = true)\n",
            " |-- WinRate: double (nullable = false)\n",
            " |-- PositionGroup: integer (nullable = true)\n",
            " |-- TrackStatus: integer (nullable = false)\n",
            " |-- HARD: integer (nullable = true)\n",
            " |-- INTERMEDIATE: integer (nullable = true)\n",
            " |-- MEDIUM: integer (nullable = true)\n",
            " |-- SOFT: integer (nullable = true)\n",
            " |-- UNKNOWN: integer (nullable = true)\n",
            " |-- WET: integer (nullable = true)\n",
            " |-- TeamId: double (nullable = false)\n",
            "\n"
          ]
        }
      ]
    },
    {
      "cell_type": "markdown",
      "source": [
        "##### __TÍNH TƯƠNG QUAN__"
      ],
      "metadata": {
        "id": "CEGqaNJRGPVk"
      }
    },
    {
      "cell_type": "code",
      "source": [
        "columns = [\n",
        "    \"LapTime_mean\",\n",
        "    \"Stint_nunique\",\n",
        "    \"WindDirection_nunique\",\n",
        "    \"PitOutTime_mean\",\n",
        "    \"PitInTime_mean\",\n",
        "    \"Sector1Time_mean\",\n",
        "    \"Sector1Time_max\",\n",
        "    \"Sector1Time_min\",\n",
        "    \"SpeedI1_mean\",\n",
        "    \"SpeedI1_max\",\n",
        "    \"SpeedI1_min\",\n",
        "    \"AirTemp_mean\",\n",
        "    \"Humidity_mean\",\n",
        "    \"Pressure_mean\",\n",
        "    \"TrackTemp_mean\",\n",
        "    \"WindSpeed_mean\",\n",
        "    \"Rainfall_mean\",\n",
        "    \"IsPersonalBest_sum\",\n",
        "    \"FreshTyre_mean\",\n",
        "    \"Deleted_sum\",\n",
        "    \"GridPosition\",\n",
        "    \"TyreChangeCount\",\n",
        "    \"Experience\",\n",
        "    \"WinRate\",\n",
        "    \"PositionGroup\",\n",
        "    \"TrackStatus\",\n",
        "    \"HARD\",\n",
        "    \"INTERMEDIATE\",\n",
        "    \"MEDIUM\",\n",
        "    \"SOFT\",\n",
        "    \"UNKNOWN\",\n",
        "    \"WET\",\n",
        "    \"TeamId\"\n",
        "]\n",
        "\n",
        "columns_to_drop = ['Wins', 'ClassifiedPosition', 'Points']"
      ],
      "metadata": {
        "id": "xCzmXmE4qAMB"
      },
      "execution_count": 20,
      "outputs": []
    },
    {
      "cell_type": "code",
      "source": [
        "numeric_cols = [coll for coll in columns if coll not in columns_to_drop and coll != 'PositionGroup']"
      ],
      "metadata": {
        "id": "nNfcJ8WJO03k"
      },
      "execution_count": 21,
      "outputs": []
    },
    {
      "cell_type": "code",
      "source": [
        "from pyspark.ml.feature import VectorAssembler\n",
        "from pyspark.ml.stat import Correlation\n",
        "from pyspark.sql.types import NumericType\n",
        "import pandas as pd\n",
        "\n",
        "def compute_pearson_correlation_matrix(df, exclude_cols=['PositionGroup']):\n",
        "    # Chọn cột số và loại bỏ các cột không mong muốn\n",
        "    numeric_cols = [f.name for f in df.schema.fields\n",
        "                    if f.name not in exclude_cols]\n",
        "\n",
        "    if not numeric_cols:\n",
        "        raise ValueError(\"Không có cột số nào hợp lệ để tính tương quan.\")\n",
        "\n",
        "    # Vector hóa dữ liệu\n",
        "    assembler = VectorAssembler(inputCols=numeric_cols, outputCol=\"features_vector\")\n",
        "    df_vector = assembler.transform(df.select(numeric_cols))\n",
        "\n",
        "    # Tính tương quan Pearson\n",
        "    corr_matrix = Correlation.corr(df_vector, \"features_vector\", \"pearson\").head()[0].toArray()\n",
        "\n",
        "    # Trả về dưới dạng pandas DataFrame để dễ đọc\n",
        "    return pd.DataFrame(corr_matrix, index=numeric_cols, columns=numeric_cols)"
      ],
      "metadata": {
        "id": "vztBM1FyJYoP"
      },
      "execution_count": 22,
      "outputs": []
    },
    {
      "cell_type": "code",
      "source": [
        "correlation_matrix = compute_pearson_correlation_matrix(spark_df)"
      ],
      "metadata": {
        "id": "wBb2L-6hN0kl",
        "collapsed": true
      },
      "execution_count": 23,
      "outputs": []
    },
    {
      "cell_type": "code",
      "source": [
        "import pandas as pd\n",
        "import matplotlib.pyplot as plt\n",
        "import seaborn as sns\n",
        "\n",
        "# Tạo dataframe từ correlation matrix\n",
        "corr_df = pd.DataFrame(correlation_matrix, columns=numeric_cols, index=numeric_cols)\n",
        "\n",
        "# Cấu hình kích thước hiển thị phù hợp\n",
        "plt.figure(figsize=(16, 12))\n",
        "\n",
        "# Vẽ heatmap\n",
        "sns.heatmap(corr_df, cmap=\"coolwarm\", annot=False, fmt=\".2f\", center=0)\n",
        "\n",
        "# Tiêu đề\n",
        "plt.title(\"Ma trận tương quan giữa các biến số\", fontsize=16)\n",
        "\n",
        "# Hiển thị\n",
        "plt.tight_layout()\n",
        "plt.show()"
      ],
      "metadata": {
        "colab": {
          "base_uri": "https://localhost:8080/",
          "height": 1000
        },
        "id": "GSEomB6nBVr6",
        "outputId": "a613938c-395d-46d7-95c2-327d4d1a5c8a"
      },
      "execution_count": 24,
      "outputs": [
        {
          "output_type": "display_data",
          "data": {
            "text/plain": [
              "<Figure size 1600x1200 with 2 Axes>"
            ],
            "image/png": "[encoded data removed]"
          },
          "metadata": {}
        }
      ]
    },
    {
      "cell_type": "code",
      "source": [
        "from pyspark.ml.feature import VectorAssembler\n",
        "from pyspark.ml.stat import Correlation\n",
        "\n",
        "correlations = []\n",
        "\n",
        "for col_name in numeric_cols:\n",
        "    # Bỏ qua PositionGroup\n",
        "    if col_name == \"PositionGroup\":\n",
        "        continue\n",
        "\n",
        "    # Tạo vector với cột hiện tại và PositionGroup\n",
        "    assembler = VectorAssembler(inputCols=[col_name, \"PositionGroup\"], outputCol=\"vec\")\n",
        "    df_vec = assembler.transform(spark_df.select(col_name, \"PositionGroup\")).select(\"vec\")\n",
        "\n",
        "    # Tính ma trận tương quan\n",
        "    corr_matrix = Correlation.corr(df_vec, \"vec\", \"pearson\").head()[0].toArray()\n",
        "\n",
        "    # Lấy hệ số tương quan giữa col_name và PositionGroup (luôn nằm ở [0,1] hoặc [1,0])\n",
        "    corr = corr_matrix[0, 1]\n",
        "    correlations.append((col_name, corr))\n",
        "\n",
        "# Chuyển sang Pandas để dễ xem\n",
        "import pandas as pd\n",
        "\n",
        "correlation_df = pd.DataFrame(correlations, columns=[\"Feature\", \"CorrelationWithPositionGroup\"])\n",
        "correlation_df[\"AbsCorr\"] = correlation_df[\"CorrelationWithPositionGroup\"].abs()\n",
        "\n",
        "# Sắp xếp theo độ tương quan tuyệt đối\n",
        "correlation_df_sorted = correlation_df.sort_values(by=\"AbsCorr\", ascending=False)\n",
        "\n",
        "print(correlation_df_sorted.head(32))"
      ],
      "metadata": {
        "colab": {
          "base_uri": "https://localhost:8080/"
        },
        "id": "tjKD_afWCvyI",
        "outputId": "6e21212d-9eb9-4388-eda3-79871711aa2c"
      },
      "execution_count": 25,
      "outputs": [
        {
          "output_type": "stream",
          "name": "stdout",
          "text": [
            "                  Feature  CorrelationWithPositionGroup   AbsCorr\n",
            "20           GridPosition                      0.581961  0.581961\n",
            "23                WinRate                     -0.529464  0.529464\n",
            "31                 TeamId                      0.330069  0.330069\n",
            "2   WindDirection_nunique                     -0.291285  0.291285\n",
            "17     IsPersonalBest_sum                     -0.249527  0.249527\n",
            "21        TyreChangeCount                      0.144457  0.144457\n",
            "18         FreshTyre_mean                      0.127566  0.127566\n",
            "22             Experience                     -0.113956  0.113956\n",
            "1           Stint_nunique                     -0.101891  0.101891\n",
            "0            LapTime_mean                      0.079548  0.079548\n",
            "3         PitOutTime_mean                     -0.068020  0.068020\n",
            "25                   HARD                      0.066605  0.066605\n",
            "10            SpeedI1_min                      0.058927  0.058927\n",
            "28                   SOFT                     -0.053582  0.053582\n",
            "7         Sector1Time_min                      0.047210  0.047210\n",
            "9             SpeedI1_max                     -0.045844  0.045844\n",
            "6         Sector1Time_max                     -0.044958  0.044958\n",
            "5        Sector1Time_mean                      0.043396  0.043396\n",
            "8            SpeedI1_mean                     -0.034257  0.034257\n",
            "4          PitInTime_mean                     -0.033661  0.033661\n",
            "19            Deleted_sum                      0.025161  0.025161\n",
            "16          Rainfall_mean                      0.019978  0.019978\n",
            "14         TrackTemp_mean                      0.013255  0.013255\n",
            "27                 MEDIUM                      0.011818  0.011818\n",
            "30                    WET                      0.009682  0.009682\n",
            "29                UNKNOWN                     -0.007671  0.007671\n",
            "24            TrackStatus                      0.007183  0.007183\n",
            "26           INTERMEDIATE                     -0.004549  0.004549\n",
            "11           AirTemp_mean                     -0.002943  0.002943\n",
            "12          Humidity_mean                     -0.002923  0.002923\n",
            "13          Pressure_mean                     -0.001314  0.001314\n",
            "15         WindSpeed_mean                      0.000953  0.000953\n"
          ]
        }
      ]
    },
    {
      "cell_type": "code",
      "source": [
        "# Tạo bản sao của DataFrame\n",
        "spark_dff = spark_df.select(\"*\")"
      ],
      "metadata": {
        "id": "ClQfMGTzoIvM"
      },
      "execution_count": 26,
      "outputs": []
    },
    {
      "cell_type": "code",
      "source": [
        "spark_df = drop_columns(spark_df, [\"PitInTime_mean\", \"Sector1Time_min\", \"SpeedI1_max\"])  # nếu còn"
      ],
      "metadata": {
        "id": "5Pe7IEaGpExA"
      },
      "execution_count": 27,
      "outputs": []
    },
    {
      "cell_type": "code",
      "source": [
        "print(\"✅ Số hàng:\", spark_df.count(), \" | Số cột:\", len(spark_df.columns))\n",
        "spark_df.printSchema()"
      ],
      "metadata": {
        "colab": {
          "base_uri": "https://localhost:8080/"
        },
        "id": "gBPxJKGb-7b0",
        "outputId": "b82593da-5ea0-410a-ec30-04bce6e2470b"
      },
      "execution_count": 28,
      "outputs": [
        {
          "output_type": "stream",
          "name": "stdout",
          "text": [
            "✅ Số hàng: 2235  | Số cột: 30\n",
            "root\n",
            " |-- LapTime_mean: double (nullable = false)\n",
            " |-- Stint_nunique: long (nullable = true)\n",
            " |-- WindDirection_nunique: long (nullable = true)\n",
            " |-- PitOutTime_mean: double (nullable = false)\n",
            " |-- Sector1Time_mean: double (nullable = false)\n",
            " |-- Sector1Time_max: double (nullable = false)\n",
            " |-- SpeedI1_mean: double (nullable = false)\n",
            " |-- SpeedI1_min: double (nullable = false)\n",
            " |-- AirTemp_mean: double (nullable = false)\n",
            " |-- Humidity_mean: double (nullable = false)\n",
            " |-- Pressure_mean: double (nullable = false)\n",
            " |-- TrackTemp_mean: double (nullable = false)\n",
            " |-- WindSpeed_mean: double (nullable = false)\n",
            " |-- Rainfall_mean: double (nullable = false)\n",
            " |-- IsPersonalBest_sum: integer (nullable = true)\n",
            " |-- FreshTyre_mean: double (nullable = false)\n",
            " |-- Deleted_sum: long (nullable = true)\n",
            " |-- GridPosition: double (nullable = false)\n",
            " |-- TyreChangeCount: double (nullable = false)\n",
            " |-- Experience: long (nullable = true)\n",
            " |-- WinRate: double (nullable = false)\n",
            " |-- PositionGroup: integer (nullable = true)\n",
            " |-- TrackStatus: integer (nullable = false)\n",
            " |-- HARD: integer (nullable = true)\n",
            " |-- INTERMEDIATE: integer (nullable = true)\n",
            " |-- MEDIUM: integer (nullable = true)\n",
            " |-- SOFT: integer (nullable = true)\n",
            " |-- UNKNOWN: integer (nullable = true)\n",
            " |-- WET: integer (nullable = true)\n",
            " |-- TeamId: double (nullable = false)\n",
            "\n"
          ]
        }
      ]
    },
    {
      "cell_type": "markdown",
      "source": [
        "##### __TRAIN MODEL__"
      ],
      "metadata": {
        "id": "Ywrtcn9iGJ-G"
      }
    },
    {
      "cell_type": "markdown",
      "source": [
        "###### __MACHINE LEARNING__"
      ],
      "metadata": {
        "id": "1lb18seYAHWc"
      }
    },
    {
      "cell_type": "code",
      "source": [
        "from pyspark.ml.feature import StringIndexer, VectorAssembler\n",
        "from pyspark.ml import Pipeline\n",
        "\n",
        "# Biến đầu vào\n",
        "feature_cols = [col for col in spark_df.columns if col not in ['PositionGroup']]\n",
        "label_indexer = StringIndexer(inputCol=\"PositionGroup\", outputCol=\"label\")\n",
        "assembler = VectorAssembler(inputCols=feature_cols, outputCol=\"features\")"
      ],
      "metadata": {
        "id": "PiFHM-VdqyAV"
      },
      "execution_count": 29,
      "outputs": []
    },
    {
      "cell_type": "code",
      "source": [
        "from pyspark.ml.classification import RandomForestClassifier\n",
        "from pyspark.ml.tuning import ParamGridBuilder, CrossValidator\n",
        "from pyspark.ml.evaluation import MulticlassClassificationEvaluator\n",
        "from pyspark.mllib.evaluation import MulticlassMetrics\n",
        "\n",
        "rf = RandomForestClassifier(featuresCol=\"features\", labelCol=\"label\", seed=42)\n",
        "\n",
        "paramGrid = ParamGridBuilder() \\\n",
        "    .addGrid(rf.numTrees, [10, 20]) \\\n",
        "    .addGrid(rf.maxDepth, [5, 10, 15]) \\\n",
        "    .build()\n",
        "\n",
        "evaluator = MulticlassClassificationEvaluator(metricName=\"accuracy\")\n",
        "\n",
        "pipeline = Pipeline(stages=[label_indexer, assembler, rf])\n",
        "\n",
        "cv = CrossValidator(estimator=pipeline,\n",
        "                    estimatorParamMaps=paramGrid,\n",
        "                    evaluator=evaluator,\n",
        "                    numFolds=5)\n",
        "\n",
        "rf_model = cv.fit(spark_df)\n",
        "\n",
        "# Dự đoán trên dữ liệu\n",
        "predictions = rf_model.transform(spark_df)\n",
        "print(\"Random Forest Accuracy:\", evaluator.evaluate(rf_model.transform(spark_df)))\n",
        "\n",
        "# Tính toán accuracy\n",
        "accuracy = evaluator.setMetricName(\"accuracy\").evaluate(predictions)\n",
        "print(\"Accuracy:\", accuracy)\n",
        "\n",
        "# Tính toán precision\n",
        "precision = evaluator.setMetricName(\"weightedPrecision\").evaluate(predictions)\n",
        "print(\"Precision:\", precision)\n",
        "\n",
        "# Tính toán recall\n",
        "recall = evaluator.setMetricName(\"weightedRecall\").evaluate(predictions)\n",
        "print(\"Recall:\", recall)\n",
        "\n",
        "# Ma trận nhầm lẫn\n",
        "predictionAndLabels = predictions.select(\"prediction\", \"label\").rdd\n",
        "metrics = MulticlassMetrics(predictionAndLabels)\n",
        "\n",
        "# In ma trận nhầm lẫn\n",
        "confusion_matrix = metrics.confusionMatrix().toArray()\n",
        "print(\"Confusion Matrix:\")\n",
        "print(confusion_matrix)\n",
        "\n",
        "# Các metric khác như True Positive Rate, False Positive Rate, v.v.\n",
        "labels = predictions.select(\"label\").distinct().rdd.flatMap(lambda x: x).collect()\n",
        "\n",
        "for label in labels:\n",
        "    print(f\"Class {label}:\")\n",
        "    print(f\"  Precision: {metrics.precision(label)}\")\n",
        "    print(f\"  Recall: {metrics.recall(label)}\")"
      ],
      "metadata": {
        "colab": {
          "base_uri": "https://localhost:8080/"
        },
        "id": "AGbzCi9Sq-a1",
        "outputId": "4ba53d1b-9b70-45a1-8400-e0373a1bd5b5"
      },
      "execution_count": 30,
      "outputs": [
        {
          "output_type": "stream",
          "name": "stdout",
          "text": [
            "Random Forest Accuracy: 0.6527964205816554\n",
            "Accuracy: 0.6527964205816554\n",
            "Precision: 0.661583369258332\n",
            "Recall: 0.6527964205816554\n"
          ]
        },
        {
          "output_type": "stream",
          "name": "stderr",
          "text": [
            "/usr/local/lib/python3.11/dist-packages/pyspark/sql/context.py:158: FutureWarning: Deprecated in 3.0.0. Use SparkSession.builder.getOrCreate() instead.\n",
            "  warnings.warn(\n"
          ]
        },
        {
          "output_type": "stream",
          "name": "stdout",
          "text": [
            "Confusion Matrix:\n",
            "[[466.  80.  12.   2.]\n",
            " [124. 314. 104.  18.]\n",
            " [ 31. 125. 344.  60.]\n",
            " [ 37.  40. 143. 335.]]\n",
            "Class 0.0:\n",
            "  Precision: 0.7082066869300911\n",
            "  Recall: 0.8321428571428572\n",
            "Class 1.0:\n",
            "  Precision: 0.5617173524150268\n",
            "  Recall: 0.5607142857142857\n",
            "Class 3.0:\n",
            "  Precision: 0.8072289156626506\n",
            "  Recall: 0.6036036036036037\n",
            "Class 2.0:\n",
            "  Precision: 0.5704809286898839\n",
            "  Recall: 0.6142857142857143\n"
          ]
        }
      ]
    },
    {
      "cell_type": "code",
      "source": [
        "from pyspark.ml.classification import LogisticRegression\n",
        "\n",
        "lr = LogisticRegression(maxIter=20, featuresCol=\"features\", labelCol=\"label\")\n",
        "\n",
        "paramGrid = ParamGridBuilder() \\\n",
        "    .addGrid(lr.regParam, [0.01, 0.1]) \\\n",
        "    .addGrid(lr.elasticNetParam, [0.0, 0.5]) \\\n",
        "    .build()\n",
        "\n",
        "pipeline = Pipeline(stages=[label_indexer, assembler, lr])\n",
        "\n",
        "cv = CrossValidator(estimator=pipeline,\n",
        "                    estimatorParamMaps=paramGrid,\n",
        "                    evaluator=evaluator,\n",
        "                    numFolds=5)\n",
        "\n",
        "lr_model = cv.fit(spark_df)\n",
        "print(\"Logistic Regression Accuracy:\", evaluator.evaluate(lr_model.transform(spark_df)))\n",
        "\n",
        "# Dự đoán trên dữ liệu\n",
        "predictions = lr_model.transform(spark_df)\n",
        "print(\"Random Forest Accuracy:\", evaluator.evaluate(lr_model.transform(spark_df)))\n",
        "\n",
        "# Tính toán accuracy\n",
        "accuracy = evaluator.setMetricName(\"accuracy\").evaluate(predictions)\n",
        "print(\"Accuracy:\", accuracy)\n",
        "\n",
        "# Tính toán precision\n",
        "precision = evaluator.setMetricName(\"weightedPrecision\").evaluate(predictions)\n",
        "print(\"Precision:\", precision)\n",
        "\n",
        "# Tính toán recall\n",
        "recall = evaluator.setMetricName(\"weightedRecall\").evaluate(predictions)\n",
        "print(\"Recall:\", recall)\n",
        "\n",
        "# Ma trận nhầm lẫn\n",
        "predictionAndLabels = predictions.select(\"prediction\", \"label\").rdd\n",
        "metrics = MulticlassMetrics(predictionAndLabels)\n",
        "\n",
        "# In ma trận nhầm lẫn\n",
        "confusion_matrix = metrics.confusionMatrix().toArray()\n",
        "print(\"Confusion Matrix:\")\n",
        "print(confusion_matrix)\n",
        "\n",
        "# Các metric khác như True Positive Rate, False Positive Rate, v.v.\n",
        "labels = predictions.select(\"label\").distinct().rdd.flatMap(lambda x: x).collect()\n",
        "\n",
        "for label in labels:\n",
        "    print(f\"Class {label}:\")\n",
        "    print(f\"  Precision: {metrics.precision(label)}\")\n",
        "    print(f\"  Recall: {metrics.recall(label)}\")"
      ],
      "metadata": {
        "colab": {
          "base_uri": "https://localhost:8080/"
        },
        "id": "Ccc3e4CyrH_-",
        "outputId": "9f9e0096-1890-4aa5-82da-a648cf5bf3c5"
      },
      "execution_count": 31,
      "outputs": [
        {
          "output_type": "stream",
          "name": "stdout",
          "text": [
            "Logistic Regression Accuracy: 0.5812080536912752\n",
            "Random Forest Accuracy: 0.5812080536912752\n",
            "Accuracy: 0.5812080536912752\n",
            "Precision: 0.5755907784289198\n",
            "Recall: 0.5812080536912752\n",
            "Confusion Matrix:\n",
            "[[437.  98.  15.  10.]\n",
            " [144. 240. 114.  62.]\n",
            " [ 38.  99. 297. 126.]\n",
            " [ 44.  41. 145. 325.]]\n",
            "Class 0.0:\n",
            "  Precision: 0.6591251885369532\n",
            "  Recall: 0.7803571428571429\n",
            "Class 1.0:\n",
            "  Precision: 0.502092050209205\n",
            "  Recall: 0.42857142857142855\n",
            "Class 3.0:\n",
            "  Precision: 0.621414913957935\n",
            "  Recall: 0.5855855855855856\n",
            "Class 2.0:\n",
            "  Precision: 0.5201401050788091\n",
            "  Recall: 0.5303571428571429\n"
          ]
        }
      ]
    },
    {
      "cell_type": "code",
      "source": [
        "from pyspark.ml.classification import DecisionTreeClassifier\n",
        "\n",
        "dt = DecisionTreeClassifier(featuresCol=\"features\", labelCol=\"label\")\n",
        "\n",
        "paramGrid = ParamGridBuilder() \\\n",
        "    .addGrid(dt.maxDepth, [5, 10]) \\\n",
        "    .build()\n",
        "\n",
        "pipeline = Pipeline(stages=[label_indexer, assembler, dt])\n",
        "\n",
        "cv = CrossValidator(estimator=pipeline,\n",
        "                    estimatorParamMaps=paramGrid,\n",
        "                    evaluator=evaluator,\n",
        "                    numFolds=5)\n",
        "\n",
        "dt_model = cv.fit(spark_df)\n",
        "print(\"Decision Tree Accuracy:\", evaluator.evaluate(dt_model.transform(spark_df)))\n",
        "\n",
        "# Dự đoán trên dữ liệu\n",
        "predictions = dt_model.transform(spark_df)\n",
        "print(\"Random Forest Accuracy:\", evaluator.evaluate(dt_model.transform(spark_df)))\n",
        "\n",
        "# Tính toán accuracy\n",
        "accuracy = evaluator.setMetricName(\"accuracy\").evaluate(predictions)\n",
        "print(\"Accuracy:\", accuracy)\n",
        "\n",
        "# Tính toán precision\n",
        "precision = evaluator.setMetricName(\"weightedPrecision\").evaluate(predictions)\n",
        "print(\"Precision:\", precision)\n",
        "\n",
        "# Tính toán recall\n",
        "recall = evaluator.setMetricName(\"weightedRecall\").evaluate(predictions)\n",
        "print(\"Recall:\", recall)\n",
        "\n",
        "# Ma trận nhầm lẫn\n",
        "predictionAndLabels = predictions.select(\"prediction\", \"label\").rdd\n",
        "metrics = MulticlassMetrics(predictionAndLabels)\n",
        "\n",
        "# In ma trận nhầm lẫn\n",
        "confusion_matrix = metrics.confusionMatrix().toArray()\n",
        "print(\"Confusion Matrix:\")\n",
        "print(confusion_matrix)\n",
        "\n",
        "# Các metric khác như True Positive Rate, False Positive Rate, v.v.\n",
        "labels = predictions.select(\"label\").distinct().rdd.flatMap(lambda x: x).collect()\n",
        "\n",
        "for label in labels:\n",
        "    print(f\"Class {label}:\")\n",
        "    print(f\"  Precision: {metrics.precision(label)}\")\n",
        "    print(f\"  Recall: {metrics.recall(label)}\")"
      ],
      "metadata": {
        "colab": {
          "base_uri": "https://localhost:8080/"
        },
        "id": "cqsKQas7rLwU",
        "outputId": "eac1b58e-ff54-49c5-a708-69bcd217dbd7"
      },
      "execution_count": 32,
      "outputs": [
        {
          "output_type": "stream",
          "name": "stdout",
          "text": [
            "Decision Tree Accuracy: 0.6246085011185681\n",
            "Random Forest Accuracy: 0.6246085011185681\n",
            "Accuracy: 0.6246085011185682\n",
            "Precision: 0.6400551456326297\n",
            "Recall: 0.6246085011185681\n",
            "Confusion Matrix:\n",
            "[[433.  99.  26.   2.]\n",
            " [101. 305. 141.  13.]\n",
            " [ 24. 123. 341.  72.]\n",
            " [ 30.  51. 157. 317.]]\n",
            "Class 0.0:\n",
            "  Precision: 0.7363945578231292\n",
            "  Recall: 0.7732142857142857\n",
            "Class 1.0:\n",
            "  Precision: 0.527681660899654\n",
            "  Recall: 0.5446428571428571\n",
            "Class 3.0:\n",
            "  Precision: 0.7846534653465347\n",
            "  Recall: 0.5711711711711712\n",
            "Class 2.0:\n",
            "  Precision: 0.512781954887218\n",
            "  Recall: 0.6089285714285714\n"
          ]
        }
      ]
    },
    {
      "cell_type": "code",
      "source": [
        "# Lưu mô hình\n",
        "rf_model.write().overwrite().save(\"models/rf_model\")\n",
        "lr_model.write().overwrite().save(\"models/lr_model\")\n",
        "dt_model.write().overwrite().save(\"models/dt_model\")"
      ],
      "metadata": {
        "id": "ITeZZL32tUmm"
      },
      "execution_count": 33,
      "outputs": []
    },
    {
      "cell_type": "code",
      "source": [
        "from pyspark.ml.tuning import CrossValidatorModel\n",
        "\n",
        "# Đọc mô hình đã lưu\n",
        "rf_model = CrossValidatorModel.load(\"/content/drive/My Drive/Fastf1/models/rf_model\")\n",
        "lr_model = CrossValidatorModel.load(\"/content/drive/My Drive/Fastf1/models/lr_model\")\n",
        "dt_model = CrossValidatorModel.load(\"/content/drive/My Drive/Fastf1/models/dt_model\")\n",
        "\n",
        "# In ra các tham số tốt nhất của từng mô hình\n",
        "print(\"=== Random Forest Best Params ===\")\n",
        "print(rf_model.bestModel.stages[-1].extractParamMap())\n",
        "\n",
        "print(\"\\n=== Logistic Regression Best Params ===\")\n",
        "print(lr_model.bestModel.stages[-1].extractParamMap())\n",
        "\n",
        "print(\"\\n=== Decision Tree Best Params ===\")\n",
        "print(dt_model.bestModel.stages[-1].extractParamMap())"
      ],
      "metadata": {
        "colab": {
          "base_uri": "https://localhost:8080/"
        },
        "id": "USIirt_SPDAu",
        "outputId": "d62ebccd-3241-464c-e62a-c6b0676ee8da"
      },
      "execution_count": 63,
      "outputs": [
        {
          "output_type": "stream",
          "name": "stdout",
          "text": [
            "=== Random Forest Best Params ===\n",
            "{Param(parent='RandomForestClassifier_3c3e5c87b57b', name='bootstrap', doc='Whether bootstrap samples are used when building trees.'): True, Param(parent='RandomForestClassifier_3c3e5c87b57b', name='cacheNodeIds', doc='If false, the algorithm will pass trees to executors to match instances with nodes. If true, the algorithm will cache node IDs for each instance. Caching can speed up training of deeper trees. Users can set how often should the cache be checkpointed or disable it by setting checkpointInterval.'): False, Param(parent='RandomForestClassifier_3c3e5c87b57b', name='checkpointInterval', doc='set checkpoint interval (>= 1) or disable checkpoint (-1). E.g. 10 means that the cache will get checkpointed every 10 iterations. Note: this setting will be ignored if the checkpoint directory is not set in the SparkContext.'): 10, Param(parent='RandomForestClassifier_3c3e5c87b57b', name='featureSubsetStrategy', doc=\"The number of features to consider for splits at each tree node. Supported options: 'auto' (choose automatically for task: If numTrees == 1, set to 'all'. If numTrees > 1 (forest), set to 'sqrt' for classification and to 'onethird' for regression), 'all' (use all features), 'onethird' (use 1/3 of the features), 'sqrt' (use sqrt(number of features)), 'log2' (use log2(number of features)), 'n' (when n is in the range (0, 1.0], use n * number of features. When n is in the range (1, number of features), use n features). default = 'auto'\"): 'auto', Param(parent='RandomForestClassifier_3c3e5c87b57b', name='featuresCol', doc='features column name.'): 'features', Param(parent='RandomForestClassifier_3c3e5c87b57b', name='impurity', doc='Criterion used for information gain calculation (case-insensitive). Supported options: entropy, gini'): 'gini', Param(parent='RandomForestClassifier_3c3e5c87b57b', name='labelCol', doc='label column name.'): 'label', Param(parent='RandomForestClassifier_3c3e5c87b57b', name='leafCol', doc='Leaf indices column name. Predicted leaf index of each instance in each tree by preorder.'): '', Param(parent='RandomForestClassifier_3c3e5c87b57b', name='maxBins', doc='Max number of bins for discretizing continuous features.  Must be >=2 and >= number of categories for any categorical feature.'): 32, Param(parent='RandomForestClassifier_3c3e5c87b57b', name='maxDepth', doc='Maximum depth of the tree. (>= 0) E.g., depth 0 means 1 leaf node; depth 1 means 1 internal node + 2 leaf nodes. Must be in range [0, 30].'): 10, Param(parent='RandomForestClassifier_3c3e5c87b57b', name='maxMemoryInMB', doc='Maximum memory in MB allocated to histogram aggregation. If too small, then 1 node will be split per iteration, and its aggregates may exceed this size.'): 256, Param(parent='RandomForestClassifier_3c3e5c87b57b', name='minInfoGain', doc='Minimum information gain for a split to be considered at a tree node.'): 0.0, Param(parent='RandomForestClassifier_3c3e5c87b57b', name='minInstancesPerNode', doc='Minimum number of instances each child must have after split. If a split causes the left or right child to have fewer than minInstancesPerNode, the split will be discarded as invalid. Should be >= 1.'): 1, Param(parent='RandomForestClassifier_3c3e5c87b57b', name='minWeightFractionPerNode', doc='Minimum fraction of the weighted sample count that each child must have after split. If a split causes the fraction of the total weight in the left or right child to be less than minWeightFractionPerNode, the split will be discarded as invalid. Should be in interval [0.0, 0.5).'): 0.0, Param(parent='RandomForestClassifier_3c3e5c87b57b', name='numTrees', doc='Number of trees to train (>= 1).'): 20, Param(parent='RandomForestClassifier_3c3e5c87b57b', name='predictionCol', doc='prediction column name.'): 'prediction', Param(parent='RandomForestClassifier_3c3e5c87b57b', name='probabilityCol', doc='Column name for predicted class conditional probabilities. Note: Not all models output well-calibrated probability estimates! These probabilities should be treated as confidences, not precise probabilities.'): 'probability', Param(parent='RandomForestClassifier_3c3e5c87b57b', name='rawPredictionCol', doc='raw prediction (a.k.a. confidence) column name.'): 'rawPrediction', Param(parent='RandomForestClassifier_3c3e5c87b57b', name='seed', doc='random seed.'): 42, Param(parent='RandomForestClassifier_3c3e5c87b57b', name='subsamplingRate', doc='Fraction of the training data used for learning each decision tree, in range (0, 1].'): 1.0}\n",
            "\n",
            "=== Logistic Regression Best Params ===\n",
            "{Param(parent='LogisticRegression_e282f5a75b16', name='aggregationDepth', doc='suggested depth for treeAggregate (>= 2).'): 2, Param(parent='LogisticRegression_e282f5a75b16', name='elasticNetParam', doc='the ElasticNet mixing parameter, in range [0, 1]. For alpha = 0, the penalty is an L2 penalty. For alpha = 1, it is an L1 penalty.'): 0.0, Param(parent='LogisticRegression_e282f5a75b16', name='family', doc='The name of family which is a description of the label distribution to be used in the model. Supported options: auto, binomial, multinomial'): 'auto', Param(parent='LogisticRegression_e282f5a75b16', name='featuresCol', doc='features column name.'): 'features', Param(parent='LogisticRegression_e282f5a75b16', name='fitIntercept', doc='whether to fit an intercept term.'): True, Param(parent='LogisticRegression_e282f5a75b16', name='labelCol', doc='label column name.'): 'label', Param(parent='LogisticRegression_e282f5a75b16', name='maxBlockSizeInMB', doc='maximum memory in MB for stacking input data into blocks. Data is stacked within partitions. If more than remaining data size in a partition then it is adjusted to the data size. Default 0.0 represents choosing optimal value, depends on specific algorithm. Must be >= 0.'): 0.0, Param(parent='LogisticRegression_e282f5a75b16', name='maxIter', doc='max number of iterations (>= 0).'): 20, Param(parent='LogisticRegression_e282f5a75b16', name='predictionCol', doc='prediction column name.'): 'prediction', Param(parent='LogisticRegression_e282f5a75b16', name='probabilityCol', doc='Column name for predicted class conditional probabilities. Note: Not all models output well-calibrated probability estimates! These probabilities should be treated as confidences, not precise probabilities.'): 'probability', Param(parent='LogisticRegression_e282f5a75b16', name='rawPredictionCol', doc='raw prediction (a.k.a. confidence) column name.'): 'rawPrediction', Param(parent='LogisticRegression_e282f5a75b16', name='regParam', doc='regularization parameter (>= 0).'): 0.01, Param(parent='LogisticRegression_e282f5a75b16', name='standardization', doc='whether to standardize the training features before fitting the model.'): True, Param(parent='LogisticRegression_e282f5a75b16', name='threshold', doc='Threshold in binary classification prediction, in range [0, 1]. If threshold and thresholds are both set, they must match.e.g. if threshold is p, then thresholds must be equal to [1-p, p].'): 0.5, Param(parent='LogisticRegression_e282f5a75b16', name='tol', doc='the convergence tolerance for iterative algorithms (>= 0).'): 1e-06}\n",
            "\n",
            "=== Decision Tree Best Params ===\n",
            "{Param(parent='DecisionTreeClassifier_7d9611a2c1a7', name='cacheNodeIds', doc='If false, the algorithm will pass trees to executors to match instances with nodes. If true, the algorithm will cache node IDs for each instance. Caching can speed up training of deeper trees. Users can set how often should the cache be checkpointed or disable it by setting checkpointInterval.'): False, Param(parent='DecisionTreeClassifier_7d9611a2c1a7', name='checkpointInterval', doc='set checkpoint interval (>= 1) or disable checkpoint (-1). E.g. 10 means that the cache will get checkpointed every 10 iterations. Note: this setting will be ignored if the checkpoint directory is not set in the SparkContext.'): 10, Param(parent='DecisionTreeClassifier_7d9611a2c1a7', name='featuresCol', doc='features column name.'): 'features', Param(parent='DecisionTreeClassifier_7d9611a2c1a7', name='impurity', doc='Criterion used for information gain calculation (case-insensitive). Supported options: entropy, gini'): 'gini', Param(parent='DecisionTreeClassifier_7d9611a2c1a7', name='labelCol', doc='label column name.'): 'label', Param(parent='DecisionTreeClassifier_7d9611a2c1a7', name='leafCol', doc='Leaf indices column name. Predicted leaf index of each instance in each tree by preorder.'): '', Param(parent='DecisionTreeClassifier_7d9611a2c1a7', name='maxBins', doc='Max number of bins for discretizing continuous features.  Must be >=2 and >= number of categories for any categorical feature.'): 32, Param(parent='DecisionTreeClassifier_7d9611a2c1a7', name='maxDepth', doc='Maximum depth of the tree. (>= 0) E.g., depth 0 means 1 leaf node; depth 1 means 1 internal node + 2 leaf nodes. Must be in range [0, 30].'): 5, Param(parent='DecisionTreeClassifier_7d9611a2c1a7', name='maxMemoryInMB', doc='Maximum memory in MB allocated to histogram aggregation. If too small, then 1 node will be split per iteration, and its aggregates may exceed this size.'): 256, Param(parent='DecisionTreeClassifier_7d9611a2c1a7', name='minInfoGain', doc='Minimum information gain for a split to be considered at a tree node.'): 0.0, Param(parent='DecisionTreeClassifier_7d9611a2c1a7', name='minInstancesPerNode', doc='Minimum number of instances each child must have after split. If a split causes the left or right child to have fewer than minInstancesPerNode, the split will be discarded as invalid. Should be >= 1.'): 1, Param(parent='DecisionTreeClassifier_7d9611a2c1a7', name='minWeightFractionPerNode', doc='Minimum fraction of the weighted sample count that each child must have after split. If a split causes the fraction of the total weight in the left or right child to be less than minWeightFractionPerNode, the split will be discarded as invalid. Should be in interval [0.0, 0.5).'): 0.0, Param(parent='DecisionTreeClassifier_7d9611a2c1a7', name='predictionCol', doc='prediction column name.'): 'prediction', Param(parent='DecisionTreeClassifier_7d9611a2c1a7', name='probabilityCol', doc='Column name for predicted class conditional probabilities. Note: Not all models output well-calibrated probability estimates! These probabilities should be treated as confidences, not precise probabilities.'): 'probability', Param(parent='DecisionTreeClassifier_7d9611a2c1a7', name='rawPredictionCol', doc='raw prediction (a.k.a. confidence) column name.'): 'rawPrediction', Param(parent='DecisionTreeClassifier_7d9611a2c1a7', name='seed', doc='random seed.'): -4780690651711812290}\n"
          ]
        }
      ]
    },
    {
      "cell_type": "code",
      "source": [
        "import pandas as pd\n",
        "\n",
        "def extract_param_map(param_map):\n",
        "    return {param.name: value for param, value in param_map.items()}\n",
        "\n",
        "# Get best models from CrossValidatorModels\n",
        "rf_best_model = rf_model.bestModel\n",
        "lr_best_model = lr_model.bestModel\n",
        "dt_best_model = dt_model.bestModel\n",
        "\n",
        "# Get best param maps\n",
        "rf_params = extract_param_map(rf_best_model.stages[-1].extractParamMap())\n",
        "lr_params = extract_param_map(lr_best_model.stages[-1].extractParamMap())\n",
        "dt_params = extract_param_map(dt_best_model.stages[-1].extractParamMap())\n",
        "\n",
        "# Convert to DataFrame\n",
        "df_params = pd.DataFrame({\n",
        "    \"Random Forest\": pd.Series(rf_params),\n",
        "    \"Logistic Regression\": pd.Series(lr_params),\n",
        "    \"Decision Tree\": pd.Series(dt_params),\n",
        "})\n",
        "\n",
        "# Print the table\n",
        "df_params"
      ],
      "metadata": {
        "colab": {
          "base_uri": "https://localhost:8080/",
          "height": 990
        },
        "id": "lQfvALhhQuDG",
        "outputId": "0b31ceec-b671-4139-9e3d-a5100f3df361"
      },
      "execution_count": null,
      "outputs": [
        {
          "output_type": "execute_result",
          "data": {
            "text/plain": [
              "                          Random Forest Logistic Regression  \\\n",
              "aggregationDepth                    NaN                   2   \n",
              "bootstrap                          True                 NaN   \n",
              "cacheNodeIds                      False                 NaN   \n",
              "checkpointInterval                   10                 NaN   \n",
              "elasticNetParam                     NaN                 0.0   \n",
              "family                              NaN                auto   \n",
              "featureSubsetStrategy              auto                 NaN   \n",
              "featuresCol                    features            features   \n",
              "fitIntercept                        NaN                True   \n",
              "impurity                           gini                 NaN   \n",
              "labelCol                          label               label   \n",
              "leafCol                                                 NaN   \n",
              "maxBins                              32                 NaN   \n",
              "maxBlockSizeInMB                    NaN                 0.0   \n",
              "maxDepth                             10                 NaN   \n",
              "maxIter                             NaN                  20   \n",
              "maxMemoryInMB                       256                 NaN   \n",
              "minInfoGain                         0.0                 NaN   \n",
              "minInstancesPerNode                   1                 NaN   \n",
              "minWeightFractionPerNode            0.0                 NaN   \n",
              "numTrees                             20                 NaN   \n",
              "predictionCol                prediction          prediction   \n",
              "probabilityCol              probability         probability   \n",
              "rawPredictionCol          rawPrediction       rawPrediction   \n",
              "regParam                            NaN                0.01   \n",
              "seed                                 42                 NaN   \n",
              "standardization                     NaN                True   \n",
              "subsamplingRate                     1.0                 NaN   \n",
              "threshold                           NaN                 0.5   \n",
              "tol                                 NaN            0.000001   \n",
              "\n",
              "                               Decision Tree  \n",
              "aggregationDepth                         NaN  \n",
              "bootstrap                                NaN  \n",
              "cacheNodeIds                           False  \n",
              "checkpointInterval                        10  \n",
              "elasticNetParam                          NaN  \n",
              "family                                   NaN  \n",
              "featureSubsetStrategy                    NaN  \n",
              "featuresCol                         features  \n",
              "fitIntercept                             NaN  \n",
              "impurity                                gini  \n",
              "labelCol                               label  \n",
              "leafCol                                       \n",
              "maxBins                                   32  \n",
              "maxBlockSizeInMB                         NaN  \n",
              "maxDepth                                   5  \n",
              "maxIter                                  NaN  \n",
              "maxMemoryInMB                            256  \n",
              "minInfoGain                              0.0  \n",
              "minInstancesPerNode                        1  \n",
              "minWeightFractionPerNode                 0.0  \n",
              "numTrees                                 NaN  \n",
              "predictionCol                     prediction  \n",
              "probabilityCol                   probability  \n",
              "rawPredictionCol               rawPrediction  \n",
              "regParam                                 NaN  \n",
              "seed                      765638508776775914  \n",
              "standardization                          NaN  \n",
              "subsamplingRate                          NaN  \n",
              "threshold                                NaN  \n",
              "tol                                      NaN  "
            ],
            "text/html": [
              "\n",
              "  <div id=\"df-8a020118-931a-4632-a974-b6309b74b85d\" class=\"colab-df-container\">\n",
              "    <div>\n",
              "<style scoped>\n",
              "    .dataframe tbody tr th:only-of-type {\n",
              "        vertical-align: middle;\n",
              "    }\n",
              "\n",
              "    .dataframe tbody tr th {\n",
              "        vertical-align: top;\n",
              "    }\n",
              "\n",
              "    .dataframe thead th {\n",
              "        text-align: right;\n",
              "    }\n",
              "</style>\n",
              "<table border=\"1\" class=\"dataframe\">\n",
              "  <thead>\n",
              "    <tr style=\"text-align: right;\">\n",
              "      <th></th>\n",
              "      <th>Random Forest</th>\n",
              "      <th>Logistic Regression</th>\n",
              "      <th>Decision Tree</th>\n",
              "    </tr>\n",
              "  </thead>\n",
              "  <tbody>\n",
              "    <tr>\n",
              "      <th>aggregationDepth</th>\n",
              "      <td>NaN</td>\n",
              "      <td>2</td>\n",
              "      <td>NaN</td>\n",
              "    </tr>\n",
              "    <tr>\n",
              "      <th>bootstrap</th>\n",
              "      <td>True</td>\n",
              "      <td>NaN</td>\n",
              "      <td>NaN</td>\n",
              "    </tr>\n",
              "    <tr>\n",
              "      <th>cacheNodeIds</th>\n",
              "      <td>False</td>\n",
              "      <td>NaN</td>\n",
              "      <td>False</td>\n",
              "    </tr>\n",
              "    <tr>\n",
              "      <th>checkpointInterval</th>\n",
              "      <td>10</td>\n",
              "      <td>NaN</td>\n",
              "      <td>10</td>\n",
              "    </tr>\n",
              "    <tr>\n",
              "      <th>elasticNetParam</th>\n",
              "      <td>NaN</td>\n",
              "      <td>0.0</td>\n",
              "      <td>NaN</td>\n",
              "    </tr>\n",
              "    <tr>\n",
              "      <th>family</th>\n",
              "      <td>NaN</td>\n",
              "      <td>auto</td>\n",
              "      <td>NaN</td>\n",
              "    </tr>\n",
              "    <tr>\n",
              "      <th>featureSubsetStrategy</th>\n",
              "      <td>auto</td>\n",
              "      <td>NaN</td>\n",
              "      <td>NaN</td>\n",
              "    </tr>\n",
              "    <tr>\n",
              "      <th>featuresCol</th>\n",
              "      <td>features</td>\n",
              "      <td>features</td>\n",
              "      <td>features</td>\n",
              "    </tr>\n",
              "    <tr>\n",
              "      <th>fitIntercept</th>\n",
              "      <td>NaN</td>\n",
              "      <td>True</td>\n",
              "      <td>NaN</td>\n",
              "    </tr>\n",
              "    <tr>\n",
              "      <th>impurity</th>\n",
              "      <td>gini</td>\n",
              "      <td>NaN</td>\n",
              "      <td>gini</td>\n",
              "    </tr>\n",
              "    <tr>\n",
              "      <th>labelCol</th>\n",
              "      <td>label</td>\n",
              "      <td>label</td>\n",
              "      <td>label</td>\n",
              "    </tr>\n",
              "    <tr>\n",
              "      <th>leafCol</th>\n",
              "      <td></td>\n",
              "      <td>NaN</td>\n",
              "      <td></td>\n",
              "    </tr>\n",
              "    <tr>\n",
              "      <th>maxBins</th>\n",
              "      <td>32</td>\n",
              "      <td>NaN</td>\n",
              "      <td>32</td>\n",
              "    </tr>\n",
              "    <tr>\n",
              "      <th>maxBlockSizeInMB</th>\n",
              "      <td>NaN</td>\n",
              "      <td>0.0</td>\n",
              "      <td>NaN</td>\n",
              "    </tr>\n",
              "    <tr>\n",
              "      <th>maxDepth</th>\n",
              "      <td>10</td>\n",
              "      <td>NaN</td>\n",
              "      <td>5</td>\n",
              "    </tr>\n",
              "    <tr>\n",
              "      <th>maxIter</th>\n",
              "      <td>NaN</td>\n",
              "      <td>20</td>\n",
              "      <td>NaN</td>\n",
              "    </tr>\n",
              "    <tr>\n",
              "      <th>maxMemoryInMB</th>\n",
              "      <td>256</td>\n",
              "      <td>NaN</td>\n",
              "      <td>256</td>\n",
              "    </tr>\n",
              "    <tr>\n",
              "      <th>minInfoGain</th>\n",
              "      <td>0.0</td>\n",
              "      <td>NaN</td>\n",
              "      <td>0.0</td>\n",
              "    </tr>\n",
              "    <tr>\n",
              "      <th>minInstancesPerNode</th>\n",
              "      <td>1</td>\n",
              "      <td>NaN</td>\n",
              "      <td>1</td>\n",
              "    </tr>\n",
              "    <tr>\n",
              "      <th>minWeightFractionPerNode</th>\n",
              "      <td>0.0</td>\n",
              "      <td>NaN</td>\n",
              "      <td>0.0</td>\n",
              "    </tr>\n",
              "    <tr>\n",
              "      <th>numTrees</th>\n",
              "      <td>20</td>\n",
              "      <td>NaN</td>\n",
              "      <td>NaN</td>\n",
              "    </tr>\n",
              "    <tr>\n",
              "      <th>predictionCol</th>\n",
              "      <td>prediction</td>\n",
              "      <td>prediction</td>\n",
              "      <td>prediction</td>\n",
              "    </tr>\n",
              "    <tr>\n",
              "      <th>probabilityCol</th>\n",
              "      <td>probability</td>\n",
              "      <td>probability</td>\n",
              "      <td>probability</td>\n",
              "    </tr>\n",
              "    <tr>\n",
              "      <th>rawPredictionCol</th>\n",
              "      <td>rawPrediction</td>\n",
              "      <td>rawPrediction</td>\n",
              "      <td>rawPrediction</td>\n",
              "    </tr>\n",
              "    <tr>\n",
              "      <th>regParam</th>\n",
              "      <td>NaN</td>\n",
              "      <td>0.01</td>\n",
              "      <td>NaN</td>\n",
              "    </tr>\n",
              "    <tr>\n",
              "      <th>seed</th>\n",
              "      <td>42</td>\n",
              "      <td>NaN</td>\n",
              "      <td>765638508776775914</td>\n",
              "    </tr>\n",
              "    <tr>\n",
              "      <th>standardization</th>\n",
              "      <td>NaN</td>\n",
              "      <td>True</td>\n",
              "      <td>NaN</td>\n",
              "    </tr>\n",
              "    <tr>\n",
              "      <th>subsamplingRate</th>\n",
              "      <td>1.0</td>\n",
              "      <td>NaN</td>\n",
              "      <td>NaN</td>\n",
              "    </tr>\n",
              "    <tr>\n",
              "      <th>threshold</th>\n",
              "      <td>NaN</td>\n",
              "      <td>0.5</td>\n",
              "      <td>NaN</td>\n",
              "    </tr>\n",
              "    <tr>\n",
              "      <th>tol</th>\n",
              "      <td>NaN</td>\n",
              "      <td>0.000001</td>\n",
              "      <td>NaN</td>\n",
              "    </tr>\n",
              "  </tbody>\n",
              "</table>\n",
              "</div>\n",
              "    <div class=\"colab-df-buttons\">\n",
              "\n",
              "  <div class=\"colab-df-container\">\n",
              "    <button class=\"colab-df-convert\" onclick=\"convertToInteractive('df-8a020118-931a-4632-a974-b6309b74b85d')\"\n",
              "            title=\"Convert this dataframe to an interactive table.\"\n",
              "            style=\"display:none;\">\n",
              "\n",
              "  <svg xmlns=\"http://www.w3.org/2000/svg\" height=\"24px\" viewBox=\"0 -960 960 960\">\n",
              "    <path d=\"M120-120v-720h720v720H120Zm60-500h600v-160H180v160Zm220 220h160v-160H400v160Zm0 220h160v-160H400v160ZM180-400h160v-160H180v160Zm440 0h160v-160H620v160ZM180-180h160v-160H180v160Zm440 0h160v-160H620v160Z\"/>\n",
              "  </svg>\n",
              "    </button>\n",
              "\n",
              "  <style>\n",
              "    .colab-df-container {\n",
              "      display:flex;\n",
              "      gap: 12px;\n",
              "    }\n",
              "\n",
              "    .colab-df-convert {\n",
              "      background-color: #E8F0FE;\n",
              "      border: none;\n",
              "      border-radius: 50%;\n",
              "      cursor: pointer;\n",
              "      display: none;\n",
              "      fill: #1967D2;\n",
              "      height: 32px;\n",
              "      padding: 0 0 0 0;\n",
              "      width: 32px;\n",
              "    }\n",
              "\n",
              "    .colab-df-convert:hover {\n",
              "      background-color: #E2EBFA;\n",
              "      box-shadow: 0px 1px 2px rgba(60, 64, 67, 0.3), 0px 1px 3px 1px rgba(60, 64, 67, 0.15);\n",
              "      fill: #174EA6;\n",
              "    }\n",
              "\n",
              "    .colab-df-buttons div {\n",
              "      margin-bottom: 4px;\n",
              "    }\n",
              "\n",
              "    [theme=dark] .colab-df-convert {\n",
              "      background-color: #3B4455;\n",
              "      fill: #D2E3FC;\n",
              "    }\n",
              "\n",
              "    [theme=dark] .colab-df-convert:hover {\n",
              "      background-color: #434B5C;\n",
              "      box-shadow: 0px 1px 3px 1px rgba(0, 0, 0, 0.15);\n",
              "      filter: drop-shadow(0px 1px 2px rgba(0, 0, 0, 0.3));\n",
              "      fill: #FFFFFF;\n",
              "    }\n",
              "  </style>\n",
              "\n",
              "    <script>\n",
              "      const buttonEl =\n",
              "        document.querySelector('#df-8a020118-931a-4632-a974-b6309b74b85d button.colab-df-convert');\n",
              "      buttonEl.style.display =\n",
              "        google.colab.kernel.accessAllowed ? 'block' : 'none';\n",
              "\n",
              "      async function convertToInteractive(key) {\n",
              "        const element = document.querySelector('#df-8a020118-931a-4632-a974-b6309b74b85d');\n",
              "        const dataTable =\n",
              "          await google.colab.kernel.invokeFunction('convertToInteractive',\n",
              "                                                    [key], {});\n",
              "        if (!dataTable) return;\n",
              "\n",
              "        const docLinkHtml = 'Like what you see? Visit the ' +\n",
              "          '<a target=\"_blank\" href=https://colab.research.google.com/notebooks/data_table.ipynb>data table notebook</a>'\n",
              "          + ' to learn more about interactive tables.';\n",
              "        element.innerHTML = '';\n",
              "        dataTable['output_type'] = 'display_data';\n",
              "        await google.colab.output.renderOutput(dataTable, element);\n",
              "        const docLink = document.createElement('div');\n",
              "        docLink.innerHTML = docLinkHtml;\n",
              "        element.appendChild(docLink);\n",
              "      }\n",
              "    </script>\n",
              "  </div>\n",
              "\n",
              "\n",
              "    <div id=\"df-814c0dbb-3c6d-455e-a3dd-aa52c90ccecb\">\n",
              "      <button class=\"colab-df-quickchart\" onclick=\"quickchart('df-814c0dbb-3c6d-455e-a3dd-aa52c90ccecb')\"\n",
              "                title=\"Suggest charts\"\n",
              "                style=\"display:none;\">\n",
              "\n",
              "<svg xmlns=\"http://www.w3.org/2000/svg\" height=\"24px\"viewBox=\"0 0 24 24\"\n",
              "     width=\"24px\">\n",
              "    <g>\n",
              "        <path d=\"M19 3H5c-1.1 0-2 .9-2 2v14c0 1.1.9 2 2 2h14c1.1 0 2-.9 2-2V5c0-1.1-.9-2-2-2zM9 17H7v-7h2v7zm4 0h-2V7h2v10zm4 0h-2v-4h2v4z\"/>\n",
              "    </g>\n",
              "</svg>\n",
              "      </button>\n",
              "\n",
              "<style>\n",
              "  .colab-df-quickchart {\n",
              "      --bg-color: #E8F0FE;\n",
              "      --fill-color: #1967D2;\n",
              "      --hover-bg-color: #E2EBFA;\n",
              "      --hover-fill-color: #174EA6;\n",
              "      --disabled-fill-color: #AAA;\n",
              "      --disabled-bg-color: #DDD;\n",
              "  }\n",
              "\n",
              "  [theme=dark] .colab-df-quickchart {\n",
              "      --bg-color: #3B4455;\n",
              "      --fill-color: #D2E3FC;\n",
              "      --hover-bg-color: #434B5C;\n",
              "      --hover-fill-color: #FFFFFF;\n",
              "      --disabled-bg-color: #3B4455;\n",
              "      --disabled-fill-color: #666;\n",
              "  }\n",
              "\n",
              "  .colab-df-quickchart {\n",
              "    background-color: var(--bg-color);\n",
              "    border: none;\n",
              "    border-radius: 50%;\n",
              "    cursor: pointer;\n",
              "    display: none;\n",
              "    fill: var(--fill-color);\n",
              "    height: 32px;\n",
              "    padding: 0;\n",
              "    width: 32px;\n",
              "  }\n",
              "\n",
              "  .colab-df-quickchart:hover {\n",
              "    background-color: var(--hover-bg-color);\n",
              "    box-shadow: 0 1px 2px rgba(60, 64, 67, 0.3), 0 1px 3px 1px rgba(60, 64, 67, 0.15);\n",
              "    fill: var(--button-hover-fill-color);\n",
              "  }\n",
              "\n",
              "  .colab-df-quickchart-complete:disabled,\n",
              "  .colab-df-quickchart-complete:disabled:hover {\n",
              "    background-color: var(--disabled-bg-color);\n",
              "    fill: var(--disabled-fill-color);\n",
              "    box-shadow: none;\n",
              "  }\n",
              "\n",
              "  .colab-df-spinner {\n",
              "    border: 2px solid var(--fill-color);\n",
              "    border-color: transparent;\n",
              "    border-bottom-color: var(--fill-color);\n",
              "    animation:\n",
              "      spin 1s steps(1) infinite;\n",
              "  }\n",
              "\n",
              "  @keyframes spin {\n",
              "    0% {\n",
              "      border-color: transparent;\n",
              "      border-bottom-color: var(--fill-color);\n",
              "      border-left-color: var(--fill-color);\n",
              "    }\n",
              "    20% {\n",
              "      border-color: transparent;\n",
              "      border-left-color: var(--fill-color);\n",
              "      border-top-color: var(--fill-color);\n",
              "    }\n",
              "    30% {\n",
              "      border-color: transparent;\n",
              "      border-left-color: var(--fill-color);\n",
              "      border-top-color: var(--fill-color);\n",
              "      border-right-color: var(--fill-color);\n",
              "    }\n",
              "    40% {\n",
              "      border-color: transparent;\n",
              "      border-right-color: var(--fill-color);\n",
              "      border-top-color: var(--fill-color);\n",
              "    }\n",
              "    60% {\n",
              "      border-color: transparent;\n",
              "      border-right-color: var(--fill-color);\n",
              "    }\n",
              "    80% {\n",
              "      border-color: transparent;\n",
              "      border-right-color: var(--fill-color);\n",
              "      border-bottom-color: var(--fill-color);\n",
              "    }\n",
              "    90% {\n",
              "      border-color: transparent;\n",
              "      border-bottom-color: var(--fill-color);\n",
              "    }\n",
              "  }\n",
              "</style>\n",
              "\n",
              "      <script>\n",
              "        async function quickchart(key) {\n",
              "          const quickchartButtonEl =\n",
              "            document.querySelector('#' + key + ' button');\n",
              "          quickchartButtonEl.disabled = true;  // To prevent multiple clicks.\n",
              "          quickchartButtonEl.classList.add('colab-df-spinner');\n",
              "          try {\n",
              "            const charts = await google.colab.kernel.invokeFunction(\n",
              "                'suggestCharts', [key], {});\n",
              "          } catch (error) {\n",
              "            console.error('Error during call to suggestCharts:', error);\n",
              "          }\n",
              "          quickchartButtonEl.classList.remove('colab-df-spinner');\n",
              "          quickchartButtonEl.classList.add('colab-df-quickchart-complete');\n",
              "        }\n",
              "        (() => {\n",
              "          let quickchartButtonEl =\n",
              "            document.querySelector('#df-814c0dbb-3c6d-455e-a3dd-aa52c90ccecb button');\n",
              "          quickchartButtonEl.style.display =\n",
              "            google.colab.kernel.accessAllowed ? 'block' : 'none';\n",
              "        })();\n",
              "      </script>\n",
              "    </div>\n",
              "\n",
              "  <div id=\"id_9bedb585-4294-4e1b-9d98-925ca4f125a5\">\n",
              "    <style>\n",
              "      .colab-df-generate {\n",
              "        background-color: #E8F0FE;\n",
              "        border: none;\n",
              "        border-radius: 50%;\n",
              "        cursor: pointer;\n",
              "        display: none;\n",
              "        fill: #1967D2;\n",
              "        height: 32px;\n",
              "        padding: 0 0 0 0;\n",
              "        width: 32px;\n",
              "      }\n",
              "\n",
              "      .colab-df-generate:hover {\n",
              "        background-color: #E2EBFA;\n",
              "        box-shadow: 0px 1px 2px rgba(60, 64, 67, 0.3), 0px 1px 3px 1px rgba(60, 64, 67, 0.15);\n",
              "        fill: #174EA6;\n",
              "      }\n",
              "\n",
              "      [theme=dark] .colab-df-generate {\n",
              "        background-color: #3B4455;\n",
              "        fill: #D2E3FC;\n",
              "      }\n",
              "\n",
              "      [theme=dark] .colab-df-generate:hover {\n",
              "        background-color: #434B5C;\n",
              "        box-shadow: 0px 1px 3px 1px rgba(0, 0, 0, 0.15);\n",
              "        filter: drop-shadow(0px 1px 2px rgba(0, 0, 0, 0.3));\n",
              "        fill: #FFFFFF;\n",
              "      }\n",
              "    </style>\n",
              "    <button class=\"colab-df-generate\" onclick=\"generateWithVariable('df_params')\"\n",
              "            title=\"Generate code using this dataframe.\"\n",
              "            style=\"display:none;\">\n",
              "\n",
              "  <svg xmlns=\"http://www.w3.org/2000/svg\" height=\"24px\"viewBox=\"0 0 24 24\"\n",
              "       width=\"24px\">\n",
              "    <path d=\"M7,19H8.4L18.45,9,17,7.55,7,17.6ZM5,21V16.75L18.45,3.32a2,2,0,0,1,2.83,0l1.4,1.43a1.91,1.91,0,0,1,.58,1.4,1.91,1.91,0,0,1-.58,1.4L9.25,21ZM18.45,9,17,7.55Zm-12,3A5.31,5.31,0,0,0,4.9,8.1,5.31,5.31,0,0,0,1,6.5,5.31,5.31,0,0,0,4.9,4.9,5.31,5.31,0,0,0,6.5,1,5.31,5.31,0,0,0,8.1,4.9,5.31,5.31,0,0,0,12,6.5,5.46,5.46,0,0,0,6.5,12Z\"/>\n",
              "  </svg>\n",
              "    </button>\n",
              "    <script>\n",
              "      (() => {\n",
              "      const buttonEl =\n",
              "        document.querySelector('#id_9bedb585-4294-4e1b-9d98-925ca4f125a5 button.colab-df-generate');\n",
              "      buttonEl.style.display =\n",
              "        google.colab.kernel.accessAllowed ? 'block' : 'none';\n",
              "\n",
              "      buttonEl.onclick = () => {\n",
              "        google.colab.notebook.generateWithVariable('df_params');\n",
              "      }\n",
              "      })();\n",
              "    </script>\n",
              "  </div>\n",
              "\n",
              "    </div>\n",
              "  </div>\n"
            ],
            "application/vnd.google.colaboratory.intrinsic+json": {
              "type": "dataframe",
              "variable_name": "df_params",
              "summary": "{\n  \"name\": \"df_params\",\n  \"rows\": 30,\n  \"fields\": [\n    {\n      \"column\": \"Random Forest\",\n      \"properties\": {\n        \"dtype\": \"string\",\n        \"num_unique_values\": 15,\n        \"samples\": [\n          256,\n          \"prediction\",\n          true\n        ],\n        \"semantic_type\": \"\",\n        \"description\": \"\"\n      }\n    },\n    {\n      \"column\": \"Logistic Regression\",\n      \"properties\": {\n        \"dtype\": \"category\",\n        \"num_unique_values\": 13,\n        \"samples\": [\n          0.5,\n          \"rawPrediction\",\n          2\n        ],\n        \"semantic_type\": \"\",\n        \"description\": \"\"\n      }\n    },\n    {\n      \"column\": \"Decision Tree\",\n      \"properties\": {\n        \"dtype\": \"category\",\n        \"num_unique_values\": 14,\n        \"samples\": [\n          1,\n          \"probability\",\n          false\n        ],\n        \"semantic_type\": \"\",\n        \"description\": \"\"\n      }\n    }\n  ]\n}"
            }
          },
          "metadata": {},
          "execution_count": 33
        }
      ]
    },
    {
      "source": [
        "from google.colab import sheets\n",
        "sheet = sheets.InteractiveSheet(df=df_params)"
      ],
      "cell_type": "code",
      "execution_count": null,
      "outputs": [
        {
          "output_type": "stream",
          "name": "stdout",
          "text": [
            "https://docs.google.com/spreadsheets/d/16PkZbo5u5tip5sZtuk-lBqyyzobu95lwNAHivhf1--A/edit#gid=0\n"
          ]
        },
        {
          "output_type": "display_data",
          "data": {
            "text/plain": [
              "<IPython.lib.display.IFrame at 0x7ad92df96dd0>"
            ],
            "text/html": [
              "\n",
              "        <iframe\n",
              "            width=\"100%\"\n",
              "            height=\"600\"\n",
              "            src=\"https://docs.google.com/spreadsheets/d/16PkZbo5u5tip5sZtuk-lBqyyzobu95lwNAHivhf1--A/edit?rm=embedded#gid=0\"\n",
              "            frameborder=\"0\"\n",
              "            allowfullscreen\n",
              "            \n",
              "        ></iframe>\n",
              "        "
            ]
          },
          "metadata": {}
        }
      ],
      "metadata": {
        "cellView": "form",
        "colab": {
          "base_uri": "https://localhost:8080/",
          "height": 639
        },
        "id": "gROvvWNpRStW",
        "outputId": "07bc3e84-e327-4dd6-da4b-37faa225dfcd"
      }
    },
    {
      "cell_type": "code",
      "source": [
        "import shutil\n",
        "import os\n",
        "\n",
        "# Create the zip file\n",
        "shutil.make_archive(\"/content/models\", 'zip', \"/content/models\")\n",
        "\n",
        "# Download the zip file\n",
        "from google.colab import files\n",
        "files.download(\"/content/models.zip\")"
      ],
      "metadata": {
        "colab": {
          "base_uri": "https://localhost:8080/",
          "height": 17
        },
        "id": "Kg8ZDk80y_QE",
        "outputId": "2855b6be-4320-4485-d6a4-27fc9b45e650"
      },
      "execution_count": null,
      "outputs": [
        {
          "output_type": "display_data",
          "data": {
            "text/plain": [
              "<IPython.core.display.Javascript object>"
            ],
            "application/javascript": [
              "\n",
              "    async function download(id, filename, size) {\n",
              "      if (!google.colab.kernel.accessAllowed) {\n",
              "        return;\n",
              "      }\n",
              "      const div = document.createElement('div');\n",
              "      const label = document.createElement('label');\n",
              "      label.textContent = `Downloading \"${filename}\": `;\n",
              "      div.appendChild(label);\n",
              "      const progress = document.createElement('progress');\n",
              "      progress.max = size;\n",
              "      div.appendChild(progress);\n",
              "      document.body.appendChild(div);\n",
              "\n",
              "      const buffers = [];\n",
              "      let downloaded = 0;\n",
              "\n",
              "      const channel = await google.colab.kernel.comms.open(id);\n",
              "      // Send a message to notify the kernel that we're ready.\n",
              "      channel.send({})\n",
              "\n",
              "      for await (const message of channel.messages) {\n",
              "        // Send a message to notify the kernel that we're ready.\n",
              "        channel.send({})\n",
              "        if (message.buffers) {\n",
              "          for (const buffer of message.buffers) {\n",
              "            buffers.push(buffer);\n",
              "            downloaded += buffer.byteLength;\n",
              "            progress.value = downloaded;\n",
              "          }\n",
              "        }\n",
              "      }\n",
              "      const blob = new Blob(buffers, {type: 'application/binary'});\n",
              "      const a = document.createElement('a');\n",
              "      a.href = window.URL.createObjectURL(blob);\n",
              "      a.download = filename;\n",
              "      div.appendChild(a);\n",
              "      a.click();\n",
              "      div.remove();\n",
              "    }\n",
              "  "
            ]
          },
          "metadata": {}
        },
        {
          "output_type": "display_data",
          "data": {
            "text/plain": [
              "<IPython.core.display.Javascript object>"
            ],
            "application/javascript": [
              "download(\"download_39c4043b-0967-475d-ae35-54743935ba7b\", \"models.zip\", 214158)"
            ]
          },
          "metadata": {}
        }
      ]
    },
    {
      "cell_type": "markdown",
      "source": [
        "###### __DEEP LEARNING__"
      ],
      "metadata": {
        "id": "FSSzm0h2AViI"
      }
    },
    {
      "cell_type": "code",
      "source": [
        "from pyspark.sql import SparkSession\n",
        "from pyspark.ml.feature import VectorAssembler, StandardScaler\n",
        "from pyspark.ml import Pipeline"
      ],
      "metadata": {
        "id": "ZRXXyxMQAnRR"
      },
      "execution_count": 34,
      "outputs": []
    },
    {
      "cell_type": "code",
      "source": [
        "# Tách các feature columns\n",
        "feature_cols = [col for col in spark_df.columns if col != \"PositionGroup\"]\n",
        "assembler = VectorAssembler(inputCols=feature_cols, outputCol=\"features_vec\")\n",
        "scaler = StandardScaler(inputCol=\"features_vec\", outputCol=\"features_scaled\")\n",
        "\n",
        "pipeline = Pipeline(stages=[assembler, scaler])\n",
        "df_transformed = pipeline.fit(spark_df).transform(spark_df)\n",
        "\n",
        "# Chia dữ liệu train/test\n",
        "train_df, test_df = df_transformed.randomSplit([0.8, 0.2], seed=42)"
      ],
      "metadata": {
        "id": "R7XTbZS4An7o"
      },
      "execution_count": 35,
      "outputs": []
    },
    {
      "cell_type": "code",
      "source": [
        "from pyspark.ml import PipelineModel\n",
        "\n",
        "# Fit pipeline trên train data\n",
        "pipeline_fit = pipeline.fit(spark_df)\n",
        "\n",
        "# Lưu pipeline đã fit\n",
        "pipeline_fit.save(\"models/dl_model/pipeline_model\")"
      ],
      "metadata": {
        "id": "IuWSQyPfnnuj"
      },
      "execution_count": 73,
      "outputs": []
    },
    {
      "cell_type": "code",
      "source": [
        "import numpy as np\n",
        "\n",
        "def to_numpy(df):\n",
        "    features = np.array(df.select(\"features_scaled\").rdd.map(lambda row: row[0].toArray()).collect())\n",
        "    labels = np.array(df.select(\"PositionGroup\").rdd.map(lambda row: row[0]).collect())\n",
        "    return features, labels\n",
        "\n",
        "X_train, y_train = to_numpy(train_df)\n",
        "X_test, y_test = to_numpy(test_df)"
      ],
      "metadata": {
        "id": "Y4YICBPYAwDR"
      },
      "execution_count": 36,
      "outputs": []
    },
    {
      "cell_type": "code",
      "source": [
        "import numpy as np\n",
        "from tensorflow.keras.models import Sequential\n",
        "from tensorflow.keras.layers import Dense, Dropout, BatchNormalization\n",
        "from tensorflow.keras.utils import to_categorical\n",
        "from tensorflow.keras.optimizers import Adam\n",
        "\n",
        "# One-hot encode label\n",
        "num_classes = len(np.unique(y_train))\n",
        "y_train_cat = to_categorical(y_train, num_classes)\n",
        "y_test_cat = to_categorical(y_test, num_classes)\n",
        "\n",
        "# Mô hình cải tiến\n",
        "model = Sequential([\n",
        "    Dense(256, activation='relu', input_shape=(X_train.shape[1],)),\n",
        "    BatchNormalization(),\n",
        "    Dropout(0.2),\n",
        "\n",
        "    Dense(128, activation='relu'),\n",
        "    BatchNormalization(),\n",
        "    Dropout(0.2),\n",
        "\n",
        "    Dense(64, activation='relu'),\n",
        "    BatchNormalization(),\n",
        "    Dropout(0.2),\n",
        "\n",
        "    Dense(num_classes, activation='softmax')\n",
        "])\n",
        "\n",
        "model.compile(optimizer=Adam(learning_rate=0.001),\n",
        "              loss='categorical_crossentropy',\n",
        "              metrics=['accuracy'])\n",
        "\n",
        "model.summary()\n",
        "\n",
        "# Huấn luyện\n",
        "history = model.fit(X_train, y_train_cat,\n",
        "                    epochs=50,\n",
        "                    batch_size=32,\n",
        "                    validation_split=0.2,\n",
        "                    verbose=1)"
      ],
      "metadata": {
        "id": "kCu4ZrhrA24j",
        "colab": {
          "base_uri": "https://localhost:8080/",
          "height": 1000
        },
        "outputId": "f25a26ce-1ff8-4db0-b5b6-e8535af48883"
      },
      "execution_count": 39,
      "outputs": [
        {
          "output_type": "display_data",
          "data": {
            "text/plain": [
              "\u001b[1mModel: \"sequential_1\"\u001b[0m\n"
            ],
            "text/html": [
              "<pre style=\"white-space:pre;overflow-x:auto;line-height:normal;font-family:Menlo,'DejaVu Sans Mono',consolas,'Courier New',monospace\"><span style=\"font-weight: bold\">Model: \"sequential_1\"</span>\n",
              "</pre>\n"
            ]
          },
          "metadata": {}
        },
        {
          "output_type": "display_data",
          "data": {
            "text/plain": [
              "┏━━━━━━━━━━━━━━━━━━━━━━━━━━━━━━━━━┳━━━━━━━━━━━━━━━━━━━━━━━━┳━━━━━━━━━━━━━━━┓\n",
              "┃\u001b[1m \u001b[0m\u001b[1mLayer (type)                   \u001b[0m\u001b[1m \u001b[0m┃\u001b[1m \u001b[0m\u001b[1mOutput Shape          \u001b[0m\u001b[1m \u001b[0m┃\u001b[1m \u001b[0m\u001b[1m      Param #\u001b[0m\u001b[1m \u001b[0m┃\n",
              "┡━━━━━━━━━━━━━━━━━━━━━━━━━━━━━━━━━╇━━━━━━━━━━━━━━━━━━━━━━━━╇━━━━━━━━━━━━━━━┩\n",
              "│ dense_3 (\u001b[38;5;33mDense\u001b[0m)                 │ (\u001b[38;5;45mNone\u001b[0m, \u001b[38;5;34m256\u001b[0m)            │         \u001b[38;5;34m7,680\u001b[0m │\n",
              "├─────────────────────────────────┼────────────────────────┼───────────────┤\n",
              "│ batch_normalization             │ (\u001b[38;5;45mNone\u001b[0m, \u001b[38;5;34m256\u001b[0m)            │         \u001b[38;5;34m1,024\u001b[0m │\n",
              "│ (\u001b[38;5;33mBatchNormalization\u001b[0m)            │                        │               │\n",
              "├─────────────────────────────────┼────────────────────────┼───────────────┤\n",
              "│ dropout_2 (\u001b[38;5;33mDropout\u001b[0m)             │ (\u001b[38;5;45mNone\u001b[0m, \u001b[38;5;34m256\u001b[0m)            │             \u001b[38;5;34m0\u001b[0m │\n",
              "├─────────────────────────────────┼────────────────────────┼───────────────┤\n",
              "│ dense_4 (\u001b[38;5;33mDense\u001b[0m)                 │ (\u001b[38;5;45mNone\u001b[0m, \u001b[38;5;34m128\u001b[0m)            │        \u001b[38;5;34m32,896\u001b[0m │\n",
              "├─────────────────────────────────┼────────────────────────┼───────────────┤\n",
              "│ batch_normalization_1           │ (\u001b[38;5;45mNone\u001b[0m, \u001b[38;5;34m128\u001b[0m)            │           \u001b[38;5;34m512\u001b[0m │\n",
              "│ (\u001b[38;5;33mBatchNormalization\u001b[0m)            │                        │               │\n",
              "├─────────────────────────────────┼────────────────────────┼───────────────┤\n",
              "│ dropout_3 (\u001b[38;5;33mDropout\u001b[0m)             │ (\u001b[38;5;45mNone\u001b[0m, \u001b[38;5;34m128\u001b[0m)            │             \u001b[38;5;34m0\u001b[0m │\n",
              "├─────────────────────────────────┼────────────────────────┼───────────────┤\n",
              "│ dense_5 (\u001b[38;5;33mDense\u001b[0m)                 │ (\u001b[38;5;45mNone\u001b[0m, \u001b[38;5;34m64\u001b[0m)             │         \u001b[38;5;34m8,256\u001b[0m │\n",
              "├─────────────────────────────────┼────────────────────────┼───────────────┤\n",
              "│ batch_normalization_2           │ (\u001b[38;5;45mNone\u001b[0m, \u001b[38;5;34m64\u001b[0m)             │           \u001b[38;5;34m256\u001b[0m │\n",
              "│ (\u001b[38;5;33mBatchNormalization\u001b[0m)            │                        │               │\n",
              "├─────────────────────────────────┼────────────────────────┼───────────────┤\n",
              "│ dropout_4 (\u001b[38;5;33mDropout\u001b[0m)             │ (\u001b[38;5;45mNone\u001b[0m, \u001b[38;5;34m64\u001b[0m)             │             \u001b[38;5;34m0\u001b[0m │\n",
              "├─────────────────────────────────┼────────────────────────┼───────────────┤\n",
              "│ dense_6 (\u001b[38;5;33mDense\u001b[0m)                 │ (\u001b[38;5;45mNone\u001b[0m, \u001b[38;5;34m4\u001b[0m)              │           \u001b[38;5;34m260\u001b[0m │\n",
              "└─────────────────────────────────┴────────────────────────┴───────────────┘\n"
            ],
            "text/html": [
              "<pre style=\"white-space:pre;overflow-x:auto;line-height:normal;font-family:Menlo,'DejaVu Sans Mono',consolas,'Courier New',monospace\">┏━━━━━━━━━━━━━━━━━━━━━━━━━━━━━━━━━┳━━━━━━━━━━━━━━━━━━━━━━━━┳━━━━━━━━━━━━━━━┓\n",
              "┃<span style=\"font-weight: bold\"> Layer (type)                    </span>┃<span style=\"font-weight: bold\"> Output Shape           </span>┃<span style=\"font-weight: bold\">       Param # </span>┃\n",
              "┡━━━━━━━━━━━━━━━━━━━━━━━━━━━━━━━━━╇━━━━━━━━━━━━━━━━━━━━━━━━╇━━━━━━━━━━━━━━━┩\n",
              "│ dense_3 (<span style=\"color: #0087ff; text-decoration-color: #0087ff\">Dense</span>)                 │ (<span style=\"color: #00d7ff; text-decoration-color: #00d7ff\">None</span>, <span style=\"color: #00af00; text-decoration-color: #00af00\">256</span>)            │         <span style=\"color: #00af00; text-decoration-color: #00af00\">7,680</span> │\n",
              "├─────────────────────────────────┼────────────────────────┼───────────────┤\n",
              "│ batch_normalization             │ (<span style=\"color: #00d7ff; text-decoration-color: #00d7ff\">None</span>, <span style=\"color: #00af00; text-decoration-color: #00af00\">256</span>)            │         <span style=\"color: #00af00; text-decoration-color: #00af00\">1,024</span> │\n",
              "│ (<span style=\"color: #0087ff; text-decoration-color: #0087ff\">BatchNormalization</span>)            │                        │               │\n",
              "├─────────────────────────────────┼────────────────────────┼───────────────┤\n",
              "│ dropout_2 (<span style=\"color: #0087ff; text-decoration-color: #0087ff\">Dropout</span>)             │ (<span style=\"color: #00d7ff; text-decoration-color: #00d7ff\">None</span>, <span style=\"color: #00af00; text-decoration-color: #00af00\">256</span>)            │             <span style=\"color: #00af00; text-decoration-color: #00af00\">0</span> │\n",
              "├─────────────────────────────────┼────────────────────────┼───────────────┤\n",
              "│ dense_4 (<span style=\"color: #0087ff; text-decoration-color: #0087ff\">Dense</span>)                 │ (<span style=\"color: #00d7ff; text-decoration-color: #00d7ff\">None</span>, <span style=\"color: #00af00; text-decoration-color: #00af00\">128</span>)            │        <span style=\"color: #00af00; text-decoration-color: #00af00\">32,896</span> │\n",
              "├─────────────────────────────────┼────────────────────────┼───────────────┤\n",
              "│ batch_normalization_1           │ (<span style=\"color: #00d7ff; text-decoration-color: #00d7ff\">None</span>, <span style=\"color: #00af00; text-decoration-color: #00af00\">128</span>)            │           <span style=\"color: #00af00; text-decoration-color: #00af00\">512</span> │\n",
              "│ (<span style=\"color: #0087ff; text-decoration-color: #0087ff\">BatchNormalization</span>)            │                        │               │\n",
              "├─────────────────────────────────┼────────────────────────┼───────────────┤\n",
              "│ dropout_3 (<span style=\"color: #0087ff; text-decoration-color: #0087ff\">Dropout</span>)             │ (<span style=\"color: #00d7ff; text-decoration-color: #00d7ff\">None</span>, <span style=\"color: #00af00; text-decoration-color: #00af00\">128</span>)            │             <span style=\"color: #00af00; text-decoration-color: #00af00\">0</span> │\n",
              "├─────────────────────────────────┼────────────────────────┼───────────────┤\n",
              "│ dense_5 (<span style=\"color: #0087ff; text-decoration-color: #0087ff\">Dense</span>)                 │ (<span style=\"color: #00d7ff; text-decoration-color: #00d7ff\">None</span>, <span style=\"color: #00af00; text-decoration-color: #00af00\">64</span>)             │         <span style=\"color: #00af00; text-decoration-color: #00af00\">8,256</span> │\n",
              "├─────────────────────────────────┼────────────────────────┼───────────────┤\n",
              "│ batch_normalization_2           │ (<span style=\"color: #00d7ff; text-decoration-color: #00d7ff\">None</span>, <span style=\"color: #00af00; text-decoration-color: #00af00\">64</span>)             │           <span style=\"color: #00af00; text-decoration-color: #00af00\">256</span> │\n",
              "│ (<span style=\"color: #0087ff; text-decoration-color: #0087ff\">BatchNormalization</span>)            │                        │               │\n",
              "├─────────────────────────────────┼────────────────────────┼───────────────┤\n",
              "│ dropout_4 (<span style=\"color: #0087ff; text-decoration-color: #0087ff\">Dropout</span>)             │ (<span style=\"color: #00d7ff; text-decoration-color: #00d7ff\">None</span>, <span style=\"color: #00af00; text-decoration-color: #00af00\">64</span>)             │             <span style=\"color: #00af00; text-decoration-color: #00af00\">0</span> │\n",
              "├─────────────────────────────────┼────────────────────────┼───────────────┤\n",
              "│ dense_6 (<span style=\"color: #0087ff; text-decoration-color: #0087ff\">Dense</span>)                 │ (<span style=\"color: #00d7ff; text-decoration-color: #00d7ff\">None</span>, <span style=\"color: #00af00; text-decoration-color: #00af00\">4</span>)              │           <span style=\"color: #00af00; text-decoration-color: #00af00\">260</span> │\n",
              "└─────────────────────────────────┴────────────────────────┴───────────────┘\n",
              "</pre>\n"
            ]
          },
          "metadata": {}
        },
        {
          "output_type": "display_data",
          "data": {
            "text/plain": [
              "\u001b[1m Total params: \u001b[0m\u001b[38;5;34m50,884\u001b[0m (198.77 KB)\n"
            ],
            "text/html": [
              "<pre style=\"white-space:pre;overflow-x:auto;line-height:normal;font-family:Menlo,'DejaVu Sans Mono',consolas,'Courier New',monospace\"><span style=\"font-weight: bold\"> Total params: </span><span style=\"color: #00af00; text-decoration-color: #00af00\">50,884</span> (198.77 KB)\n",
              "</pre>\n"
            ]
          },
          "metadata": {}
        },
        {
          "output_type": "display_data",
          "data": {
            "text/plain": [
              "\u001b[1m Trainable params: \u001b[0m\u001b[38;5;34m49,988\u001b[0m (195.27 KB)\n"
            ],
            "text/html": [
              "<pre style=\"white-space:pre;overflow-x:auto;line-height:normal;font-family:Menlo,'DejaVu Sans Mono',consolas,'Courier New',monospace\"><span style=\"font-weight: bold\"> Trainable params: </span><span style=\"color: #00af00; text-decoration-color: #00af00\">49,988</span> (195.27 KB)\n",
              "</pre>\n"
            ]
          },
          "metadata": {}
        },
        {
          "output_type": "display_data",
          "data": {
            "text/plain": [
              "\u001b[1m Non-trainable params: \u001b[0m\u001b[38;5;34m896\u001b[0m (3.50 KB)\n"
            ],
            "text/html": [
              "<pre style=\"white-space:pre;overflow-x:auto;line-height:normal;font-family:Menlo,'DejaVu Sans Mono',consolas,'Courier New',monospace\"><span style=\"font-weight: bold\"> Non-trainable params: </span><span style=\"color: #00af00; text-decoration-color: #00af00\">896</span> (3.50 KB)\n",
              "</pre>\n"
            ]
          },
          "metadata": {}
        },
        {
          "output_type": "stream",
          "name": "stdout",
          "text": [
            "Epoch 1/50\n",
            "\u001b[1m46/46\u001b[0m \u001b[32m━━━━━━━━━━━━━━━━━━━━\u001b[0m\u001b[37m\u001b[0m \u001b[1m5s\u001b[0m 13ms/step - accuracy: 0.3763 - loss: 1.6552 - val_accuracy: 0.3659 - val_loss: 1.4626\n",
            "Epoch 2/50\n",
            "\u001b[1m46/46\u001b[0m \u001b[32m━━━━━━━━━━━━━━━━━━━━\u001b[0m\u001b[37m\u001b[0m \u001b[1m0s\u001b[0m 6ms/step - accuracy: 0.4802 - loss: 1.2582 - val_accuracy: 0.4011 - val_loss: 1.3022\n",
            "Epoch 3/50\n",
            "\u001b[1m46/46\u001b[0m \u001b[32m━━━━━━━━━━━━━━━━━━━━\u001b[0m\u001b[37m\u001b[0m \u001b[1m0s\u001b[0m 7ms/step - accuracy: 0.5001 - loss: 1.1367 - val_accuracy: 0.4743 - val_loss: 1.2319\n",
            "Epoch 4/50\n",
            "\u001b[1m46/46\u001b[0m \u001b[32m━━━━━━━━━━━━━━━━━━━━\u001b[0m\u001b[37m\u001b[0m \u001b[1m1s\u001b[0m 7ms/step - accuracy: 0.5475 - loss: 1.0381 - val_accuracy: 0.4959 - val_loss: 1.1759\n",
            "Epoch 5/50\n",
            "\u001b[1m46/46\u001b[0m \u001b[32m━━━━━━━━━━━━━━━━━━━━\u001b[0m\u001b[37m\u001b[0m \u001b[1m1s\u001b[0m 6ms/step - accuracy: 0.5505 - loss: 1.0247 - val_accuracy: 0.5285 - val_loss: 1.1397\n",
            "Epoch 6/50\n",
            "\u001b[1m46/46\u001b[0m \u001b[32m━━━━━━━━━━━━━━━━━━━━\u001b[0m\u001b[37m\u001b[0m \u001b[1m0s\u001b[0m 6ms/step - accuracy: 0.5606 - loss: 1.0219 - val_accuracy: 0.5447 - val_loss: 1.1648\n",
            "Epoch 7/50\n",
            "\u001b[1m46/46\u001b[0m \u001b[32m━━━━━━━━━━━━━━━━━━━━\u001b[0m\u001b[37m\u001b[0m \u001b[1m0s\u001b[0m 7ms/step - accuracy: 0.5910 - loss: 0.9809 - val_accuracy: 0.5257 - val_loss: 1.2000\n",
            "Epoch 8/50\n",
            "\u001b[1m46/46\u001b[0m \u001b[32m━━━━━━━━━━━━━━━━━━━━\u001b[0m\u001b[37m\u001b[0m \u001b[1m1s\u001b[0m 10ms/step - accuracy: 0.5749 - loss: 0.9670 - val_accuracy: 0.5420 - val_loss: 1.2523\n",
            "Epoch 9/50\n",
            "\u001b[1m46/46\u001b[0m \u001b[32m━━━━━━━━━━━━━━━━━━━━\u001b[0m\u001b[37m\u001b[0m \u001b[1m1s\u001b[0m 11ms/step - accuracy: 0.5890 - loss: 0.9340 - val_accuracy: 0.5285 - val_loss: 1.2102\n",
            "Epoch 10/50\n",
            "\u001b[1m46/46\u001b[0m \u001b[32m━━━━━━━━━━━━━━━━━━━━\u001b[0m\u001b[37m\u001b[0m \u001b[1m1s\u001b[0m 10ms/step - accuracy: 0.5872 - loss: 0.9584 - val_accuracy: 0.5339 - val_loss: 1.2271\n",
            "Epoch 11/50\n",
            "\u001b[1m46/46\u001b[0m \u001b[32m━━━━━━━━━━━━━━━━━━━━\u001b[0m\u001b[37m\u001b[0m \u001b[1m0s\u001b[0m 9ms/step - accuracy: 0.5953 - loss: 0.9384 - val_accuracy: 0.5312 - val_loss: 1.2951\n",
            "Epoch 12/50\n",
            "\u001b[1m46/46\u001b[0m \u001b[32m━━━━━━━━━━━━━━━━━━━━\u001b[0m\u001b[37m\u001b[0m \u001b[1m1s\u001b[0m 10ms/step - accuracy: 0.5925 - loss: 0.9265 - val_accuracy: 0.5501 - val_loss: 1.2880\n",
            "Epoch 13/50\n",
            "\u001b[1m46/46\u001b[0m \u001b[32m━━━━━━━━━━━━━━━━━━━━\u001b[0m\u001b[37m\u001b[0m \u001b[1m1s\u001b[0m 11ms/step - accuracy: 0.6109 - loss: 0.9163 - val_accuracy: 0.5230 - val_loss: 1.2778\n",
            "Epoch 14/50\n",
            "\u001b[1m46/46\u001b[0m \u001b[32m━━━━━━━━━━━━━━━━━━━━\u001b[0m\u001b[37m\u001b[0m \u001b[1m0s\u001b[0m 7ms/step - accuracy: 0.6281 - loss: 0.8834 - val_accuracy: 0.5095 - val_loss: 1.3441\n",
            "Epoch 15/50\n",
            "\u001b[1m46/46\u001b[0m \u001b[32m━━━━━━━━━━━━━━━━━━━━\u001b[0m\u001b[37m\u001b[0m \u001b[1m1s\u001b[0m 6ms/step - accuracy: 0.6336 - loss: 0.8563 - val_accuracy: 0.5122 - val_loss: 1.4818\n",
            "Epoch 16/50\n",
            "\u001b[1m46/46\u001b[0m \u001b[32m━━━━━━━━━━━━━━━━━━━━\u001b[0m\u001b[37m\u001b[0m \u001b[1m1s\u001b[0m 6ms/step - accuracy: 0.6182 - loss: 0.8602 - val_accuracy: 0.5366 - val_loss: 1.5646\n",
            "Epoch 17/50\n",
            "\u001b[1m46/46\u001b[0m \u001b[32m━━━━━━━━━━━━━━━━━━━━\u001b[0m\u001b[37m\u001b[0m \u001b[1m0s\u001b[0m 6ms/step - accuracy: 0.6012 - loss: 0.8858 - val_accuracy: 0.5068 - val_loss: 1.6150\n",
            "Epoch 18/50\n",
            "\u001b[1m46/46\u001b[0m \u001b[32m━━━━━━━━━━━━━━━━━━━━\u001b[0m\u001b[37m\u001b[0m \u001b[1m0s\u001b[0m 6ms/step - accuracy: 0.6558 - loss: 0.8420 - val_accuracy: 0.5203 - val_loss: 1.5335\n",
            "Epoch 19/50\n",
            "\u001b[1m46/46\u001b[0m \u001b[32m━━━━━━━━━━━━━━━━━━━━\u001b[0m\u001b[37m\u001b[0m \u001b[1m0s\u001b[0m 6ms/step - accuracy: 0.6469 - loss: 0.8551 - val_accuracy: 0.5257 - val_loss: 1.5251\n",
            "Epoch 20/50\n",
            "\u001b[1m46/46\u001b[0m \u001b[32m━━━━━━━━━━━━━━━━━━━━\u001b[0m\u001b[37m\u001b[0m \u001b[1m1s\u001b[0m 7ms/step - accuracy: 0.6540 - loss: 0.8308 - val_accuracy: 0.5014 - val_loss: 1.7026\n",
            "Epoch 21/50\n",
            "\u001b[1m46/46\u001b[0m \u001b[32m━━━━━━━━━━━━━━━━━━━━\u001b[0m\u001b[37m\u001b[0m \u001b[1m0s\u001b[0m 6ms/step - accuracy: 0.6282 - loss: 0.8314 - val_accuracy: 0.5176 - val_loss: 1.8365\n",
            "Epoch 22/50\n",
            "\u001b[1m46/46\u001b[0m \u001b[32m━━━━━━━━━━━━━━━━━━━━\u001b[0m\u001b[37m\u001b[0m \u001b[1m0s\u001b[0m 6ms/step - accuracy: 0.5984 - loss: 0.8979 - val_accuracy: 0.5122 - val_loss: 1.6188\n",
            "Epoch 23/50\n",
            "\u001b[1m46/46\u001b[0m \u001b[32m━━━━━━━━━━━━━━━━━━━━\u001b[0m\u001b[37m\u001b[0m \u001b[1m0s\u001b[0m 6ms/step - accuracy: 0.6156 - loss: 0.8950 - val_accuracy: 0.5203 - val_loss: 1.7059\n",
            "Epoch 24/50\n",
            "\u001b[1m46/46\u001b[0m \u001b[32m━━━━━━━━━━━━━━━━━━━━\u001b[0m\u001b[37m\u001b[0m \u001b[1m0s\u001b[0m 7ms/step - accuracy: 0.6315 - loss: 0.8505 - val_accuracy: 0.5285 - val_loss: 1.6213\n",
            "Epoch 25/50\n",
            "\u001b[1m46/46\u001b[0m \u001b[32m━━━━━━━━━━━━━━━━━━━━\u001b[0m\u001b[37m\u001b[0m \u001b[1m0s\u001b[0m 6ms/step - accuracy: 0.6286 - loss: 0.8455 - val_accuracy: 0.5312 - val_loss: 1.7674\n",
            "Epoch 26/50\n",
            "\u001b[1m46/46\u001b[0m \u001b[32m━━━━━━━━━━━━━━━━━━━━\u001b[0m\u001b[37m\u001b[0m \u001b[1m0s\u001b[0m 6ms/step - accuracy: 0.6451 - loss: 0.8313 - val_accuracy: 0.5285 - val_loss: 1.7883\n",
            "Epoch 27/50\n",
            "\u001b[1m46/46\u001b[0m \u001b[32m━━━━━━━━━━━━━━━━━━━━\u001b[0m\u001b[37m\u001b[0m \u001b[1m0s\u001b[0m 6ms/step - accuracy: 0.6886 - loss: 0.7585 - val_accuracy: 0.5176 - val_loss: 1.7602\n",
            "Epoch 28/50\n",
            "\u001b[1m46/46\u001b[0m \u001b[32m━━━━━━━━━━━━━━━━━━━━\u001b[0m\u001b[37m\u001b[0m \u001b[1m1s\u001b[0m 6ms/step - accuracy: 0.6400 - loss: 0.8281 - val_accuracy: 0.5149 - val_loss: 1.9228\n",
            "Epoch 29/50\n",
            "\u001b[1m46/46\u001b[0m \u001b[32m━━━━━━━━━━━━━━━━━━━━\u001b[0m\u001b[37m\u001b[0m \u001b[1m0s\u001b[0m 6ms/step - accuracy: 0.6290 - loss: 0.8125 - val_accuracy: 0.5203 - val_loss: 1.9194\n",
            "Epoch 30/50\n",
            "\u001b[1m46/46\u001b[0m \u001b[32m━━━━━━━━━━━━━━━━━━━━\u001b[0m\u001b[37m\u001b[0m \u001b[1m0s\u001b[0m 6ms/step - accuracy: 0.6539 - loss: 0.7878 - val_accuracy: 0.5095 - val_loss: 1.9924\n",
            "Epoch 31/50\n",
            "\u001b[1m46/46\u001b[0m \u001b[32m━━━━━━━━━━━━━━━━━━━━\u001b[0m\u001b[37m\u001b[0m \u001b[1m1s\u001b[0m 6ms/step - accuracy: 0.6550 - loss: 0.7806 - val_accuracy: 0.5203 - val_loss: 1.9901\n",
            "Epoch 32/50\n",
            "\u001b[1m46/46\u001b[0m \u001b[32m━━━━━━━━━━━━━━━━━━━━\u001b[0m\u001b[37m\u001b[0m \u001b[1m0s\u001b[0m 6ms/step - accuracy: 0.6473 - loss: 0.8242 - val_accuracy: 0.5014 - val_loss: 1.8251\n",
            "Epoch 33/50\n",
            "\u001b[1m46/46\u001b[0m \u001b[32m━━━━━━━━━━━━━━━━━━━━\u001b[0m\u001b[37m\u001b[0m \u001b[1m0s\u001b[0m 6ms/step - accuracy: 0.6710 - loss: 0.7953 - val_accuracy: 0.4932 - val_loss: 1.9320\n",
            "Epoch 34/50\n",
            "\u001b[1m46/46\u001b[0m \u001b[32m━━━━━━━━━━━━━━━━━━━━\u001b[0m\u001b[37m\u001b[0m \u001b[1m0s\u001b[0m 6ms/step - accuracy: 0.6648 - loss: 0.7843 - val_accuracy: 0.5312 - val_loss: 1.9459\n",
            "Epoch 35/50\n",
            "\u001b[1m46/46\u001b[0m \u001b[32m━━━━━━━━━━━━━━━━━━━━\u001b[0m\u001b[37m\u001b[0m \u001b[1m0s\u001b[0m 6ms/step - accuracy: 0.6758 - loss: 0.7956 - val_accuracy: 0.5393 - val_loss: 2.1237\n",
            "Epoch 36/50\n",
            "\u001b[1m46/46\u001b[0m \u001b[32m━━━━━━━━━━━━━━━━━━━━\u001b[0m\u001b[37m\u001b[0m \u001b[1m1s\u001b[0m 6ms/step - accuracy: 0.6723 - loss: 0.7643 - val_accuracy: 0.5366 - val_loss: 2.0328\n",
            "Epoch 37/50\n",
            "\u001b[1m46/46\u001b[0m \u001b[32m━━━━━━━━━━━━━━━━━━━━\u001b[0m\u001b[37m\u001b[0m \u001b[1m0s\u001b[0m 6ms/step - accuracy: 0.6401 - loss: 0.8070 - val_accuracy: 0.5068 - val_loss: 2.2135\n",
            "Epoch 38/50\n",
            "\u001b[1m46/46\u001b[0m \u001b[32m━━━━━━━━━━━━━━━━━━━━\u001b[0m\u001b[37m\u001b[0m \u001b[1m0s\u001b[0m 7ms/step - accuracy: 0.6771 - loss: 0.7842 - val_accuracy: 0.5230 - val_loss: 2.0341\n",
            "Epoch 39/50\n",
            "\u001b[1m46/46\u001b[0m \u001b[32m━━━━━━━━━━━━━━━━━━━━\u001b[0m\u001b[37m\u001b[0m \u001b[1m0s\u001b[0m 6ms/step - accuracy: 0.6843 - loss: 0.7207 - val_accuracy: 0.5257 - val_loss: 2.2269\n",
            "Epoch 40/50\n",
            "\u001b[1m46/46\u001b[0m \u001b[32m━━━━━━━━━━━━━━━━━━━━\u001b[0m\u001b[37m\u001b[0m \u001b[1m1s\u001b[0m 12ms/step - accuracy: 0.6749 - loss: 0.7588 - val_accuracy: 0.5203 - val_loss: 1.9402\n",
            "Epoch 41/50\n",
            "\u001b[1m46/46\u001b[0m \u001b[32m━━━━━━━━━━━━━━━━━━━━\u001b[0m\u001b[37m\u001b[0m \u001b[1m0s\u001b[0m 8ms/step - accuracy: 0.6766 - loss: 0.7760 - val_accuracy: 0.5041 - val_loss: 1.9664\n",
            "Epoch 42/50\n",
            "\u001b[1m46/46\u001b[0m \u001b[32m━━━━━━━━━━━━━━━━━━━━\u001b[0m\u001b[37m\u001b[0m \u001b[1m0s\u001b[0m 9ms/step - accuracy: 0.6862 - loss: 0.7435 - val_accuracy: 0.5203 - val_loss: 2.0377\n",
            "Epoch 43/50\n",
            "\u001b[1m46/46\u001b[0m \u001b[32m━━━━━━━━━━━━━━━━━━━━\u001b[0m\u001b[37m\u001b[0m \u001b[1m1s\u001b[0m 9ms/step - accuracy: 0.6801 - loss: 0.7704 - val_accuracy: 0.5149 - val_loss: 2.3726\n",
            "Epoch 44/50\n",
            "\u001b[1m46/46\u001b[0m \u001b[32m━━━━━━━━━━━━━━━━━━━━\u001b[0m\u001b[37m\u001b[0m \u001b[1m1s\u001b[0m 11ms/step - accuracy: 0.6939 - loss: 0.7300 - val_accuracy: 0.5122 - val_loss: 2.0423\n",
            "Epoch 45/50\n",
            "\u001b[1m46/46\u001b[0m \u001b[32m━━━━━━━━━━━━━━━━━━━━\u001b[0m\u001b[37m\u001b[0m \u001b[1m1s\u001b[0m 9ms/step - accuracy: 0.6830 - loss: 0.7569 - val_accuracy: 0.5257 - val_loss: 2.0181\n",
            "Epoch 46/50\n",
            "\u001b[1m46/46\u001b[0m \u001b[32m━━━━━━━━━━━━━━━━━━━━\u001b[0m\u001b[37m\u001b[0m \u001b[1m1s\u001b[0m 7ms/step - accuracy: 0.6906 - loss: 0.7173 - val_accuracy: 0.4986 - val_loss: 1.9752\n",
            "Epoch 47/50\n",
            "\u001b[1m46/46\u001b[0m \u001b[32m━━━━━━━━━━━━━━━━━━━━\u001b[0m\u001b[37m\u001b[0m \u001b[1m1s\u001b[0m 6ms/step - accuracy: 0.6721 - loss: 0.7323 - val_accuracy: 0.4986 - val_loss: 1.9520\n",
            "Epoch 48/50\n",
            "\u001b[1m46/46\u001b[0m \u001b[32m━━━━━━━━━━━━━━━━━━━━\u001b[0m\u001b[37m\u001b[0m \u001b[1m0s\u001b[0m 6ms/step - accuracy: 0.6820 - loss: 0.7177 - val_accuracy: 0.4770 - val_loss: 2.1086\n",
            "Epoch 49/50\n",
            "\u001b[1m46/46\u001b[0m \u001b[32m━━━━━━━━━━━━━━━━━━━━\u001b[0m\u001b[37m\u001b[0m \u001b[1m0s\u001b[0m 6ms/step - accuracy: 0.6770 - loss: 0.7643 - val_accuracy: 0.5122 - val_loss: 2.1517\n",
            "Epoch 50/50\n",
            "\u001b[1m46/46\u001b[0m \u001b[32m━━━━━━━━━━━━━━━━━━━━\u001b[0m\u001b[37m\u001b[0m \u001b[1m0s\u001b[0m 6ms/step - accuracy: 0.7131 - loss: 0.6910 - val_accuracy: 0.4959 - val_loss: 2.2029\n"
          ]
        }
      ]
    },
    {
      "cell_type": "code",
      "source": [
        "import matplotlib.pyplot as plt\n",
        "\n",
        "# Accuracy\n",
        "plt.plot(history.history['accuracy'], label='Train acc')\n",
        "plt.plot(history.history['val_accuracy'], label='Val acc')\n",
        "plt.legend()\n",
        "plt.title(\"Accuracy over epochs\")\n",
        "plt.show()\n",
        "\n",
        "# Loss\n",
        "plt.plot(history.history['loss'], label='Train loss')\n",
        "plt.plot(history.history['val_loss'], label='Val loss')\n",
        "plt.legend()\n",
        "plt.title(\"Loss over epochs\")\n",
        "plt.show()"
      ],
      "metadata": {
        "colab": {
          "base_uri": "https://localhost:8080/",
          "height": 887
        },
        "id": "kLj-kYiZg4QF",
        "outputId": "cbd589dd-9be1-4775-e27f-c21f0f844f24"
      },
      "execution_count": 42,
      "outputs": [
        {
          "output_type": "display_data",
          "data": {
            "text/plain": [
              "<Figure size 640x480 with 1 Axes>"
            ],
            "image/png": "[encoded data removed]"
          },
          "metadata": {}
        },
        {
          "output_type": "display_data",
          "data": {
            "text/plain": [
              "<Figure size 640x480 with 1 Axes>"
            ],
            "image/png": "[encoded data removed]"
          },
          "metadata": {}
        }
      ]
    },
    {
      "cell_type": "code",
      "source": [
        "loss, acc = model.evaluate(X_test, y_test_cat)\n",
        "print(f\"Test Accuracy: {acc:.2f}\")"
      ],
      "metadata": {
        "id": "g68BKapQA4WM",
        "colab": {
          "base_uri": "https://localhost:8080/"
        },
        "outputId": "0b2ca3c0-45f0-466d-feaa-248f2ff0ff15"
      },
      "execution_count": 40,
      "outputs": [
        {
          "output_type": "stream",
          "name": "stdout",
          "text": [
            "\u001b[1m13/13\u001b[0m \u001b[32m━━━━━━━━━━━━━━━━━━━━\u001b[0m\u001b[37m\u001b[0m \u001b[1m0s\u001b[0m 6ms/step - accuracy: 0.6386 - loss: 0.9131 \n",
            "Test Accuracy: 0.59\n"
          ]
        }
      ]
    },
    {
      "cell_type": "code",
      "source": [
        "import os\n",
        "\n",
        "# Tạo thư mục nếu chưa có\n",
        "save_dir = \"models/dl_model\"\n",
        "os.makedirs(save_dir, exist_ok=True)\n",
        "\n",
        "# Đường dẫn đầy đủ tới file model\n",
        "model_path = os.path.join(save_dir, \"deeplearning_model.h5\")\n",
        "\n",
        "# Lưu mô hình\n",
        "model.save(model_path)\n",
        "print(f\"Model đã được lưu tại: {model_path}\")"
      ],
      "metadata": {
        "colab": {
          "base_uri": "https://localhost:8080/"
        },
        "id": "yKDnfp6eg2rl",
        "outputId": "f2e8c3e0-354e-4a87-a437-d2887ace02a2"
      },
      "execution_count": 43,
      "outputs": [
        {
          "output_type": "stream",
          "name": "stderr",
          "text": [
            "WARNING:absl:You are saving your model as an HDF5 file via `model.save()` or `keras.saving.save_model(model)`. This file format is considered legacy. We recommend using instead the native Keras format, e.g. `model.save('my_model.keras')` or `keras.saving.save_model(model, 'my_model.keras')`. \n"
          ]
        },
        {
          "output_type": "stream",
          "name": "stdout",
          "text": [
            "Model đã được lưu tại: models/dl_model/deeplearning_model.h5\n"
          ]
        }
      ]
    },
    {
      "cell_type": "markdown",
      "source": [
        "##### __DEV DATA__"
      ],
      "metadata": {
        "id": "yG2-Ml52s7GJ"
      }
    },
    {
      "cell_type": "code",
      "source": [
        "dev_data = preprocess_fastf1_data(\n",
        "    base_folder_path='/content/drive/My Drive/Fastf1/raw/',\n",
        "    years=['TEST'],\n",
        "    spark=spark,\n",
        "    schema_laps=schema_laps,\n",
        "    schema_weather=schema_weather,\n",
        "    count_tyre_life_1=count_tyre_life_1,\n",
        "    driver_stats={}\n",
        ")"
      ],
      "metadata": {
        "id": "qL_SP2rvuXkF",
        "colab": {
          "base_uri": "https://localhost:8080/"
        },
        "outputId": "891bb634-2b30-41e6-cedf-263e2cec09e4"
      },
      "execution_count": 46,
      "outputs": [
        {
          "output_type": "stream",
          "name": "stdout",
          "text": [
            "✅ Dữ liệu cuối cùng: (20, 29)\n",
            "✅ Dữ liệu Spark: 20 hàng, 29 cột\n"
          ]
        }
      ]
    },
    {
      "cell_type": "code",
      "source": [
        "dev_data = add_position_group(dev_data, drop_position=True)"
      ],
      "metadata": {
        "id": "ad32lMkBMNKf"
      },
      "execution_count": 47,
      "outputs": []
    },
    {
      "cell_type": "code",
      "source": [
        "columns_to_drop = ['Wins', 'ClassifiedPosition', 'Points']\n",
        "# numeric_cols = ['LapTime_mean', 'PitOutTime_mean', 'PitInTime_mean', 'Sector1Time_mean', 'Sector1Time_max', 'Sector1Time_min', 'SpeedI1_mean', 'SpeedI1_max', 'SpeedI1_min']\n",
        "\n",
        "dev_data = drop_columns(dev_data, columns_to_drop)\n",
        "dev_data = add_position_group(dev_data, drop_position=True)\n",
        "dev_data = fill_numeric_with_mean(dev_data, numeric_cols)\n",
        "dev_data = convert_track_status(dev_data)\n",
        "dev_data = cast_columns_to_int(dev_data, [\"DriverNumber\", \"IsPersonalBest_sum\"])\n",
        "dev_data = dev_data.fillna({'TyreChangeCount': 0})\n",
        "dev_data = one_hot_encode_compound_mode(dev_data)\n",
        "dev_data = label_encode_column(dev_data, \"TeamId\")\n",
        "dev_data = convert_booleans_to_int(dev_data)\n",
        "dev_data = dev_data.fillna({\"TrackStatus\": 0})\n",
        "dev_data = drop_columns(dev_data, [\"DriverNumber\"])  # nếu còn\n",
        "\n",
        "print(\"✅ Số hàng:\", dev_data.count(), \" | Số cột:\", len(dev_data.columns))\n",
        "dev_data.printSchema()"
      ],
      "metadata": {
        "id": "iAFHyIdVMSVk",
        "colab": {
          "base_uri": "https://localhost:8080/"
        },
        "outputId": "970a367f-d846-4332-98f8-a95c36da0c65"
      },
      "execution_count": 48,
      "outputs": [
        {
          "output_type": "stream",
          "name": "stdout",
          "text": [
            "✅ Số hàng: 20  | Số cột: 29\n",
            "root\n",
            " |-- LapTime_mean: double (nullable = false)\n",
            " |-- Stint_nunique: long (nullable = true)\n",
            " |-- WindDirection_nunique: long (nullable = true)\n",
            " |-- PitOutTime_mean: double (nullable = false)\n",
            " |-- PitInTime_mean: double (nullable = false)\n",
            " |-- Sector1Time_mean: double (nullable = false)\n",
            " |-- Sector1Time_max: double (nullable = false)\n",
            " |-- Sector1Time_min: double (nullable = false)\n",
            " |-- SpeedI1_mean: double (nullable = false)\n",
            " |-- SpeedI1_max: double (nullable = false)\n",
            " |-- SpeedI1_min: double (nullable = false)\n",
            " |-- AirTemp_mean: double (nullable = false)\n",
            " |-- Humidity_mean: double (nullable = false)\n",
            " |-- Pressure_mean: double (nullable = false)\n",
            " |-- TrackTemp_mean: double (nullable = false)\n",
            " |-- WindSpeed_mean: double (nullable = false)\n",
            " |-- Rainfall_mean: double (nullable = false)\n",
            " |-- IsPersonalBest_sum: integer (nullable = true)\n",
            " |-- FreshTyre_mean: double (nullable = false)\n",
            " |-- Deleted_sum: long (nullable = true)\n",
            " |-- GridPosition: double (nullable = false)\n",
            " |-- TyreChangeCount: double (nullable = false)\n",
            " |-- Experience: long (nullable = true)\n",
            " |-- WinRate: double (nullable = false)\n",
            " |-- PositionGroup: integer (nullable = true)\n",
            " |-- TrackStatus: integer (nullable = false)\n",
            " |-- MEDIUM: integer (nullable = true)\n",
            " |-- nan: integer (nullable = true)\n",
            " |-- TeamId: double (nullable = false)\n",
            "\n"
          ]
        }
      ]
    },
    {
      "cell_type": "code",
      "source": [
        "dev_data = drop_columns(dev_data, [\"PitInTime_mean\", \"Sector1Time_min\", \"SpeedI1_max\"])  # nếu còn"
      ],
      "metadata": {
        "id": "OeXyo6FwMfA2"
      },
      "execution_count": 49,
      "outputs": []
    },
    {
      "cell_type": "code",
      "source": [
        "from pyspark.sql.functions import lit\n",
        "\n",
        "def align_test_to_train(test_df):\n",
        "    \"\"\"\n",
        "    Chuẩn hóa test_df sao cho có cấu trúc giống train_df:\n",
        "    - Xóa cột thừa\n",
        "    - Thêm cột thiếu (giá trị mặc định là 0)\n",
        "    - Sắp xếp thứ tự cột giống train_df\n",
        "    \"\"\"\n",
        "    train_columns = columns\n",
        "    test_columns = test_df.columns\n",
        "\n",
        "    # 1. Xóa các cột không có trong train_df\n",
        "    columns_to_drop = [col for col in test_columns if col not in train_columns]\n",
        "    test_df = test_df.drop(*columns_to_drop)\n",
        "\n",
        "    # 2. Thêm các cột còn thiếu và điền 0\n",
        "    missing_columns = [col for col in train_columns if col not in test_df.columns]\n",
        "    for col in missing_columns:\n",
        "        test_df = test_df.withColumn(col, lit(0))\n",
        "\n",
        "    # 3. Đảm bảo đúng thứ tự cột\n",
        "    test_df = test_df.select(train_columns)\n",
        "\n",
        "    return test_df"
      ],
      "metadata": {
        "id": "2ifla0MBx-vP"
      },
      "execution_count": 50,
      "outputs": []
    },
    {
      "cell_type": "code",
      "source": [
        "dev_data = align_test_to_train(dev_data)"
      ],
      "metadata": {
        "id": "4KFpYphuNF05"
      },
      "execution_count": 51,
      "outputs": []
    },
    {
      "cell_type": "code",
      "source": [
        "print(\"✅ Số hàng:\", dev_data.count(), \" | Số cột:\", len(dev_data.columns))\n",
        "dev_data.printSchema()"
      ],
      "metadata": {
        "colab": {
          "base_uri": "https://localhost:8080/"
        },
        "id": "mpRFnl0dYnk1",
        "outputId": "ee86c2fe-1d6e-4d79-c316-5967dfc72385"
      },
      "execution_count": 52,
      "outputs": [
        {
          "output_type": "stream",
          "name": "stdout",
          "text": [
            "✅ Số hàng: 20  | Số cột: 33\n",
            "root\n",
            " |-- LapTime_mean: double (nullable = false)\n",
            " |-- Stint_nunique: long (nullable = true)\n",
            " |-- WindDirection_nunique: long (nullable = true)\n",
            " |-- PitOutTime_mean: double (nullable = false)\n",
            " |-- PitInTime_mean: integer (nullable = false)\n",
            " |-- Sector1Time_mean: double (nullable = false)\n",
            " |-- Sector1Time_max: double (nullable = false)\n",
            " |-- Sector1Time_min: integer (nullable = false)\n",
            " |-- SpeedI1_mean: double (nullable = false)\n",
            " |-- SpeedI1_max: integer (nullable = false)\n",
            " |-- SpeedI1_min: double (nullable = false)\n",
            " |-- AirTemp_mean: double (nullable = false)\n",
            " |-- Humidity_mean: double (nullable = false)\n",
            " |-- Pressure_mean: double (nullable = false)\n",
            " |-- TrackTemp_mean: double (nullable = false)\n",
            " |-- WindSpeed_mean: double (nullable = false)\n",
            " |-- Rainfall_mean: double (nullable = false)\n",
            " |-- IsPersonalBest_sum: integer (nullable = true)\n",
            " |-- FreshTyre_mean: double (nullable = false)\n",
            " |-- Deleted_sum: long (nullable = true)\n",
            " |-- GridPosition: double (nullable = false)\n",
            " |-- TyreChangeCount: double (nullable = false)\n",
            " |-- Experience: long (nullable = true)\n",
            " |-- WinRate: double (nullable = false)\n",
            " |-- PositionGroup: integer (nullable = true)\n",
            " |-- TrackStatus: integer (nullable = false)\n",
            " |-- HARD: integer (nullable = false)\n",
            " |-- INTERMEDIATE: integer (nullable = false)\n",
            " |-- MEDIUM: integer (nullable = true)\n",
            " |-- SOFT: integer (nullable = false)\n",
            " |-- UNKNOWN: integer (nullable = false)\n",
            " |-- WET: integer (nullable = false)\n",
            " |-- TeamId: double (nullable = false)\n",
            "\n"
          ]
        }
      ]
    },
    {
      "cell_type": "code",
      "source": [
        "from pyspark.ml.feature import StringIndexer, VectorAssembler\n",
        "from pyspark.ml import Pipeline\n",
        "from pyspark.ml import PipelineModel\n",
        "from pyspark.sql.functions import udf\n",
        "from pyspark.ml.tuning import CrossValidatorModel\n",
        "\n",
        "# Định nghĩa hàm dự đoán cho mô hình\n",
        "def predict_with_model(model_path, test_data, label_col=\"PositionGroup\"):\n",
        "    # Tải mô hình đã huấn luyện\n",
        "    model = CrossValidatorModel.load(model_path)\n",
        "    model = model.bestModel\n",
        "\n",
        "    if 'label_init' in test_data.columns:\n",
        "        test_data = test_data.drop('label_init')\n",
        "\n",
        "    # Tạo pipeline cho dữ liệu test\n",
        "    indexer = StringIndexer(inputCol=label_col, outputCol=\"label_init2\")\n",
        "    indexer_model = indexer.fit(test_data)\n",
        "    label_mapping = indexer_model.labels\n",
        "\n",
        "    # Áp dụng pipeline cho dữ liệu test\n",
        "    preprocessed_test_df = indexer_model.transform(test_data)\n",
        "\n",
        "    # Dự đoán với mô hình đã huấn luyện\n",
        "    predictions = model.transform(preprocessed_test_df)\n",
        "\n",
        "    # Bước 5: Hàm UDF giải mã nhãn\n",
        "    def decode_label(index):\n",
        "        try:\n",
        "            return label_mapping[int(index)]\n",
        "        except:\n",
        "            return None\n",
        "\n",
        "    decode_udf = udf(decode_label, StringType())\n",
        "\n",
        "    # Bước 6: Thêm cột nhãn gốc cho label và prediction\n",
        "    predictions = predictions \\\n",
        "        .withColumn(\"true_label\", decode_udf(\"label_init2\")) \\\n",
        "        .withColumn(\"predicted_label\", decode_udf(\"prediction\"))\n",
        "\n",
        "    return predictions.select(\"PositionGroup\", \"true_label\", \"predicted_label\", \"label_init2\", \"prediction\")\n",
        "\n",
        "# Dự đoán với các mô hình khác nhau\n",
        "predictions_rf = predict_with_model('/content/drive/My Drive/Fastf1/models/rf_model', dev_data)\n",
        "predictions_dt = predict_with_model('/content/drive/My Drive/Fastf1/models/dt_model', dev_data)\n",
        "predictions_lr = predict_with_model('/content/drive/My Drive/Fastf1/models/lr_model', dev_data)\n",
        "\n",
        "# Hiển thị kết quả cho từng mô hình\n",
        "print(\"Decision Tree Predictions:\")\n",
        "predictions_dt.select(\"PositionGroup\", \"prediction\").show()\n",
        "\n",
        "print(\"Random Forest Predictions:\")\n",
        "predictions_rf.select(\"PositionGroup\", \"prediction\").show()\n",
        "\n",
        "print(\"Logistic Regression Predictions:\")\n",
        "predictions_lr.select(\"PositionGroup\", \"prediction\").show()"
      ],
      "metadata": {
        "id": "GqnBCbLdvbEQ",
        "colab": {
          "base_uri": "https://localhost:8080/"
        },
        "outputId": "dc356273-13a1-437e-cdbd-57dc9ec72a86"
      },
      "execution_count": 65,
      "outputs": [
        {
          "output_type": "stream",
          "name": "stdout",
          "text": [
            "Decision Tree Predictions:\n",
            "+-------------+----------+\n",
            "|PositionGroup|prediction|\n",
            "+-------------+----------+\n",
            "|            3|       3.0|\n",
            "|            3|       3.0|\n",
            "|            3|       3.0|\n",
            "|            1|       1.0|\n",
            "|            1|       1.0|\n",
            "|            3|       1.0|\n",
            "|            2|       1.0|\n",
            "|            3|       3.0|\n",
            "|            2|       3.0|\n",
            "|            2|       1.0|\n",
            "|            0|       1.0|\n",
            "|            1|       1.0|\n",
            "|            1|       1.0|\n",
            "|            0|       0.0|\n",
            "|            0|       0.0|\n",
            "|            2|       3.0|\n",
            "|            0|       0.0|\n",
            "|            0|       0.0|\n",
            "|            1|       0.0|\n",
            "|            2|       3.0|\n",
            "+-------------+----------+\n",
            "\n",
            "Random Forest Predictions:\n",
            "+-------------+----------+\n",
            "|PositionGroup|prediction|\n",
            "+-------------+----------+\n",
            "|            3|       3.0|\n",
            "|            3|       3.0|\n",
            "|            3|       3.0|\n",
            "|            1|       1.0|\n",
            "|            1|       0.0|\n",
            "|            3|       3.0|\n",
            "|            2|       3.0|\n",
            "|            3|       3.0|\n",
            "|            2|       2.0|\n",
            "|            2|       3.0|\n",
            "|            0|       1.0|\n",
            "|            1|       1.0|\n",
            "|            1|       0.0|\n",
            "|            0|       1.0|\n",
            "|            0|       1.0|\n",
            "|            2|       1.0|\n",
            "|            0|       1.0|\n",
            "|            0|       1.0|\n",
            "|            1|       1.0|\n",
            "|            2|       1.0|\n",
            "+-------------+----------+\n",
            "\n",
            "Logistic Regression Predictions:\n",
            "+-------------+----------+\n",
            "|PositionGroup|prediction|\n",
            "+-------------+----------+\n",
            "|            3|       3.0|\n",
            "|            3|       3.0|\n",
            "|            3|       3.0|\n",
            "|            1|       2.0|\n",
            "|            1|       3.0|\n",
            "|            3|       3.0|\n",
            "|            2|       3.0|\n",
            "|            3|       3.0|\n",
            "|            2|       2.0|\n",
            "|            2|       2.0|\n",
            "|            0|       2.0|\n",
            "|            1|       2.0|\n",
            "|            1|       3.0|\n",
            "|            0|       1.0|\n",
            "|            0|       1.0|\n",
            "|            2|       3.0|\n",
            "|            0|       3.0|\n",
            "|            0|       1.0|\n",
            "|            1|       1.0|\n",
            "|            2|       3.0|\n",
            "+-------------+----------+\n",
            "\n"
          ]
        }
      ]
    },
    {
      "cell_type": "code",
      "source": [
        "from pyspark.sql.functions import col\n",
        "from pyspark.sql import DataFrame\n",
        "\n",
        "def calculate_label_accuracy(predictions: DataFrame, modell, label_col='label_init2', prediction_col='prediction', show_result=True):\n",
        "    \"\"\"\n",
        "    Tính độ chính xác cho từng nhãn trong DataFrame dự đoán từ mô hình Spark ML.\n",
        "\n",
        "    Args:\n",
        "        predictions (DataFrame): DataFrame chứa các cột `label` và `prediction`\n",
        "        label_col (str): Tên cột nhãn thật\n",
        "        prediction_col (str): Tên cột nhãn dự đoán\n",
        "        show_result (bool): Có in ra bảng kết quả không\n",
        "\n",
        "    Returns:\n",
        "        dict: Từ điển chứa độ chính xác theo nhãn\n",
        "    \"\"\"\n",
        "    # Nhóm theo nhãn thật và nhãn dự đoán\n",
        "    grouped = predictions.groupBy(label_col, prediction_col).count().collect()\n",
        "\n",
        "    accuracy_stats = {}\n",
        "\n",
        "    for row in grouped:\n",
        "        true_label = row[label_col]\n",
        "        pred_label = row[prediction_col]\n",
        "        count = row['count']\n",
        "\n",
        "        if true_label not in accuracy_stats:\n",
        "            accuracy_stats[true_label] = {'correct': 0, 'total': 0}\n",
        "\n",
        "        if true_label == pred_label:\n",
        "            accuracy_stats[true_label]['correct'] += count\n",
        "\n",
        "        accuracy_stats[true_label]['total'] += count\n",
        "\n",
        "    # Tính độ chính xác theo từng nhãn\n",
        "    label_accuracy = {\n",
        "        label: round((stat['correct'] / stat['total']) * 100, 2)\n",
        "        for label, stat in accuracy_stats.items()\n",
        "    }\n",
        "\n",
        "    if show_result:\n",
        "        print(f\"\\n🎯 {modell} Accuracy:\")\n",
        "        for label, acc in sorted(label_accuracy.items()):\n",
        "            print(f\" - Label {label}: {acc:.2f}%\")\n",
        "\n",
        "    return label_accuracy\n",
        "\n",
        "# Tính độ chính xác cho từng nhãn\n",
        "label_accuracy_dt = calculate_label_accuracy(predictions_dt, \"Decision Tree\")\n",
        "label_accuracy_rf = calculate_label_accuracy(predictions_rf, \"Randomforest\")\n",
        "label_accuracy_lr = calculate_label_accuracy(predictions_lr, \"Logistic Regression\")"
      ],
      "metadata": {
        "id": "lCnl8-7b0wfx",
        "colab": {
          "base_uri": "https://localhost:8080/"
        },
        "outputId": "90b857e3-1455-49d1-aa51-efe07d2e6d62"
      },
      "execution_count": 66,
      "outputs": [
        {
          "output_type": "stream",
          "name": "stdout",
          "text": [
            "\n",
            "🎯 Decision Tree Accuracy:\n",
            " - Label 0.0: 80.00%\n",
            " - Label 1.0: 80.00%\n",
            " - Label 2.0: 0.00%\n",
            " - Label 3.0: 80.00%\n",
            "\n",
            "🎯 Randomforest Accuracy:\n",
            " - Label 0.0: 0.00%\n",
            " - Label 1.0: 60.00%\n",
            " - Label 2.0: 20.00%\n",
            " - Label 3.0: 100.00%\n",
            "\n",
            "🎯 Logistic Regression Accuracy:\n",
            " - Label 0.0: 0.00%\n",
            " - Label 1.0: 20.00%\n",
            " - Label 2.0: 40.00%\n",
            " - Label 3.0: 100.00%\n"
          ]
        }
      ]
    },
    {
      "cell_type": "code",
      "source": [
        "dev_data.show(5)"
      ],
      "metadata": {
        "colab": {
          "base_uri": "https://localhost:8080/"
        },
        "id": "HqLY97OgjQbX",
        "outputId": "fd0cf1ab-93a6-4bab-92a9-a7d11b968081"
      },
      "execution_count": 61,
      "outputs": [
        {
          "output_type": "stream",
          "name": "stdout",
          "text": [
            "+--------------------+-------------+---------------------+--------------------+--------------+--------------------+--------------------+---------------+------------------+-----------+-----------------+------------------+-----------------+------------------+-----------------+------------------+-------------------+------------------+--------------+-----------+------------+---------------+----------+-------+-------------+-----------+----+------------+------+----+-------+---+------+\n",
            "|        LapTime_mean|Stint_nunique|WindDirection_nunique|     PitOutTime_mean|PitInTime_mean|    Sector1Time_mean|     Sector1Time_max|Sector1Time_min|      SpeedI1_mean|SpeedI1_max|      SpeedI1_min|      AirTemp_mean|    Humidity_mean|     Pressure_mean|   TrackTemp_mean|    WindSpeed_mean|      Rainfall_mean|IsPersonalBest_sum|FreshTyre_mean|Deleted_sum|GridPosition|TyreChangeCount|Experience|WinRate|PositionGroup|TrackStatus|HARD|INTERMEDIATE|MEDIUM|SOFT|UNKNOWN|WET|TeamId|\n",
            "+--------------------+-------------+---------------------+--------------------+--------------+--------------------+--------------------+---------------+------------------+-----------+-----------------+------------------+-----------------+------------------+-----------------+------------------+-------------------+------------------+--------------+-----------+------------+---------------+----------+-------+-------------+-----------+----+------------+------+----+-------+---+------+\n",
            "|9.510298167458118E10|            1|                    1|5.933929722222223E12|             0|3.199963911338208E10|4.763278947368421E10|              0|205.55522044418683|          0|137.3684210526316|              26.4|             64.0|            1012.4|             40.0|               1.3|                0.0|                 0|           1.0|          0|        14.0|            1.0|         0|    0.0|            3|         12|   0|           0|     1|   0|      0|  0|   0.0|\n",
            "|9.595455555555556E10|            1|                   26|5.933929722222223E12|             0|3.199165384615384...|           3.5914E10|              0|          205.4375|          0|            156.0|26.621428571428574|61.67857142857143|1012.3285714285714|38.20714285714286|0.9785714285714286|                0.0|                 9|           1.0|          0|        19.0|            1.0|         0|    0.0|            3|         12|   0|           0|     0|   0|      0|  0|   3.0|\n",
            "|9.851419444444444E10|            2|                   31|         6.189972E12|             0|3.333125714285714...|           5.3285E10|              0|         203.78125|          0|            104.0| 26.55555555555556|61.52777777777778| 1012.302777777778| 37.6861111111111|0.9444444444444444|0.05555555555555555|                 4|           1.0|          0|        15.0|            2.0|         0|    0.0|            3|         12|   0|           0|     0|   0|      0|  0|   6.0|\n",
            "| 9.47547543859649E10|            2|                   48|         6.029714E12|             0|           3.1873E10|           4.5702E10|              0| 205.4418604651163|          0|            146.0| 26.36491228070176| 62.3859649122807|1012.1771929824561|36.80701754385966|0.9491228070175439|0.05263157894736842|                13|           1.0|          0|        10.0|            2.0|         0|    0.0|            1|         12|   0|           0|     0|   0|      0|  0|   7.0|\n",
            "| 9.45372456140351E10|            2|                   47|          6.24521E12|             0|3.198991071428571...|           4.5823E10|              0|204.14285714285714|          0|            138.0|26.366666666666667|62.36842105263158|1012.1807017543861|36.82105263157896|0.9403508771929824|0.05263157894736842|                 8|           1.0|          0|         8.0|            2.0|         0|    0.0|            1|         12|   0|           0|     0|   0|      0|  0|   2.0|\n",
            "+--------------------+-------------+---------------------+--------------------+--------------+--------------------+--------------------+---------------+------------------+-----------+-----------------+------------------+-----------------+------------------+-----------------+------------------+-------------------+------------------+--------------+-----------+------------+---------------+----------+-------+-------------+-----------+----+------------+------+----+-------+---+------+\n",
            "only showing top 5 rows\n",
            "\n"
          ]
        }
      ]
    },
    {
      "cell_type": "code",
      "source": [
        "from pyspark.ml import PipelineModel\n",
        "\n",
        "# Load pipeline đã fit từ ổ đĩa\n",
        "loaded_pipeline = PipelineModel.load(\"models/dl_model/pipeline_model\")\n",
        "\n",
        "# Dùng pipeline đã fit để transform dữ liệu mới\n",
        "dev_transformed = loaded_pipeline.transform(dev_data)\n",
        "\n",
        "# Lấy nhãn thật từ dev_transformed (hoặc dev_data đều được)\n",
        "y_dev_true = np.array(dev_transformed.select(\"PositionGroup\").rdd.map(lambda row: row[0]).collect())\n",
        "\n",
        "# Convert sang numpy để predict bằng model deep learning\n",
        "def to_numpy_features_only(df):\n",
        "    return np.array(df.select(\"features_scaled\").rdd.map(lambda row: row[0].toArray()).collect())\n",
        "\n",
        "X_dev = to_numpy_features_only(dev_transformed)\n",
        "\n",
        "# Predict\n",
        "y_dev_probs = model.predict(X_dev)\n",
        "y_dev_pred = y_dev_probs.argmax(axis=1)"
      ],
      "metadata": {
        "colab": {
          "base_uri": "https://localhost:8080/"
        },
        "id": "lSC7_RjiiM3g",
        "outputId": "0312a2f3-1645-4c74-ab32-907f9e4e5bcc"
      },
      "execution_count": 77,
      "outputs": [
        {
          "output_type": "stream",
          "name": "stdout",
          "text": [
            "\u001b[1m1/1\u001b[0m \u001b[32m━━━━━━━━━━━━━━━━━━━━\u001b[0m\u001b[37m\u001b[0m \u001b[1m0s\u001b[0m 78ms/step\n"
          ]
        }
      ]
    },
    {
      "cell_type": "code",
      "source": [
        "y_dev_probs"
      ],
      "metadata": {
        "colab": {
          "base_uri": "https://localhost:8080/"
        },
        "id": "Abd6GikBhdRp",
        "outputId": "726fa14e-85ac-4040-9edf-8186ca971e81"
      },
      "execution_count": 78,
      "outputs": [
        {
          "output_type": "execute_result",
          "data": {
            "text/plain": [
              "array([[3.54794814e-04, 1.12541864e-04, 1.18134124e-03, 9.98351216e-01],\n",
              "       [3.12505616e-03, 1.35856867e-02, 8.24936628e-02, 9.00795519e-01],\n",
              "       [2.78266380e-03, 5.15090860e-02, 4.45225298e-01, 5.00482976e-01],\n",
              "       [9.76440012e-02, 3.41577649e-01, 4.84945297e-01, 7.58330822e-02],\n",
              "       [6.59311116e-01, 1.46501422e-01, 1.00042142e-01, 9.41453949e-02],\n",
              "       [9.41889454e-03, 1.44120187e-01, 2.83977509e-01, 5.62483430e-01],\n",
              "       [7.03079581e-01, 9.79078934e-02, 7.21759722e-02, 1.26836643e-01],\n",
              "       [6.95549790e-03, 2.17599913e-01, 4.59116518e-01, 3.16328019e-01],\n",
              "       [2.60083284e-03, 1.11190923e-01, 7.03452229e-01, 1.82756037e-01],\n",
              "       [3.80392730e-01, 3.73590708e-01, 1.56302780e-01, 8.97138864e-02],\n",
              "       [1.82431102e-01, 4.06912953e-01, 3.22266847e-01, 8.83891955e-02],\n",
              "       [3.26300472e-01, 1.73311323e-01, 3.05168897e-01, 1.95219368e-01],\n",
              "       [8.82805288e-02, 1.71633080e-01, 5.12362719e-01, 2.27723762e-01],\n",
              "       [9.24522460e-01, 4.28417809e-02, 1.00851031e-02, 2.25505549e-02],\n",
              "       [7.98879743e-01, 5.25140651e-02, 4.23349403e-02, 1.06271289e-01],\n",
              "       [8.49573407e-03, 3.71611655e-01, 3.06484997e-01, 3.13407600e-01],\n",
              "       [8.06687891e-01, 6.46104962e-02, 5.65813556e-02, 7.21202493e-02],\n",
              "       [9.39788878e-01, 2.25255452e-02, 8.26981477e-03, 2.94157602e-02],\n",
              "       [8.97849143e-01, 3.35064679e-02, 2.25227959e-02, 4.61216122e-02],\n",
              "       [1.80605017e-02, 2.80363947e-01, 4.73623216e-01, 2.27952346e-01]],\n",
              "      dtype=float32)"
            ]
          },
          "metadata": {},
          "execution_count": 78
        }
      ]
    },
    {
      "cell_type": "code",
      "source": [
        "y_dev_pred"
      ],
      "metadata": {
        "colab": {
          "base_uri": "https://localhost:8080/"
        },
        "id": "IZOqFeJLnGzt",
        "outputId": "35f28718-776e-494f-e4df-cde948928e0e"
      },
      "execution_count": 79,
      "outputs": [
        {
          "output_type": "execute_result",
          "data": {
            "text/plain": [
              "array([3, 3, 3, 2, 0, 3, 0, 2, 2, 0, 1, 0, 2, 0, 0, 1, 0, 0, 0, 2])"
            ]
          },
          "metadata": {},
          "execution_count": 79
        }
      ]
    },
    {
      "cell_type": "code",
      "source": [
        "from sklearn.metrics import accuracy_score\n",
        "import numpy as np\n",
        "\n",
        "# Tính accuracy tổng thể\n",
        "accuracy = accuracy_score(y_dev_true, y_dev_pred)\n",
        "print(\"Accuracy tổng thể:\", accuracy)\n",
        "\n",
        "# Tính accuracy theo từng nhãn\n",
        "unique_labels = np.unique(y_dev_true)\n",
        "for label in unique_labels:\n",
        "    idx = y_dev_true == label\n",
        "    acc = accuracy_score(y_dev_true[idx], y_dev_pred[idx])\n",
        "    print(f\"Accuracy cho nhãn {label}: {acc:.4f}\")"
      ],
      "metadata": {
        "colab": {
          "base_uri": "https://localhost:8080/"
        },
        "id": "KPr-BQAloYS9",
        "outputId": "75a2d468-acd9-44ce-e521-20c6002038ac"
      },
      "execution_count": 80,
      "outputs": [
        {
          "output_type": "stream",
          "name": "stdout",
          "text": [
            "Accuracy tổng thể: 0.5\n",
            "Accuracy cho nhãn 0: 0.8000\n",
            "Accuracy cho nhãn 1: 0.0000\n",
            "Accuracy cho nhãn 2: 0.4000\n",
            "Accuracy cho nhãn 3: 0.8000\n"
          ]
        }
      ]
    },
    {
      "cell_type": "markdown",
      "source": [
        "##### __REAL TIME__"
      ],
      "metadata": {
        "id": "o1DUhqqXN52G"
      }
    },
    {
      "cell_type": "code",
      "source": [
        "import os\n",
        "\n",
        "# Tạo thư mục nếu chưa tồn tại\n",
        "if not os.path.exists('streaming'):\n",
        "    os.makedirs('streaming')"
      ],
      "metadata": {
        "id": "xQdYfv8QOCMs"
      },
      "execution_count": null,
      "outputs": []
    },
    {
      "cell_type": "code",
      "source": [
        "!mkdir -p streaming/laps streaming/weather streaming/drivers"
      ],
      "metadata": {
        "id": "DpLKsaymQjI-"
      },
      "execution_count": null,
      "outputs": []
    },
    {
      "cell_type": "code",
      "source": [
        "df_drivers = pd.read_parquet(r\"/content/drive/MyDrive/Fastf1/raw/TEST/miami_grand_prix_r_drivers.parquet\")"
      ],
      "metadata": {
        "id": "h7QLUg9-OwBT"
      },
      "execution_count": null,
      "outputs": []
    },
    {
      "cell_type": "code",
      "source": [
        "schema_drivers = StructType([\n",
        "    StructField(\"driver_number\", StringType(), True),\n",
        "    StructField(\"driver_code\", StringType(), True),\n",
        "    StructField(\"first_name\", StringType(), True),\n",
        "    StructField(\"last_name\", StringType(), True),\n",
        "    StructField(\"team_name\", StringType(), True),\n",
        "])"
      ],
      "metadata": {
        "id": "B1IGKNfjPJbE"
      },
      "execution_count": null,
      "outputs": []
    },
    {
      "cell_type": "code",
      "source": [
        "# 1. Đọc streaming nguồn\n",
        "laps_df = spark.readStream.schema(schema_laps).option(\"header\", True).csv(\"streaming/laps\")\n",
        "weather_df = spark.readStream.schema(schema_weather).option(\"header\", True).csv(\"streaming/weather\")\n",
        "drivers_df = spark.readStream.schema(schema_drivers).option(\"header\", True).csv(\"streaming/drivers\")\n",
        "\n",
        "# 2. Join lấy record weather gần nhất trước thời điểm laps.Time\n",
        "joined = laps_df.alias(\"laps\").join(\n",
        "    weather_df.alias(\"weather\"),\n",
        "    expr(\"laps.Time >= weather.Time\"), \"leftOuter\"\n",
        ").withColumn(\"time_diff\", col(\"laps.Time\") - col(\"weather.Time\"))\n",
        "\n",
        "# Window để lấy record weather gần nhất\n",
        "window_spec = Window.partitionBy(\"laps.DriverNumber\", \"laps.LapNumber\", \"laps.Time\")\n",
        "\n",
        "joined_with_rownum = joined.withColumn(\"row_number\", row_number().over(window_spec))\n",
        "filtered = joined_with_rownum.filter(col(\"row_number\") == 1).drop(\"row_number\", \"time_diff\")\n",
        "\n",
        "# 3. Tính các đặc trưng tổng hợp theo DriverNumber\n",
        "features_agg = filtered.groupBy(\"DriverNumber\").agg(\n",
        "    F.avg(\"LapTime\").alias(\"LapTime_mean\"),\n",
        "    F.countDistinct(\"Stint\").alias(\"Stint_nunique\"),\n",
        "    F.countDistinct(\"WindDirection\").alias(\"WindDirection_nunique\"),\n",
        "    F.avg(\"PitOutTime\").alias(\"PitOutTime_mean\"),\n",
        "    F.avg(\"PitInTime\").alias(\"PitInTime_mean\"),\n",
        "    F.avg(\"Sector1Time\").alias(\"Sector1Time_mean\"),\n",
        "    F.max(\"Sector1Time\").alias(\"Sector1Time_max\"),\n",
        "    F.min(\"Sector1Time\").alias(\"Sector1Time_min\"),\n",
        "    F.avg(\"SpeedI1\").alias(\"SpeedI1_mean\"),\n",
        "    F.max(\"SpeedI1\").alias(\"SpeedI1_max\"),\n",
        "    F.min(\"SpeedI1\").alias(\"SpeedI1_min\"),\n",
        "    F.avg(\"AirTemp\").alias(\"AirTemp_mean\"),\n",
        "    F.avg(\"Humidity\").alias(\"Humidity_mean\"),\n",
        "    F.avg(\"Pressure\").alias(\"Pressure_mean\"),\n",
        "    F.avg(\"TrackTemp\").alias(\"TrackTemp_mean\"),\n",
        "    F.avg(\"WindSpeed\").alias(\"WindSpeed_mean\"),\n",
        "    F.avg(when(col(\"Rainfall\") == True, 1).otherwise(0)).alias(\"Rainfall_mean\"),\n",
        "    F.sum(when(col(\"IsPersonalBest\") == True, 1).otherwise(0)).alias(\"IsPersonalBest_sum\"),\n",
        "    F.avg(when(col(\"FreshTyre\") == True, 1).otherwise(0)).alias(\"FreshTyre_mean\"),\n",
        "    F.sum(when(col(\"Deleted\") == True, 1).otherwise(0)).alias(\"Deleted_sum\")\n",
        ")\n",
        "\n",
        "# 4. Tính mode đơn giản (first value) cho Compound và TrackStatus\n",
        "def mode_spark(df, group_key, target_col):\n",
        "    return df.groupBy(group_key).agg(expr(f\"first({target_col}) as {target_col}_mode\"))\n",
        "\n",
        "compound_mode = mode_spark(filtered, 'DriverNumber', 'Compound')\n",
        "trackstatus_mode = mode_spark(filtered, 'DriverNumber', 'TrackStatus')\n",
        "\n",
        "# 5. Tính số lần thay lốp TyreLife=1\n",
        "tyre_change_counts = filtered.filter(col(\"TyreLife\") == 1) \\\n",
        "    .groupBy(\"DriverNumber\").agg(F.count(\"*\").alias(\"TyreChangeCount\"))\n",
        "\n",
        "# 6. Tính thời gian stint trung bình\n",
        "stint_time_df = filtered.groupBy(\"DriverNumber\", \"Stint\").agg(\n",
        "    F.sum(\"PitOutTime\").alias(\"TotalPitOutTime\"),\n",
        "    F.sum(\"PitInTime\").alias(\"TotalPitInTime\")\n",
        ")\n",
        "stint_time_df = stint_time_df.withColumn(\"StintTime\", col(\"TotalPitOutTime\") - col(\"TotalPitInTime\"))\n",
        "avg_stint_time_df = stint_time_df.groupBy(\"DriverNumber\").agg(F.avg(\"StintTime\").alias(\"AvgStintTime\"))\n",
        "\n",
        "# 7. Kết hợp các đặc trưng\n",
        "features_df = features_agg \\\n",
        "    .join(compound_mode, \"DriverNumber\", \"left\") \\\n",
        "    .join(trackstatus_mode, \"DriverNumber\", \"left\") \\\n",
        "    .join(tyre_change_counts, \"DriverNumber\", \"left\") \\\n",
        "    .join(avg_stint_time_df, \"DriverNumber\", \"left\")"
      ],
      "metadata": {
        "id": "mhcEGoA_SbRy"
      },
      "execution_count": null,
      "outputs": []
    },
    {
      "cell_type": "code",
      "source": [
        "query = final_df.writeStream \\\n",
        "    .format(\"console\") \\\n",
        "    .option(\"truncate\", False) \\\n",
        "    .outputMode(\"append\") \\\n",
        "    .start()\n",
        "\n",
        "query.awaitTermination()"
      ],
      "metadata": {
        "id": "W5hzA8trUR5a"
      },
      "execution_count": null,
      "outputs": []
    },
    {
      "cell_type": "code",
      "source": [
        "import pandas as pd\n",
        "\n",
        "laps_master = pd.read_parquet(r\"/content/drive/MyDrive/Fastf1/raw/TEST/miami_grand_prix_r_laps.parquet\")\n",
        "laps_master = pd.read_parquet(r\"/content/drive/MyDrive/Fastf1/raw/TEST/miami_grand_prix_r_laps.parquet\")"
      ],
      "metadata": {
        "id": "YmoHDYnrUXbM"
      },
      "execution_count": null,
      "outputs": []
    }
  ]
}