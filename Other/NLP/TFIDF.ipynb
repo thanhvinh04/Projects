{
 "cells": [
  {
   "cell_type": "markdown",
   "metadata": {
    "id": "qIkUhOTizMlq"
   },
   "source": [
    "# __1. Thư viện__"
   ]
  },
  {
   "cell_type": "code",
   "execution_count": 73,
   "metadata": {
    "colab": {
     "base_uri": "https://localhost:8080/"
    },
    "executionInfo": {
     "elapsed": 3069,
     "status": "ok",
     "timestamp": 1734322271097,
     "user": {
      "displayName": "Nguyễn Trương Hoàng",
      "userId": "04971599599493899416"
     },
     "user_tz": -420
    },
    "id": "7SoHxI6bzjxu",
    "outputId": "2f449346-6399-4563-edc2-4b444433fe3f"
   },
   "outputs": [],
   "source": [
    "# from google.colab import drive\n",
    "# drive.mount('/content/drive')"
   ]
  },
  {
   "cell_type": "code",
   "execution_count": 74,
   "metadata": {
    "colab": {
     "base_uri": "https://localhost:8080/"
    },
    "executionInfo": {
     "elapsed": 24,
     "status": "ok",
     "timestamp": 1734322271098,
     "user": {
      "displayName": "Nguyễn Trương Hoàng",
      "userId": "04971599599493899416"
     },
     "user_tz": -420
    },
    "id": "qp0i-pCE2nZr",
    "outputId": "ecc2623a-0f18-4705-9953-7d97bf11ff3a"
   },
   "outputs": [],
   "source": [
    "# %cd \"/content/drive/MyDrive/Colab Notebooks/Code/NopThay\""
   ]
  },
  {
   "cell_type": "code",
   "execution_count": 75,
   "metadata": {
    "colab": {
     "base_uri": "https://localhost:8080/"
    },
    "collapsed": true,
    "executionInfo": {
     "elapsed": 17162,
     "status": "ok",
     "timestamp": 1734322288251,
     "user": {
      "displayName": "Nguyễn Trương Hoàng",
      "userId": "04971599599493899416"
     },
     "user_tz": -420
    },
    "id": "vvZHVkkezo06",
    "outputId": "d4b216ec-04c5-4b8e-dcf0-6f88b235c63b"
   },
   "outputs": [],
   "source": [
    "# !pip install keras-tuner\n",
    "# !pip install import-ipynb"
   ]
  },
  {
   "cell_type": "code",
   "execution_count": 1,
   "metadata": {
    "executionInfo": {
     "elapsed": 9881,
     "status": "ok",
     "timestamp": 1734322298124,
     "user": {
      "displayName": "Nguyễn Trương Hoàng",
      "userId": "04971599599493899416"
     },
     "user_tz": -420
    },
    "id": "J4Ai48xizL9K"
   },
   "outputs": [],
   "source": [
    "import os\n",
    "os.environ['TF_CPP_MIN_LOG_LEVEL'] = '3'\n",
    "\n",
    "import numpy as np\n",
    "import tensorflow as tf\n",
    "import matplotlib.pyplot as plt\n",
    "from sklearn.decomposition import PCA\n",
    "import pandas as pd\n",
    "\n",
    "%matplotlib inline"
   ]
  },
  {
   "cell_type": "code",
   "execution_count": 2,
   "metadata": {
    "executionInfo": {
     "elapsed": 895,
     "status": "ok",
     "timestamp": 1734322299015,
     "user": {
      "displayName": "Nguyễn Trương Hoàng",
      "userId": "04971599599493899416"
     },
     "user_tz": -420
    },
    "id": "YkA6MUtF9bUJ"
   },
   "outputs": [],
   "source": [
    "import import_ipynb\n",
    "import MLTunning as MLT"
   ]
  },
  {
   "cell_type": "markdown",
   "metadata": {
    "id": "R2fTXviq0Bn_"
   },
   "source": [
    "# __2. Vectorize - TFIDF__"
   ]
  },
  {
   "cell_type": "code",
   "execution_count": 3,
   "metadata": {
    "executionInfo": {
     "elapsed": 10,
     "status": "ok",
     "timestamp": 1734322299016,
     "user": {
      "displayName": "Nguyễn Trương Hoàng",
      "userId": "04971599599493899416"
     },
     "user_tz": -420
    },
    "id": "jLYF_60a0A_x"
   },
   "outputs": [],
   "source": [
    "from sklearn.feature_extraction.text import TfidfVectorizer\n",
    "\n",
    "def apply_tfidf(X_train, X_test):\n",
    "    \"\"\"Applies TF-IDF vectorization to the training and testing datasets.\n",
    "\n",
    "    Args:\n",
    "        X_train: Training data (list of text documents).\n",
    "        X_test: Testing data (list of text documents).\n",
    "\n",
    "    Returns:\n",
    "        Tuple: (X_train_tfidf, X_test_tfidf), where X_train_tfidf and X_test_tfidf\n",
    "               are the TF-IDF vectorized representations of the training and testing data.\n",
    "    \"\"\"\n",
    "    vectorizer = TfidfVectorizer()\n",
    "    X_train_tfidf = vectorizer.fit_transform(X_train)\n",
    "    X_test_tfidf = vectorizer.transform(X_test)\n",
    "    return X_train_tfidf, X_test_tfidf"
   ]
  },
  {
   "cell_type": "markdown",
   "metadata": {
    "id": "R87qIg3Y3wtI"
   },
   "source": [
    "# __3. Phân tích câu dài__\n"
   ]
  },
  {
   "cell_type": "markdown",
   "metadata": {
    "id": "0YckhgxL6_gx"
   },
   "source": [
    "### ___3.1. Đọc bộ dữ liệu full đã được xử lý___"
   ]
  },
  {
   "cell_type": "code",
   "execution_count": 79,
   "metadata": {
    "colab": {
     "base_uri": "https://localhost:8080/"
    },
    "executionInfo": {
     "elapsed": 323,
     "status": "ok",
     "timestamp": 1734322299330,
     "user": {
      "displayName": "Nguyễn Trương Hoàng",
      "userId": "04971599599493899416"
     },
     "user_tz": -420
    },
    "id": "V37x0VRT6_ED",
    "outputId": "17f55d3f-d0d3-4a23-a37e-6c8394a50fe2"
   },
   "outputs": [
    {
     "name": "stdout",
     "output_type": "stream",
     "text": [
      "                                    content_comments  \\\n",
      "0  thay đổi coment tăng  size hãy làm như bạn muố...   \n",
      "1  quần dày mỗi lần size nhỏ nhắn tin cửa hàng đổ...   \n",
      "2  đã nhận được đóng gói màu đúng mẫu đúng sau sẽ...   \n",
      "3  đã nhận được đóng gói sizesẽ khả năng quay lại...   \n",
      "4  hình ảnh nhận xu và quan đơn giản thôi mua nhi...   \n",
      "\n",
      "                                         comment_eng  sentiment  \\\n",
      "0  Change the cmt to increase 1 size. Please do a...          0   \n",
      "1  thick pants\\nEvery time the size is small, mes...          0   \n",
      "2  Received the goods...shop packaged quickly...r...          1   \n",
      "3  Received the goods...shop packaged quickly...r...          1   \n",
      "4  The picture of receipt of coin and quan is sim...          0   \n",
      "\n",
      "                                       word_tokenize  \n",
      "0  thay_đổi coment tăng size hãy làm như bạn muốn...  \n",
      "1  quần dày mỗi lần size nhỏ_nhắn tin cửa_hàng đổ...  \n",
      "2  đã nhận được đóng_gói màu đúng mẫu đúng sau sẽ...  \n",
      "3  đã nhận được đóng_gói sizesẽ khả_năng quay lại...  \n",
      "4  hình_ảnh nhận xu và quan đơn_giản thôi mua nhi...  \n"
     ]
    }
   ],
   "source": [
    "file_path = r'C:\\\\Users\\\\Nguyen_Thanh_Vinh\\\\Downloads\\\\NopThay\\\\preprocessed_data.xlsx'\n",
    "df = pd.read_excel(file_path)\n",
    "print(df.head())"
   ]
  },
  {
   "cell_type": "markdown",
   "metadata": {
    "id": "2OrKuPiZ7kn6"
   },
   "source": [
    "### ___3.2. Vectorize - TFIDF - Full___"
   ]
  },
  {
   "cell_type": "code",
   "execution_count": 4,
   "metadata": {
    "executionInfo": {
     "elapsed": 7,
     "status": "ok",
     "timestamp": 1734322299330,
     "user": {
      "displayName": "Nguyễn Trương Hoàng",
      "userId": "04971599599493899416"
     },
     "user_tz": -420
    },
    "id": "7vjjdyGw7o4x"
   },
   "outputs": [
    {
     "ename": "NameError",
     "evalue": "name 'df' is not defined",
     "output_type": "error",
     "traceback": [
      "\u001b[1;31m---------------------------------------------------------------------------\u001b[0m",
      "\u001b[1;31mNameError\u001b[0m                                 Traceback (most recent call last)",
      "Cell \u001b[1;32mIn[4], line 6\u001b[0m\n\u001b[0;32m      4\u001b[0m \u001b[38;5;28;01mfrom\u001b[39;00m \u001b[38;5;21;01msklearn\u001b[39;00m\u001b[38;5;21;01m.\u001b[39;00m\u001b[38;5;21;01mmetrics\u001b[39;00m \u001b[38;5;28;01mimport\u001b[39;00m accuracy_score, classification_report\n\u001b[0;32m      5\u001b[0m \u001b[38;5;66;03m# Prepare the data\u001b[39;00m\n\u001b[1;32m----> 6\u001b[0m X \u001b[38;5;241m=\u001b[39m \u001b[43mdf\u001b[49m[\u001b[38;5;124m'\u001b[39m\u001b[38;5;124mword_tokenize\u001b[39m\u001b[38;5;124m'\u001b[39m]\n\u001b[0;32m      7\u001b[0m y \u001b[38;5;241m=\u001b[39m df[\u001b[38;5;124m'\u001b[39m\u001b[38;5;124msentiment\u001b[39m\u001b[38;5;124m'\u001b[39m]\n\u001b[0;32m      8\u001b[0m \u001b[38;5;66;03m# Before splitting, drop rows with NaN in 'word_tokenize'\u001b[39;00m\n",
      "\u001b[1;31mNameError\u001b[0m: name 'df' is not defined"
     ]
    }
   ],
   "source": [
    "from sklearn.model_selection import train_test_split\n",
    "from sklearn.feature_extraction.text import TfidfVectorizer\n",
    "from sklearn.linear_model import LogisticRegression\n",
    "from sklearn.metrics import accuracy_score, classification_report\n",
    "# Prepare the data\n",
    "X = df['word_tokenize']\n",
    "y = df['sentiment']\n",
    "# Before splitting, drop rows with NaN in 'word_tokenize'\n",
    "X = X.dropna()  # Drop rows with NaN values in 'word_tokenize' column\n",
    "y = y[X.index]  # Align y with the dropped rows in X\n",
    "\n",
    "# Split data into training and testing sets\n",
    "X_train, X_test, y_train, y_test = train_test_split(X, y, test_size=0.2, random_state=42)"
   ]
  },
  {
   "cell_type": "code",
   "execution_count": 81,
   "metadata": {
    "executionInfo": {
     "elapsed": 8,
     "status": "ok",
     "timestamp": 1734322299331,
     "user": {
      "displayName": "Nguyễn Trương Hoàng",
      "userId": "04971599599493899416"
     },
     "user_tz": -420
    },
    "id": "8qm9l60075IX"
   },
   "outputs": [],
   "source": [
    "X_train_vec, X_test_vec = apply_tfidf(X_train, X_test)"
   ]
  },
  {
   "cell_type": "markdown",
   "metadata": {
    "id": "k98NKB6a-g7K"
   },
   "source": [
    "### ___3.3. Mô hình ML - Logistic regression - Full___"
   ]
  },
  {
   "cell_type": "code",
   "execution_count": 82,
   "metadata": {
    "colab": {
     "base_uri": "https://localhost:8080/",
     "height": 1000
    },
    "executionInfo": {
     "elapsed": 3419,
     "status": "ok",
     "timestamp": 1734322302743,
     "user": {
      "displayName": "Nguyễn Trương Hoàng",
      "userId": "04971599599493899416"
     },
     "user_tz": -420
    },
    "id": "OYRva18X-rDo",
    "outputId": "6c7e4525-e689-4ac3-90f8-40cb618aea34"
   },
   "outputs": [
    {
     "name": "stdout",
     "output_type": "stream",
     "text": [
      "Best hyperparameters (Logistic regression): {'solver': 'saga', 'penalty': 'l2', 'C': 100}\n",
      "Best score (Logistic regression): 0.9109371618209364\n",
      "Best Logistic regression Accuracy: 0.9375\n",
      "Best Logistic regression Precision: 0.9272727272727272\n",
      "Best Logistic regression Recall: 0.9532710280373832\n",
      "Best Logistic regression AUC: 0.9381261595547311\n",
      "\n",
      "Classification Report:  LogisticRegression\n",
      "              precision    recall  f1-score   support\n",
      "\n",
      "           0       0.92      0.95      0.93        98\n",
      "           1       0.95      0.93      0.94       110\n",
      "\n",
      "    accuracy                           0.94       208\n",
      "   macro avg       0.94      0.94      0.94       208\n",
      "weighted avg       0.94      0.94      0.94       208\n",
      "\n",
      "ROC_AUC_SCORE is  0.9381261595547311\n"
     ]
    },
    {
     "data": {
      "image/png": "[encoded data removed]",
      "text/plain": [
       "<Figure size 640x480 with 1 Axes>"
      ]
     },
     "metadata": {},
     "output_type": "display_data"
    },
    {
     "data": {
      "image/png": "[encoded data removed]",
      "text/plain": [
       "<Figure size 640x480 with 2 Axes>"
      ]
     },
     "metadata": {},
     "output_type": "display_data"
    }
   ],
   "source": [
    "logreg_results = MLT.tune_logistic_regression(X_train_vec, y_train, X_test_vec, y_test)"
   ]
  },
  {
   "cell_type": "code",
   "execution_count": 83,
   "metadata": {
    "executionInfo": {
     "elapsed": 8,
     "status": "ok",
     "timestamp": 1734322302743,
     "user": {
      "displayName": "Nguyễn Trương Hoàng",
      "userId": "04971599599493899416"
     },
     "user_tz": -420
    },
    "id": "G6rusxn6Dd5G"
   },
   "outputs": [],
   "source": [
    "best_logreg_model_full = logreg_results[0]"
   ]
  },
  {
   "cell_type": "markdown",
   "metadata": {
    "id": "H8bN2uky-rVv"
   },
   "source": [
    "### ___3.4. Mô hình ML - RandomForest - Full___"
   ]
  },
  {
   "cell_type": "code",
   "execution_count": 84,
   "metadata": {
    "colab": {
     "base_uri": "https://localhost:8080/",
     "height": 1000
    },
    "executionInfo": {
     "elapsed": 15872,
     "status": "ok",
     "timestamp": 1734322461746,
     "user": {
      "displayName": "Nguyễn Trương Hoàng",
      "userId": "04971599599493899416"
     },
     "user_tz": -420
    },
    "id": "kYA_aueK-vTO",
    "outputId": "a341ca36-4bfa-4ca3-89cf-1ad534d53d10"
   },
   "outputs": [
    {
     "name": "stderr",
     "output_type": "stream",
     "text": [
      "c:\\Users\\Nguyen_Thanh_Vinh\\anaconda3\\envs\\RP_Env\\Lib\\site-packages\\sklearn\\model_selection\\_validation.py:540: FitFailedWarning: \n",
      "20 fits failed out of a total of 50.\n",
      "The score on these train-test partitions for these parameters will be set to nan.\n",
      "If these failures are not expected, you can try to debug them by setting error_score='raise'.\n",
      "\n",
      "Below are more details about the failures:\n",
      "--------------------------------------------------------------------------------\n",
      "20 fits failed with the following error:\n",
      "Traceback (most recent call last):\n",
      "  File \"c:\\Users\\Nguyen_Thanh_Vinh\\anaconda3\\envs\\RP_Env\\Lib\\site-packages\\sklearn\\model_selection\\_validation.py\", line 888, in _fit_and_score\n",
      "    estimator.fit(X_train, y_train, **fit_params)\n",
      "  File \"c:\\Users\\Nguyen_Thanh_Vinh\\anaconda3\\envs\\RP_Env\\Lib\\site-packages\\sklearn\\base.py\", line 1466, in wrapper\n",
      "    estimator._validate_params()\n",
      "  File \"c:\\Users\\Nguyen_Thanh_Vinh\\anaconda3\\envs\\RP_Env\\Lib\\site-packages\\sklearn\\base.py\", line 666, in _validate_params\n",
      "    validate_parameter_constraints(\n",
      "  File \"c:\\Users\\Nguyen_Thanh_Vinh\\anaconda3\\envs\\RP_Env\\Lib\\site-packages\\sklearn\\utils\\_param_validation.py\", line 95, in validate_parameter_constraints\n",
      "    raise InvalidParameterError(\n",
      "sklearn.utils._param_validation.InvalidParameterError: The 'max_features' parameter of RandomForestClassifier must be an int in the range [1, inf), a float in the range (0.0, 1.0], a str among {'sqrt', 'log2'} or None. Got 'auto' instead.\n",
      "\n",
      "  warnings.warn(some_fits_failed_message, FitFailedWarning)\n",
      "c:\\Users\\Nguyen_Thanh_Vinh\\anaconda3\\envs\\RP_Env\\Lib\\site-packages\\sklearn\\model_selection\\_search.py:1102: UserWarning: One or more of the test scores are non-finite: [0.60526658 0.90970348 0.55837241        nan 0.85798283 0.90129139\n",
      "        nan        nan 0.79538273        nan]\n",
      "  warnings.warn(\n"
     ]
    },
    {
     "name": "stdout",
     "output_type": "stream",
     "text": [
      "Best hyperparameters (RandomForestClassifier): {'max_depth': 21, 'max_features': 'log2', 'min_samples_leaf': 1, 'min_samples_split': 3, 'n_estimators': 232}\n",
      "Best score (RandomForestClassifier): 0.909703484597071\n",
      "Best Random Forest Accuracy: 0.9230769230769231\n",
      "Best Random Forest Precision: 0.9\n",
      "Best Random Forest Recall: 0.9519230769230769\n",
      "Best Random Forest AUC: 0.9244897959183673\n",
      "Classification Report:  RandomForestClassifier\n",
      "              precision    recall  f1-score   support\n",
      "\n",
      "           0       0.89      0.95      0.92        98\n",
      "           1       0.95      0.90      0.93       110\n",
      "\n",
      "    accuracy                           0.92       208\n",
      "   macro avg       0.92      0.92      0.92       208\n",
      "weighted avg       0.92      0.92      0.92       208\n",
      "\n",
      "ROC_AUC_SCORE is  0.9244897959183673\n"
     ]
    },
    {
     "data": {
      "image/png": "[encoded data removed]",
      "text/plain": [
       "<Figure size 640x480 with 1 Axes>"
      ]
     },
     "metadata": {},
     "output_type": "display_data"
    },
    {
     "data": {
      "image/png": "[encoded data removed]",
      "text/plain": [
       "<Figure size 640x480 with 2 Axes>"
      ]
     },
     "metadata": {},
     "output_type": "display_data"
    }
   ],
   "source": [
    "rf_results = MLT.tune_random_forest(X_train_vec, y_train, X_test_vec, y_test)"
   ]
  },
  {
   "cell_type": "code",
   "execution_count": 85,
   "metadata": {
    "executionInfo": {
     "elapsed": 16,
     "status": "ok",
     "timestamp": 1734322344378,
     "user": {
      "displayName": "Nguyễn Trương Hoàng",
      "userId": "04971599599493899416"
     },
     "user_tz": -420
    },
    "id": "-klS_3fHD471"
   },
   "outputs": [],
   "source": [
    "best_rf_model_full = rf_results[0]"
   ]
  },
  {
   "cell_type": "markdown",
   "metadata": {
    "id": "UCb9eSJV-vj7"
   },
   "source": [
    "### ___3.5. Mô hình ML - NavieBayes - Full___"
   ]
  },
  {
   "cell_type": "code",
   "execution_count": 86,
   "metadata": {
    "colab": {
     "base_uri": "https://localhost:8080/",
     "height": 1000
    },
    "executionInfo": {
     "elapsed": 1230,
     "status": "ok",
     "timestamp": 1734322345593,
     "user": {
      "displayName": "Nguyễn Trương Hoàng",
      "userId": "04971599599493899416"
     },
     "user_tz": -420
    },
    "id": "TGyXVA-6-2If",
    "outputId": "21bf377e-fc5b-4a81-ea2a-005cf87b26dc"
   },
   "outputs": [
    {
     "name": "stdout",
     "output_type": "stream",
     "text": [
      "Best hyperparameters (MultinomialNB): {'alpha': 1.038748454822801}\n",
      "Best score (MultinomialNB): 0.8976841497727437\n",
      "Best Navie Bayes Accuracy: 0.9182692307692307\n",
      "Best Naive Bayes Precision: 0.9636363636363636\n",
      "Best Navie Bayes Recall: 0.8907563025210085\n",
      "Best Naive Bayes AUC: 0.9154916512059369\n",
      "Classification Report:  MultinomialNB\n",
      "              precision    recall  f1-score   support\n",
      "\n",
      "           0       0.96      0.87      0.91        98\n",
      "           1       0.89      0.96      0.93       110\n",
      "\n",
      "    accuracy                           0.92       208\n",
      "   macro avg       0.92      0.92      0.92       208\n",
      "weighted avg       0.92      0.92      0.92       208\n",
      "\n",
      "ROC_AUC_SCORE is  0.9154916512059369\n"
     ]
    },
    {
     "data": {
      "image/png": "[encoded data removed]",
      "text/plain": [
       "<Figure size 640x480 with 1 Axes>"
      ]
     },
     "metadata": {},
     "output_type": "display_data"
    },
    {
     "data": {
      "image/png": "[encoded data removed]",
      "text/plain": [
       "<Figure size 640x480 with 2 Axes>"
      ]
     },
     "metadata": {},
     "output_type": "display_data"
    }
   ],
   "source": [
    "nb_results = MLT.tune_multinomial_nb(X_train_vec, y_train, X_test_vec, y_test)"
   ]
  },
  {
   "cell_type": "code",
   "execution_count": 87,
   "metadata": {
    "executionInfo": {
     "elapsed": 20,
     "status": "ok",
     "timestamp": 1734322345594,
     "user": {
      "displayName": "Nguyễn Trương Hoàng",
      "userId": "04971599599493899416"
     },
     "user_tz": -420
    },
    "id": "9m97LWpJD8ul"
   },
   "outputs": [],
   "source": [
    "best_nb_results_full = nb_results[0]"
   ]
  },
  {
   "cell_type": "markdown",
   "metadata": {
    "id": "Mt3tWXFZf4J7"
   },
   "source": [
    "### ___So sánh 3 mô hình ML___"
   ]
  },
  {
   "cell_type": "markdown",
   "metadata": {
    "id": "ojZpAkWm-2bw"
   },
   "source": [
    "### ___3.6. Mô hình DL - LSTM - Full___"
   ]
  },
  {
   "cell_type": "code",
   "execution_count": 43,
   "metadata": {},
   "outputs": [],
   "source": [
    "X_train_dense = X_train_vec.toarray()\n",
    "X_test_dense = X_test_vec.toarray()"
   ]
  },
  {
   "cell_type": "code",
   "execution_count": 44,
   "metadata": {
    "executionInfo": {
     "elapsed": 18,
     "status": "aborted",
     "timestamp": 1734322345594,
     "user": {
      "displayName": "Nguyễn Trương Hoàng",
      "userId": "04971599599493899416"
     },
     "user_tz": -420
    },
    "id": "wI342-fQ-5v7"
   },
   "outputs": [
    {
     "name": "stdout",
     "output_type": "stream",
     "text": [
      "Trial 2 Complete [00h 29m 35s]\n",
      "val_accuracy: 0.5288461446762085\n",
      "\n",
      "Best val_accuracy So Far: 0.5288461446762085\n",
      "Total elapsed time: 00h 56m 39s\n",
      "Best hyperparameters found:\n",
      "LSTM units: 32\n",
      "Number of LSTM layers: 3\n",
      "Learning rate: 0.00023948972884503826\n"
     ]
    }
   ],
   "source": [
    "import keras_tuner as kt\n",
    "from tensorflow.keras.models import Sequential\n",
    "from tensorflow.keras.layers import LSTM, Dropout, GlobalAveragePooling1D, Dense, Input\n",
    "from tensorflow.keras.optimizers import Adam\n",
    "import os\n",
    "from sklearn.preprocessing import LabelEncoder\n",
    "\n",
    "def build_model(hp):\n",
    "    model = Sequential()\n",
    "\n",
    "    model.add(Input(shape=(1020, 1)))  # Sử dụng 1020 đặc trưng làm chuỗi đầu vào\n",
    "\n",
    "    for _ in range(hp.Int('num_lstm_layers', 1, 3)):  # Từ 1 đến 3 lớp LSTM\n",
    "        model.add(LSTM(hp.Int('lstm_units', 32, 128, step=32), return_sequences=True))\n",
    "        model.add(Dropout(0.5))\n",
    "\n",
    "    model.add(GlobalAveragePooling1D())  # Tổng hợp thông tin từ các bước\n",
    "    model.add(Dense(1, activation='sigmoid'))  # Phân loại nhị phân (0 hoặc 1)\n",
    "\n",
    "    model.compile(\n",
    "        loss='binary_crossentropy',  # Sử dụng loss nhị phân cho bài toán phân loại 2 lớp\n",
    "        optimizer=Adam(hp.Float('learning_rate', 1e-4, 1e-2, sampling='log')),\n",
    "        metrics=['accuracy']\n",
    "    )\n",
    "\n",
    "    return model\n",
    "\n",
    "# Đường dẫn và tên dự án\n",
    "base_dir = r'sentiment_NK4'\n",
    "project_name = 'sentiment_NLP4'\n",
    "directory = os.path.join(base_dir, project_name)\n",
    "\n",
    "# Kiểm tra và tạo thư mục nếu chưa có\n",
    "if not os.path.exists(directory):\n",
    "    os.makedirs(directory)\n",
    "    print(f\"Created directory: {directory}\")\n",
    "else:\n",
    "    print(f\"Directory already exists: {directory}\")\n",
    "\n",
    "# Tuner tìm kiếm siêu tham số\n",
    "tuner = kt.RandomSearch(\n",
    "    build_model,\n",
    "    objective='val_accuracy',  # Tối ưu hóa theo độ chính xác trên tập validation\n",
    "    max_trials=2,  # Số lần thử\n",
    "    executions_per_trial=1,  # Mỗi thử nghiệm sẽ chạy 1 lần\n",
    "    directory=base_dir,\n",
    "    project_name=project_name\n",
    ")\n",
    "\n",
    "# Tiến hành tìm kiếm siêu tham số\n",
    "tuner.search(X_train_dense, y_train, epochs=5, validation_data=(X_test_dense, y_test))\n",
    "\n",
    "# Lấy các siêu tham số tốt nhất\n",
    "best_hps = tuner.get_best_hyperparameters(num_trials=1)[0]\n",
    "print(\"Best hyperparameters found:\")\n",
    "print(f\"LSTM units: {best_hps.get('lstm_units')}\")\n",
    "print(f\"Number of LSTM layers: {best_hps.get('num_lstm_layers')}\")\n",
    "print(f\"Learning rate: {best_hps.get('learning_rate')}\")"
   ]
  },
  {
   "cell_type": "markdown",
   "metadata": {
    "id": "EsfQsxIyF7eD"
   },
   "source": [
    "# __4. Phân tích câu ngắn__"
   ]
  },
  {
   "cell_type": "markdown",
   "metadata": {
    "id": "9yq_v_dpGJ2V"
   },
   "source": [
    "### ___4.1. Đọc bộ dữ liệu ngắn đã được xử lý___"
   ]
  },
  {
   "cell_type": "code",
   "execution_count": 6,
   "metadata": {
    "colab": {
     "base_uri": "https://localhost:8080/"
    },
    "executionInfo": {
     "elapsed": 553,
     "status": "ok",
     "timestamp": 1734322465066,
     "user": {
      "displayName": "Nguyễn Trương Hoàng",
      "userId": "04971599599493899416"
     },
     "user_tz": -420
    },
    "id": "32BzciODGGxl",
    "outputId": "928457dd-59a8-460a-e6c6-f997b2d32a23"
   },
   "outputs": [
    {
     "name": "stdout",
     "output_type": "stream",
     "text": [
      "   Unnamed: 0                                            comment  \\\n",
      "0         3.0                                           thun dày   \n",
      "1         4.0                                    túi có khóa kéo   \n",
      "2         NaN  mỗi lần size nhỏ nhắn cửa hàng đổi size to hơn...   \n",
      "3         8.0                                           quần dày   \n",
      "4         9.0                                  đã nhận được hàng   \n",
      "\n",
      "   sentiment_manual                                      word_tokenize  \n",
      "0                 1                                           thun dày  \n",
      "1                 1                                    túi có khóa kéo  \n",
      "2                 0  mỗi lần size nhỏ_nhắn cửa_hàng đổi size to hơn...  \n",
      "3                 1                                           quần dày  \n",
      "4                 1                                  đã nhận được hàng  \n"
     ]
    }
   ],
   "source": [
    "file_path1 = r'C:\\\\Users\\\\Nguyen_Thanh_Vinh\\\\Downloads\\\\NopThay\\\\preprocessed_data1.xlsx'\n",
    "df1 = pd.read_excel(file_path1)\n",
    "print(df1.head())"
   ]
  },
  {
   "cell_type": "markdown",
   "metadata": {
    "id": "C1JZjkmdGWAa"
   },
   "source": [
    "### ___4.2. Vectorize - TFIDF - Split___"
   ]
  },
  {
   "cell_type": "code",
   "execution_count": 7,
   "metadata": {
    "executionInfo": {
     "elapsed": 3,
     "status": "ok",
     "timestamp": 1734322465389,
     "user": {
      "displayName": "Nguyễn Trương Hoàng",
      "userId": "04971599599493899416"
     },
     "user_tz": -420
    },
    "id": "9RPwvltFGayu"
   },
   "outputs": [],
   "source": [
    "from sklearn.model_selection import train_test_split\n",
    "from sklearn.feature_extraction.text import TfidfVectorizer\n",
    "from sklearn.linear_model import LogisticRegression\n",
    "from sklearn.metrics import accuracy_score, classification_report\n",
    "# Prepare the data\n",
    "X1 = df1['word_tokenize']\n",
    "y1 = df1['sentiment_manual']\n",
    "# Before splitting, drop rows with NaN in 'word_tokenize'\n",
    "X1 = df1['word_tokenize'].dropna()\n",
    "y1 = df1.loc[X1.index, 'sentiment_manual']  # Chỉ giữ lại các dòng của y1 tương ứng với X1\n",
    "\n",
    "# Split data into training and testing sets\n",
    "X_train1, X_test1, y_train1, y_test1 = train_test_split(X1, y1, test_size=0.2, random_state=42)"
   ]
  },
  {
   "cell_type": "code",
   "execution_count": 8,
   "metadata": {
    "executionInfo": {
     "elapsed": 371,
     "status": "ok",
     "timestamp": 1734322468868,
     "user": {
      "displayName": "Nguyễn Trương Hoàng",
      "userId": "04971599599493899416"
     },
     "user_tz": -420
    },
    "id": "hhUd38VvGvau"
   },
   "outputs": [],
   "source": [
    "X_train_vec1, X_test_vec1 = apply_tfidf(X_train1, X_test1)"
   ]
  },
  {
   "cell_type": "markdown",
   "metadata": {
    "id": "Dr7D0lzRHA-Q"
   },
   "source": [
    "### ___4.3. Mô hình ML - Logistic Regression___"
   ]
  },
  {
   "cell_type": "code",
   "execution_count": 91,
   "metadata": {
    "colab": {
     "base_uri": "https://localhost:8080/",
     "height": 1000
    },
    "executionInfo": {
     "elapsed": 1906,
     "status": "ok",
     "timestamp": 1734322471297,
     "user": {
      "displayName": "Nguyễn Trương Hoàng",
      "userId": "04971599599493899416"
     },
     "user_tz": -420
    },
    "id": "JmtwBSjlHE_t",
    "outputId": "f278df3b-138a-442e-e3dc-0665e875f534"
   },
   "outputs": [
    {
     "name": "stdout",
     "output_type": "stream",
     "text": [
      "Best hyperparameters (Logistic regression): {'solver': 'liblinear', 'penalty': 'l2', 'C': 10}\n",
      "Best score (Logistic regression): 0.8880358989430602\n",
      "Best Logistic regression Accuracy: 0.8843657817109144\n",
      "Best Logistic regression Precision: 0.9314741035856574\n",
      "Best Logistic regression Recall: 0.9139953088350273\n",
      "Best Logistic regression AUC: 0.8407370517928288\n",
      "\n",
      "Classification Report:  LogisticRegression\n",
      "              precision    recall  f1-score   support\n",
      "\n",
      "           0       0.79      0.75      0.77       440\n",
      "           1       0.91      0.93      0.92      1255\n",
      "\n",
      "    accuracy                           0.88      1695\n",
      "   macro avg       0.85      0.84      0.85      1695\n",
      "weighted avg       0.88      0.88      0.88      1695\n",
      "\n",
      "ROC_AUC_SCORE is  0.8407370517928288\n"
     ]
    },
    {
     "data": {
      "image/png": "[encoded data removed]",
      "text/plain": [
       "<Figure size 640x480 with 1 Axes>"
      ]
     },
     "metadata": {},
     "output_type": "display_data"
    },
    {
     "data": {
      "image/png": "[encoded data removed]",
      "text/plain": [
       "<Figure size 640x480 with 2 Axes>"
      ]
     },
     "metadata": {},
     "output_type": "display_data"
    }
   ],
   "source": [
    "logreg_results1 = MLT.tune_logistic_regression(X_train_vec1, y_train1, X_test_vec1, y_test1)"
   ]
  },
  {
   "cell_type": "code",
   "execution_count": 92,
   "metadata": {
    "executionInfo": {
     "elapsed": 6,
     "status": "ok",
     "timestamp": 1734322471298,
     "user": {
      "displayName": "Nguyễn Trương Hoàng",
      "userId": "04971599599493899416"
     },
     "user_tz": -420
    },
    "id": "kBODbyewHJo1"
   },
   "outputs": [],
   "source": [
    "best_logreg_model_split = logreg_results1[0]"
   ]
  },
  {
   "cell_type": "markdown",
   "metadata": {
    "id": "kny9KYH8HP62"
   },
   "source": [
    "### ___4.4. Mô hình ML - Random forest - split___"
   ]
  },
  {
   "cell_type": "code",
   "execution_count": 93,
   "metadata": {
    "colab": {
     "base_uri": "https://localhost:8080/",
     "height": 1000
    },
    "executionInfo": {
     "elapsed": 30925,
     "status": "ok",
     "timestamp": 1734322502217,
     "user": {
      "displayName": "Nguyễn Trương Hoàng",
      "userId": "04971599599493899416"
     },
     "user_tz": -420
    },
    "id": "Y_teu9wAHViP",
    "outputId": "6f28a0aa-e17c-431a-d42f-093932f530d7"
   },
   "outputs": [
    {
     "name": "stderr",
     "output_type": "stream",
     "text": [
      "c:\\Users\\Nguyen_Thanh_Vinh\\anaconda3\\envs\\RP_Env\\Lib\\site-packages\\sklearn\\model_selection\\_validation.py:540: FitFailedWarning: \n",
      "10 fits failed out of a total of 50.\n",
      "The score on these train-test partitions for these parameters will be set to nan.\n",
      "If these failures are not expected, you can try to debug them by setting error_score='raise'.\n",
      "\n",
      "Below are more details about the failures:\n",
      "--------------------------------------------------------------------------------\n",
      "10 fits failed with the following error:\n",
      "Traceback (most recent call last):\n",
      "  File \"c:\\Users\\Nguyen_Thanh_Vinh\\anaconda3\\envs\\RP_Env\\Lib\\site-packages\\sklearn\\model_selection\\_validation.py\", line 888, in _fit_and_score\n",
      "    estimator.fit(X_train, y_train, **fit_params)\n",
      "  File \"c:\\Users\\Nguyen_Thanh_Vinh\\anaconda3\\envs\\RP_Env\\Lib\\site-packages\\sklearn\\base.py\", line 1466, in wrapper\n",
      "    estimator._validate_params()\n",
      "  File \"c:\\Users\\Nguyen_Thanh_Vinh\\anaconda3\\envs\\RP_Env\\Lib\\site-packages\\sklearn\\base.py\", line 666, in _validate_params\n",
      "    validate_parameter_constraints(\n",
      "  File \"c:\\Users\\Nguyen_Thanh_Vinh\\anaconda3\\envs\\RP_Env\\Lib\\site-packages\\sklearn\\utils\\_param_validation.py\", line 95, in validate_parameter_constraints\n",
      "    raise InvalidParameterError(\n",
      "sklearn.utils._param_validation.InvalidParameterError: The 'max_features' parameter of RandomForestClassifier must be an int in the range [1, inf), a float in the range (0.0, 1.0], a str among {'sqrt', 'log2'} or None. Got 'auto' instead.\n",
      "\n",
      "  warnings.warn(some_fits_failed_message, FitFailedWarning)\n",
      "c:\\Users\\Nguyen_Thanh_Vinh\\anaconda3\\envs\\RP_Env\\Lib\\site-packages\\sklearn\\model_selection\\_search.py:1102: UserWarning: One or more of the test scores are non-finite: [0.74524257 0.74170232 0.74745572 0.8545505  0.74170232        nan\n",
      " 0.78448323 0.74170232 0.79775811        nan]\n",
      "  warnings.warn(\n"
     ]
    },
    {
     "name": "stdout",
     "output_type": "stream",
     "text": [
      "Best hyperparameters (RandomForestClassifier): {'max_depth': 48, 'max_features': 'sqrt', 'min_samples_leaf': 4, 'min_samples_split': 5, 'n_estimators': 297}\n",
      "Best score (RandomForestClassifier): 0.854550501257225\n",
      "Best Random Forest Accuracy: 0.8513274336283185\n",
      "Best Random Forest Precision: 0.9673306772908367\n",
      "Best Random Forest Recall: 0.8519298245614035\n",
      "Best Random Forest AUC: 0.7438926113726911\n",
      "Classification Report:  RandomForestClassifier\n",
      "              precision    recall  f1-score   support\n",
      "\n",
      "           0       0.85      0.52      0.65       440\n",
      "           1       0.85      0.97      0.91      1255\n",
      "\n",
      "    accuracy                           0.85      1695\n",
      "   macro avg       0.85      0.74      0.78      1695\n",
      "weighted avg       0.85      0.85      0.84      1695\n",
      "\n",
      "ROC_AUC_SCORE is  0.7438926113726911\n"
     ]
    },
    {
     "data": {
      "image/png": "[encoded data removed]",
      "text/plain": [
       "<Figure size 640x480 with 1 Axes>"
      ]
     },
     "metadata": {},
     "output_type": "display_data"
    },
    {
     "data": {
      "image/png": "[encoded data removed]",
      "text/plain": [
       "<Figure size 640x480 with 2 Axes>"
      ]
     },
     "metadata": {},
     "output_type": "display_data"
    }
   ],
   "source": [
    "rf_results1 = MLT.tune_random_forest(X_train_vec1, y_train1, X_test_vec1, y_test1)"
   ]
  },
  {
   "cell_type": "code",
   "execution_count": 94,
   "metadata": {
    "executionInfo": {
     "elapsed": 8,
     "status": "ok",
     "timestamp": 1734322502217,
     "user": {
      "displayName": "Nguyễn Trương Hoàng",
      "userId": "04971599599493899416"
     },
     "user_tz": -420
    },
    "id": "TgkW4pomHYLE"
   },
   "outputs": [],
   "source": [
    "best_rf_model_split = rf_results1[0]"
   ]
  },
  {
   "cell_type": "markdown",
   "metadata": {
    "id": "lchZcrWBHiMg"
   },
   "source": [
    "### ___4.5. Mô hình ML - NavieBayes - Split___"
   ]
  },
  {
   "cell_type": "code",
   "execution_count": 95,
   "metadata": {
    "colab": {
     "base_uri": "https://localhost:8080/",
     "height": 1000
    },
    "executionInfo": {
     "elapsed": 957,
     "status": "ok",
     "timestamp": 1734322503167,
     "user": {
      "displayName": "Nguyễn Trương Hoàng",
      "userId": "04971599599493899416"
     },
     "user_tz": -420
    },
    "id": "GdP_4voXHmm7",
    "outputId": "84afc811-ced8-4d66-e955-a68a411213c4"
   },
   "outputs": [
    {
     "name": "stdout",
     "output_type": "stream",
     "text": [
      "Best hyperparameters (MultinomialNB): {'alpha': 0.1691300328272427}\n",
      "Best score (MultinomialNB): 0.8774150148581132\n",
      "Best Navie Bayes Accuracy: 0.8749262536873156\n",
      "Best Naive Bayes Precision: 0.9370517928286852\n",
      "Best Navie Bayes Recall: 0.8983957219251337\n",
      "Best Naive Bayes AUC: 0.817389532777979\n",
      "Classification Report:  MultinomialNB\n",
      "              precision    recall  f1-score   support\n",
      "\n",
      "           0       0.80      0.70      0.74       440\n",
      "           1       0.90      0.94      0.92      1255\n",
      "\n",
      "    accuracy                           0.87      1695\n",
      "   macro avg       0.85      0.82      0.83      1695\n",
      "weighted avg       0.87      0.87      0.87      1695\n",
      "\n",
      "ROC_AUC_SCORE is  0.817389532777979\n"
     ]
    },
    {
     "data": {
      "image/png": "[encoded data removed]",
      "text/plain": [
       "<Figure size 640x480 with 1 Axes>"
      ]
     },
     "metadata": {},
     "output_type": "display_data"
    },
    {
     "data": {
      "image/png": "[encoded data removed]",
      "text/plain": [
       "<Figure size 640x480 with 2 Axes>"
      ]
     },
     "metadata": {},
     "output_type": "display_data"
    }
   ],
   "source": [
    "nb_results1 = MLT.tune_multinomial_nb(X_train_vec1, y_train1, X_test_vec1, y_test1)"
   ]
  },
  {
   "cell_type": "code",
   "execution_count": 96,
   "metadata": {
    "executionInfo": {
     "elapsed": 4,
     "status": "ok",
     "timestamp": 1734322503168,
     "user": {
      "displayName": "Nguyễn Trương Hoàng",
      "userId": "04971599599493899416"
     },
     "user_tz": -420
    },
    "id": "39e9HLl5HtZI"
   },
   "outputs": [],
   "source": [
    "best_nb_results_split = nb_results1[0]"
   ]
  },
  {
   "cell_type": "markdown",
   "metadata": {
    "id": "QoFcNvxpH5Ei"
   },
   "source": [
    "### ___4.6. Mô hình DL - LSTM - Split___"
   ]
  },
  {
   "cell_type": "code",
   "execution_count": 9,
   "metadata": {},
   "outputs": [],
   "source": [
    "X_train_dense = X_train_vec1.toarray()\n",
    "X_test_dense = X_test_vec1.toarray()"
   ]
  },
  {
   "cell_type": "code",
   "execution_count": 10,
   "metadata": {
    "executionInfo": {
     "elapsed": 18,
     "status": "aborted",
     "timestamp": 1734322345596,
     "user": {
      "displayName": "Nguyễn Trương Hoàng",
      "userId": "04971599599493899416"
     },
     "user_tz": -420
    },
    "id": "WX8hM1JcH8eG"
   },
   "outputs": [
    {
     "name": "stdout",
     "output_type": "stream",
     "text": [
      "Trial 2 Complete [00h 39m 23s]\n",
      "val_accuracy: 0.7404129505157471\n",
      "\n",
      "Best val_accuracy So Far: 0.7404129505157471\n",
      "Total elapsed time: 00h 53m 31s\n",
      "Best hyperparameters found:\n",
      "LSTM units: 32\n",
      "Number of LSTM layers: 1\n",
      "Learning rate: 0.0003561970496462242\n"
     ]
    }
   ],
   "source": [
    "import keras_tuner as kt\n",
    "from tensorflow.keras.models import Sequential\n",
    "from tensorflow.keras.layers import LSTM, Dropout, GlobalAveragePooling1D, Dense, Input\n",
    "from tensorflow.keras.optimizers import Adam\n",
    "from tensorflow.keras.utils import to_categorical\n",
    "import os\n",
    "\n",
    "def build_model(hp):\n",
    "    model = Sequential()\n",
    "\n",
    "    model.add(Input(shape=(1020, 1)))  # Sử dụng 1020 đặc trưng làm chuỗi đầu vào\n",
    "\n",
    "    for _ in range(hp.Int('num_lstm_layers', 1, 3)):  # Từ 1 đến 3 lớp LSTM\n",
    "        model.add(LSTM(hp.Int('lstm_units', 32, 128, step=32), return_sequences=True))\n",
    "        model.add(Dropout(0.5))\n",
    "\n",
    "    model.add(GlobalAveragePooling1D())  # Tổng hợp thông tin từ các bước\n",
    "    model.add(Dense(1, activation='sigmoid'))  # Phân loại nhị phân (0 hoặc 1)\n",
    "\n",
    "    model.compile(\n",
    "        loss='binary_crossentropy',  # Sử dụng loss nhị phân cho bài toán phân loại 2 lớp\n",
    "        optimizer=Adam(hp.Float('learning_rate', 1e-4, 1e-2, sampling='log')),\n",
    "        metrics=['accuracy']\n",
    "    )\n",
    "\n",
    "    return model\n",
    "\n",
    "# Đường dẫn và tên dự án\n",
    "base_dir = r'sentiment_NK55'\n",
    "project_name = 'sentiment_NLP5'\n",
    "directory = os.path.join(base_dir, project_name)\n",
    "\n",
    "# Kiểm tra và tạo thư mục nếu chưa có\n",
    "if not os.path.exists(directory):\n",
    "    os.makedirs(directory)\n",
    "    print(f\"Created directory: {directory}\")\n",
    "else:\n",
    "    print(f\"Directory already exists: {directory}\")\n",
    "\n",
    "# Tuner tìm kiếm siêu tham số\n",
    "tuner = kt.RandomSearch(\n",
    "    build_model,\n",
    "    objective='val_accuracy',  # Tối ưu hóa theo độ chính xác trên tập validation\n",
    "    max_trials=2,  # Số lần thử\n",
    "    executions_per_trial=1,  # Mỗi thử nghiệm sẽ chạy 1 lần\n",
    "    directory=base_dir,\n",
    "    project_name=project_name\n",
    ")\n",
    "\n",
    "# Tiến hành tìm kiếm siêu tham số\n",
    "tuner.search(X_train_dense, y_train1, epochs=5, validation_data=(X_test_dense, y_test1))\n",
    "\n",
    "# Lấy các siêu tham số tốt nhất\n",
    "best_hps = tuner.get_best_hyperparameters(num_trials=1)[0]\n",
    "print(\"Best hyperparameters found:\")\n",
    "print(f\"LSTM units: {best_hps.get('lstm_units')}\")\n",
    "print(f\"Number of LSTM layers: {best_hps.get('num_lstm_layers')}\")\n",
    "print(f\"Learning rate: {best_hps.get('learning_rate')}\")"
   ]
  },
  {
   "cell_type": "markdown",
   "metadata": {
    "id": "-OHbNA95IB4z"
   },
   "source": [
    "# __5. Dự đoán bộ dữ liệu testset__"
   ]
  },
  {
   "cell_type": "code",
   "execution_count": null,
   "metadata": {
    "executionInfo": {
     "elapsed": 21,
     "status": "aborted",
     "timestamp": 1734322345599,
     "user": {
      "displayName": "Nguyễn Trương Hoàng",
      "userId": "04971599599493899416"
     },
     "user_tz": -420
    },
    "id": "4_CR6PmbINdO"
   },
   "outputs": [],
   "source": [
    "# Đọc bộ dữ liệu đã được xử lý\n",
    "file_path2 = r'C:\\\\Users\\\\Nguyen_Thanh_Vinh\\\\Downloads\\\\NopThay\\\\preprocessed_test.xlsx'\n",
    "df2 = pd.read_excel(file_path2)\n",
    "print(df2.head())"
   ]
  },
  {
   "cell_type": "code",
   "execution_count": 98,
   "metadata": {
    "executionInfo": {
     "elapsed": 77920,
     "status": "aborted",
     "timestamp": 1734322345600,
     "user": {
      "displayName": "Nguyễn Trương Hoàng",
      "userId": "04971599599493899416"
     },
     "user_tz": -420
    },
    "id": "PPa_v83RIosI"
   },
   "outputs": [],
   "source": [
    "# Assuming your dataframe is named 'dataset'\n",
    "df2['rating'] = df2['rating'].replace(-1, 0)"
   ]
  },
  {
   "cell_type": "code",
   "execution_count": 132,
   "metadata": {
    "executionInfo": {
     "elapsed": 77920,
     "status": "aborted",
     "timestamp": 1734322345600,
     "user": {
      "displayName": "Nguyễn Trương Hoàng",
      "userId": "04971599599493899416"
     },
     "user_tz": -420
    },
    "id": "pU8311TkIv8d"
   },
   "outputs": [
    {
     "data": {
      "text/html": [
       "<div>\n",
       "<style scoped>\n",
       "    .dataframe tbody tr th:only-of-type {\n",
       "        vertical-align: middle;\n",
       "    }\n",
       "\n",
       "    .dataframe tbody tr th {\n",
       "        vertical-align: top;\n",
       "    }\n",
       "\n",
       "    .dataframe thead th {\n",
       "        text-align: right;\n",
       "    }\n",
       "</style>\n",
       "<table border=\"1\" class=\"dataframe\">\n",
       "  <thead>\n",
       "    <tr style=\"text-align: right;\">\n",
       "      <th></th>\n",
       "      <th>index</th>\n",
       "      <th>word_tokenize</th>\n",
       "      <th>rating</th>\n",
       "    </tr>\n",
       "  </thead>\n",
       "  <tbody>\n",
       "    <tr>\n",
       "      <th>0</th>\n",
       "      <td>0</td>\n",
       "      <td>áo sơ_mi trắng này chất lụa mặc vào mát_lạnh l...</td>\n",
       "      <td>1</td>\n",
       "    </tr>\n",
       "    <tr>\n",
       "      <th>1</th>\n",
       "      <td>1</td>\n",
       "      <td>chất_lượng sản_phẩm trên cả hy_vọng áo đường m...</td>\n",
       "      <td>1</td>\n",
       "    </tr>\n",
       "    <tr>\n",
       "      <th>2</th>\n",
       "      <td>2</td>\n",
       "      <td>đây là một trong những cửa_hàng cute nhất shop...</td>\n",
       "      <td>1</td>\n",
       "    </tr>\n",
       "    <tr>\n",
       "      <th>3</th>\n",
       "      <td>3</td>\n",
       "      <td>đúng với mô đẹp đương_may chắc_chắn phù_hợp ch...</td>\n",
       "      <td>1</td>\n",
       "    </tr>\n",
       "    <tr>\n",
       "      <th>4</th>\n",
       "      <td>4</td>\n",
       "      <td>camera mình hơi xấu nhưng_mà lần đầu_tiên mua ...</td>\n",
       "      <td>1</td>\n",
       "    </tr>\n",
       "    <tr>\n",
       "      <th>...</th>\n",
       "      <td>...</td>\n",
       "      <td>...</td>\n",
       "      <td>...</td>\n",
       "    </tr>\n",
       "    <tr>\n",
       "      <th>120</th>\n",
       "      <td>129</td>\n",
       "      <td>màu đen mà tưởng phơi nắng nửa năm chê</td>\n",
       "      <td>0</td>\n",
       "    </tr>\n",
       "    <tr>\n",
       "      <th>121</th>\n",
       "      <td>130</td>\n",
       "      <td>mua cái quần thì đưa cái áo_chán chẳng buồn_ng...</td>\n",
       "      <td>0</td>\n",
       "    </tr>\n",
       "    <tr>\n",
       "      <th>122</th>\n",
       "      <td>131</td>\n",
       "      <td>đổi cái size quần_hơi bị quằn luôn từ tới nay ...</td>\n",
       "      <td>0</td>\n",
       "    </tr>\n",
       "    <tr>\n",
       "      <th>123</th>\n",
       "      <td>132</td>\n",
       "      <td>tệ</td>\n",
       "      <td>0</td>\n",
       "    </tr>\n",
       "    <tr>\n",
       "      <th>124</th>\n",
       "      <td>133</td>\n",
       "      <td>tệ</td>\n",
       "      <td>0</td>\n",
       "    </tr>\n",
       "  </tbody>\n",
       "</table>\n",
       "<p>125 rows × 3 columns</p>\n",
       "</div>"
      ],
      "text/plain": [
       "     index                                      word_tokenize  rating\n",
       "0        0  áo sơ_mi trắng này chất lụa mặc vào mát_lạnh l...       1\n",
       "1        1  chất_lượng sản_phẩm trên cả hy_vọng áo đường m...       1\n",
       "2        2  đây là một trong những cửa_hàng cute nhất shop...       1\n",
       "3        3  đúng với mô đẹp đương_may chắc_chắn phù_hợp ch...       1\n",
       "4        4  camera mình hơi xấu nhưng_mà lần đầu_tiên mua ...       1\n",
       "..     ...                                                ...     ...\n",
       "120    129             màu đen mà tưởng phơi nắng nửa năm chê       0\n",
       "121    130  mua cái quần thì đưa cái áo_chán chẳng buồn_ng...       0\n",
       "122    131  đổi cái size quần_hơi bị quằn luôn từ tới nay ...       0\n",
       "123    132                                                 tệ       0\n",
       "124    133                                                 tệ       0\n",
       "\n",
       "[125 rows x 3 columns]"
      ]
     },
     "execution_count": 132,
     "metadata": {},
     "output_type": "execute_result"
    }
   ],
   "source": [
    "# Assuming your dataframe is named 'df' (as in the last part of your code)\n",
    "selected_columns = df2[['word_tokenize', 'rating']]\n",
    "selected_columns = selected_columns.dropna(subset=['word_tokenize']).reset_index()\n",
    "selected_columns"
   ]
  },
  {
   "cell_type": "code",
   "execution_count": 134,
   "metadata": {},
   "outputs": [],
   "source": [
    "X = selected_columns['word_tokenize']\n",
    "y = selected_columns['rating']\n",
    "X, X = apply_tfidf(X, X)"
   ]
  },
  {
   "cell_type": "code",
   "execution_count": null,
   "metadata": {
    "executionInfo": {
     "elapsed": 77920,
     "status": "aborted",
     "timestamp": 1734322345602,
     "user": {
      "displayName": "Nguyễn Trương Hoàng",
      "userId": "04971599599493899416"
     },
     "user_tz": -420
    },
    "id": "YtLajZXAIzgi"
   },
   "outputs": [],
   "source": [
    "# Predict using the trained models\n",
    "rf_pred = best_rf_model_full.predict(X)\n",
    "nb_pred = best_nb_results_full.predict(X)\n",
    "lr_pred = best_logreg_model_full.predict(X)\n",
    "\n",
    "# Print classification reports\n",
    "print(\"Random Forest Classification Report:\")\n",
    "print(classification_report(selected_columns['rating'], rf_pred))\n",
    "\n",
    "print(\"\\nNaive Bayes Classification Report:\")\n",
    "print(classification_report(selected_columns['rating'], nb_pred))\n",
    "\n",
    "print(\"\\nLogistic Regression Classification Report:\")\n",
    "print(classification_report(selected_columns['rating'], lr_pred))"
   ]
  }
 ],
 "metadata": {
  "colab": {
   "authorship_tag": "ABX9TyPtH+87QllsxsDqlpU1I18m",
   "collapsed_sections": [
    "ojZpAkWm-2bw"
   ],
   "provenance": [],
   "toc_visible": true
  },
  "kernelspec": {
   "display_name": "Python 3",
   "name": "python3"
  },
  "language_info": {
   "codemirror_mode": {
    "name": "ipython",
    "version": 3
   },
   "file_extension": ".py",
   "mimetype": "text/x-python",
   "name": "python",
   "nbconvert_exporter": "python",
   "pygments_lexer": "ipython3",
   "version": "3.11.9"
  }
 },
 "nbformat": 4,
 "nbformat_minor": 0
}
