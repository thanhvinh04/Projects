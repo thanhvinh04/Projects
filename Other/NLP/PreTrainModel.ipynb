{
 "cells": [
  {
   "cell_type": "markdown",
   "metadata": {
    "id": "L_wZpuU4Q-hV"
   },
   "source": [
    "# __1. Thư viện__"
   ]
  },
  {
   "cell_type": "code",
   "execution_count": 1,
   "metadata": {
    "colab": {
     "base_uri": "https://localhost:8080/"
    },
    "executionInfo": {
     "elapsed": 3208,
     "status": "ok",
     "timestamp": 1734325637760,
     "user": {
      "displayName": "Nguyễn Trương Hoàng",
      "userId": "04971599599493899416"
     },
     "user_tz": -420
    },
    "id": "gYT8i7V_QttO",
    "outputId": "7d564658-ca26-4d9a-8d51-7bd56ef5dea5"
   },
   "outputs": [],
   "source": [
    "# from google.colab import drive\n",
    "# drive.mount('/content/drive')"
   ]
  },
  {
   "cell_type": "code",
   "execution_count": 2,
   "metadata": {
    "colab": {
     "base_uri": "https://localhost:8080/"
    },
    "executionInfo": {
     "elapsed": 349,
     "status": "ok",
     "timestamp": 1734325643900,
     "user": {
      "displayName": "Nguyễn Trương Hoàng",
      "userId": "04971599599493899416"
     },
     "user_tz": -420
    },
    "id": "0gywC1TuRAeJ",
    "outputId": "dad9ba5a-136a-43d7-a004-aef085e5d97d"
   },
   "outputs": [],
   "source": [
    "# %cd \"/content/drive/MyDrive/Colab Notebooks/Code/NopThay\""
   ]
  },
  {
   "cell_type": "code",
   "execution_count": 3,
   "metadata": {
    "colab": {
     "base_uri": "https://localhost:8080/"
    },
    "collapsed": true,
    "executionInfo": {
     "elapsed": 23881,
     "status": "ok",
     "timestamp": 1734325671877,
     "user": {
      "displayName": "Nguyễn Trương Hoàng",
      "userId": "04971599599493899416"
     },
     "user_tz": -420
    },
    "id": "SseQm2vvRCZH",
    "outputId": "14105639-e629-4b17-e739-cce0d1a694e8"
   },
   "outputs": [],
   "source": [
    "# !pip install keras-tuner\n",
    "# !pip install import-ipynb\n",
    "# !pip install underthesea\n",
    "# !pip install advertools\n",
    "# !pip install emoji\n",
    "# !pip install regex"
   ]
  },
  {
   "cell_type": "code",
   "execution_count": 1,
   "metadata": {
    "executionInfo": {
     "elapsed": 540,
     "status": "ok",
     "timestamp": 1734325695944,
     "user": {
      "displayName": "Nguyễn Trương Hoàng",
      "userId": "04971599599493899416"
     },
     "user_tz": -420
    },
    "id": "Q4u23GLiRD75"
   },
   "outputs": [
    {
     "name": "stderr",
     "output_type": "stream",
     "text": [
      "c:\\Users\\Nguyen_Thanh_Vinh\\anaconda3\\envs\\RP_Env\\Lib\\site-packages\\tqdm\\auto.py:21: TqdmWarning: IProgress not found. Please update jupyter and ipywidgets. See https://ipywidgets.readthedocs.io/en/stable/user_install.html\n",
      "  from .autonotebook import tqdm as notebook_tqdm\n"
     ]
    }
   ],
   "source": [
    "import pandas as pd\n",
    "import numpy as np\n",
    "import torch\n",
    "import ast\n",
    "\n",
    "import os\n",
    "import numpy as np\n",
    "import tensorflow as tf\n",
    "from tensorflow.keras.models import Model\n",
    "from tensorflow.keras.layers import Dense, Input, MultiHeadAttention, LayerNormalization, Dropout, GlobalAveragePooling1D\n",
    "from tensorflow.keras.optimizers import Adam\n",
    "import keras_tuner as kt\n",
    "from sklearn.model_selection import train_test_split\n",
    "\n",
    "import string\n",
    "import advertools as adv\n",
    "import emoji\n",
    "import regex as re\n",
    "from underthesea import word_tokenize, pos_tag\n",
    "\n",
    "from sklearn.model_selection import GridSearchCV\n",
    "from sklearn.metrics import classification_report, roc_auc_score, roc_curve, confusion_matrix\n",
    "from sklearn.metrics import accuracy_score, precision_score, recall_score\n",
    "\n",
    "import matplotlib.pyplot as plt\n",
    "import seaborn as sns"
   ]
  },
  {
   "cell_type": "code",
   "execution_count": 2,
   "metadata": {
    "executionInfo": {
     "elapsed": 556,
     "status": "ok",
     "timestamp": 1734326139627,
     "user": {
      "displayName": "Nguyễn Trương Hoàng",
      "userId": "04971599599493899416"
     },
     "user_tz": -420
    },
    "id": "8I32jcgVRF8g"
   },
   "outputs": [],
   "source": [
    "import import_ipynb\n",
    "import MLTunning as MLT"
   ]
  },
  {
   "cell_type": "markdown",
   "metadata": {
    "id": "a4oY0tvfRHRJ"
   },
   "source": [
    "# __2. Vectorize - PreTrainModel__"
   ]
  },
  {
   "cell_type": "code",
   "execution_count": 3,
   "metadata": {
    "colab": {
     "base_uri": "https://localhost:8080/",
     "height": 400,
     "referenced_widgets": [
      "ab8d7550db9444038c29adebf7310976",
      "429e2e00cea042d3aa1c7e0b8e8e6ccf",
      "4ec3a4c8182f472c87cf15af444d3b86",
      "b123b458558a4a68b82117efa46092ec",
      "e9fd8a96060a4fe0be3548caa56d4879",
      "53cf99ba347a43eea740cd7bd343c52d",
      "d9fb577cdb464eb6a1b0fa1ef3e08c94",
      "09b006d7f4c44ca98df4ff91b28383c3",
      "82fc588fe10145faa7135f9c1ae1f551",
      "701a71a706584c1d9854afd1e2a3fef7",
      "a0c8c47baeab46a28990ebbdbd04e261",
      "fed9d848d5ed44b9b2bd0d0edc1ea57d",
      "6be20b576d9149f7a44d6b4494577eac",
      "7d4813a152834d3aae0aacfa902bb4b1",
      "99297fb5e5e54c998fc54077a2926ca5",
      "81bef49b0af5447fb3fa871bec9dad42",
      "465286516dca4c4f8f328bce1b629538",
      "987ef083257249cab888ae27d24e74d0",
      "1ee45b735e5948de8ce78de25cce3f26",
      "46b8336109cb4f59aae6d37346eed1cc",
      "ca3b05c44cd04534b59d459da7dc86d1",
      "8aae20c361794c0e9b61c5b49c7f886c",
      "5b7f5acaec1a43f586a717f1b0977a06",
      "a3babe48448141d6bf5dcb39506cc653",
      "7fcfda6989fc41239248809baf562d47",
      "ed75897bd24a4cdb8b488d60909cc861",
      "6408362ccdab4630bb208abdfcf5b356",
      "f36373a43f684e1fbdc2daa9aac2a6da",
      "a66636cca5e44094bd547e368a3372d2",
      "2356db76eb5a461dadb508b764e7dc93",
      "80b410d57de84cddb1a7f22bb5581d97",
      "ba3acf3fc14a4bb5a60d26ecf3dfd466",
      "8266941177444519b360f6e7c11411ce",
      "1fcf0c93214c40c5822006eaca589f24",
      "bd84846799164399a80d814305fd1d50",
      "73d263dac1b643ceabb66ff2cacc50ae",
      "c8dd3672e55a443494bd7d4ee31189cd",
      "9166c544ea244734a9581e101cc130c0",
      "ffb93829ed0a4485aa7ff475cb072b04",
      "781eb91d3af54d87876b25ff113e9f01",
      "ae457da466a6487f866c90b5e2d805a7",
      "91e998b777c64583ae7fdc147b0c5723",
      "fb36cdcd4c6b4d8d8ab85726372409e4",
      "1a8a2cb612e942a097616533a5d287d6",
      "86202686bc934263af93f9dab51f47f6",
      "01b1e151c27d4fe79121311353bedca8",
      "ab974a89c0a64edd9044152e13fcec87",
      "f88185df5cd64693ae375d5a6e3318e2",
      "dfc49e012caa4267929fc199b71b52f4",
      "8e287016e85c4ca29eb35f2374c921ea",
      "f5c3319e53894b4f8082630453ac4941",
      "2df44c2aad7c4fa7831e87fbf68c1d4a",
      "45ade662a5934bbc9e2caf5fc83603a0",
      "9a8e05f6427540e295341b9be93cb31a",
      "97253d044fb04a3e9e5c6f884e873311",
      "3fca803ee83e4b7087c7aeee93a398a8",
      "b5b267abfa1f45ce923b5126f48cb704",
      "983536bca2a64b9eb5f31f050e95d21e",
      "b8fc38b85b8f46348608eb0960a4673e",
      "c8a69c9db64544299e454c98cfbfb57a",
      "34dce1bdd46947f6b7db575184e6c1e6",
      "c46a940454aa429488a32179be63068c",
      "eb6917da972f4f21b296f3876b143275",
      "18e88f331a97427da26cdd3f680faa89",
      "97dfd034ec2243c89b9b58b685db12dc",
      "10afbd7433a6482eaef8913e3d072f8f",
      "3fc0c8f8fc0c49d6af5c57b44919793c",
      "7c76016e748144f4bf490490262cf880",
      "5c55aa18ca2743f4a9a17bc0ca8dd94f",
      "3d211471fca24545894adcb609ba0fae",
      "f870486056a745848a1d531f64433a0c",
      "1b70f41987734941aa08caa57436d00b",
      "13d6b080f8fd438681370fdfc944e076",
      "1c335e014f2544cd924263a461364307",
      "d94ed453d14b41618592ff5cd5e9678d",
      "65d63ba5d7d740ec8d6eb88d08d2ca14",
      "1171ebc106f849a086b87a09fe375310"
     ]
    },
    "executionInfo": {
     "elapsed": 20721,
     "status": "ok",
     "timestamp": 1734323742908,
     "user": {
      "displayName": "Nguyễn Trương Hoàng",
      "userId": "04971599599493899416"
     },
     "user_tz": -420
    },
    "id": "PAn0rUTcRSlV",
    "outputId": "b1d1a386-1f32-40c5-f2d3-02ea5e74b652"
   },
   "outputs": [
    {
     "name": "stderr",
     "output_type": "stream",
     "text": [
      "c:\\Users\\Nguyen_Thanh_Vinh\\anaconda3\\envs\\RP_Env\\Lib\\site-packages\\transformers\\tokenization_utils_base.py:1601: FutureWarning: `clean_up_tokenization_spaces` was not set. It will be set to `True` by default. This behavior will be depracted in transformers v4.45, and will be then set to `False` by default. For more details check this issue: https://github.com/huggingface/transformers/issues/31884\n",
      "  warnings.warn(\n",
      "Some weights of RobertaModel were not initialized from the model checkpoint at wonrax/phobert-base-vietnamese-sentiment and are newly initialized: ['roberta.pooler.dense.bias', 'roberta.pooler.dense.weight']\n",
      "You should probably TRAIN this model on a down-stream task to be able to use it for predictions and inference.\n"
     ]
    }
   ],
   "source": [
    "from transformers import AutoTokenizer, AutoModel\n",
    "\n",
    "tokenizer = AutoTokenizer.from_pretrained(\"wonrax/phobert-base-vietnamese-sentiment\")\n",
    "model = AutoModel.from_pretrained(\"wonrax/phobert-base-vietnamese-sentiment\")\n",
    "\n",
    "def vectorize_comment(comment):\n",
    "    inputs = tokenizer(comment, return_tensors=\"pt\", padding=True, truncation=True)\n",
    "    # Lấy hidden states\n",
    "    with torch.no_grad():\n",
    "        outputs = model(**inputs)\n",
    "    hidden_states = outputs.last_hidden_state\n",
    "    sentence_embedding = hidden_states.mean(dim=1)\n",
    "    return sentence_embedding.squeeze(0).numpy()"
   ]
  },
  {
   "cell_type": "code",
   "execution_count": 4,
   "metadata": {
    "executionInfo": {
     "elapsed": 4,
     "status": "ok",
     "timestamp": 1734323742909,
     "user": {
      "displayName": "Nguyễn Trương Hoàng",
      "userId": "04971599599493899416"
     },
     "user_tz": -420
    },
    "id": "5OPPBPU2RUeb"
   },
   "outputs": [],
   "source": [
    "def convert_embeddings_to_tensor(df):\n",
    "    embeddings = df['embedding'].apply(lambda x: tf.convert_to_tensor(np.array(x).reshape(1, -1), dtype=tf.float32))\n",
    "\n",
    "    embeddings_tensor = np.array(embeddings.tolist())\n",
    "\n",
    "    return embeddings_tensor"
   ]
  },
  {
   "cell_type": "markdown",
   "metadata": {
    "id": "4AR4fzwPSz1G"
   },
   "source": [
    "# __3. Phân tích đánh giá câu dài__"
   ]
  },
  {
   "cell_type": "markdown",
   "metadata": {
    "id": "ITS_6NPXS6XL"
   },
   "source": [
    "### ___3.1. Đọc dữ liệu và xây dựng model___"
   ]
  },
  {
   "cell_type": "code",
   "execution_count": 5,
   "metadata": {
    "colab": {
     "base_uri": "https://localhost:8080/",
     "height": 258
    },
    "executionInfo": {
     "elapsed": 1782,
     "status": "ok",
     "timestamp": 1734323760879,
     "user": {
      "displayName": "Nguyễn Trương Hoàng",
      "userId": "04971599599493899416"
     },
     "user_tz": -420
    },
    "id": "M90yGULrS5Gz",
    "outputId": "70a165f3-d1b9-4a91-9cb5-024ac8e382f9"
   },
   "outputs": [
    {
     "data": {
      "text/html": [
       "<div>\n",
       "<style scoped>\n",
       "    .dataframe tbody tr th:only-of-type {\n",
       "        vertical-align: middle;\n",
       "    }\n",
       "\n",
       "    .dataframe tbody tr th {\n",
       "        vertical-align: top;\n",
       "    }\n",
       "\n",
       "    .dataframe thead th {\n",
       "        text-align: right;\n",
       "    }\n",
       "</style>\n",
       "<table border=\"1\" class=\"dataframe\">\n",
       "  <thead>\n",
       "    <tr style=\"text-align: right;\">\n",
       "      <th></th>\n",
       "      <th>content_comments</th>\n",
       "      <th>comment_eng</th>\n",
       "      <th>sentiment</th>\n",
       "      <th>word_tokenize</th>\n",
       "    </tr>\n",
       "  </thead>\n",
       "  <tbody>\n",
       "    <tr>\n",
       "      <th>0</th>\n",
       "      <td>thay đổi coment tăng  size hãy làm như bạn muố...</td>\n",
       "      <td>Change the cmt to increase 1 size. Please do a...</td>\n",
       "      <td>0</td>\n",
       "      <td>thay_đổi coment tăng size hãy làm như bạn muốn...</td>\n",
       "    </tr>\n",
       "    <tr>\n",
       "      <th>1</th>\n",
       "      <td>quần dày mỗi lần size nhỏ nhắn tin cửa hàng đổ...</td>\n",
       "      <td>thick pants\\nEvery time the size is small, mes...</td>\n",
       "      <td>0</td>\n",
       "      <td>quần dày mỗi lần size nhỏ_nhắn tin cửa_hàng đổ...</td>\n",
       "    </tr>\n",
       "    <tr>\n",
       "      <th>2</th>\n",
       "      <td>đã nhận được đóng gói màu đúng mẫu đúng sau sẽ...</td>\n",
       "      <td>Received the goods...shop packaged quickly...r...</td>\n",
       "      <td>1</td>\n",
       "      <td>đã nhận được đóng_gói màu đúng mẫu đúng sau sẽ...</td>\n",
       "    </tr>\n",
       "    <tr>\n",
       "      <th>3</th>\n",
       "      <td>đã nhận được đóng gói sizesẽ khả năng quay lại...</td>\n",
       "      <td>Received the goods...shop packaged quickly...r...</td>\n",
       "      <td>1</td>\n",
       "      <td>đã nhận được đóng_gói sizesẽ khả_năng quay lại...</td>\n",
       "    </tr>\n",
       "    <tr>\n",
       "      <th>4</th>\n",
       "      <td>hình ảnh nhận xu và quan đơn giản thôi mua nhi...</td>\n",
       "      <td>The picture of receipt of coin and quan is sim...</td>\n",
       "      <td>0</td>\n",
       "      <td>hình_ảnh nhận xu và quan đơn_giản thôi mua nhi...</td>\n",
       "    </tr>\n",
       "  </tbody>\n",
       "</table>\n",
       "</div>"
      ],
      "text/plain": [
       "                                    content_comments  \\\n",
       "0  thay đổi coment tăng  size hãy làm như bạn muố...   \n",
       "1  quần dày mỗi lần size nhỏ nhắn tin cửa hàng đổ...   \n",
       "2  đã nhận được đóng gói màu đúng mẫu đúng sau sẽ...   \n",
       "3  đã nhận được đóng gói sizesẽ khả năng quay lại...   \n",
       "4  hình ảnh nhận xu và quan đơn giản thôi mua nhi...   \n",
       "\n",
       "                                         comment_eng  sentiment  \\\n",
       "0  Change the cmt to increase 1 size. Please do a...          0   \n",
       "1  thick pants\\nEvery time the size is small, mes...          0   \n",
       "2  Received the goods...shop packaged quickly...r...          1   \n",
       "3  Received the goods...shop packaged quickly...r...          1   \n",
       "4  The picture of receipt of coin and quan is sim...          0   \n",
       "\n",
       "                                       word_tokenize  \n",
       "0  thay_đổi coment tăng size hãy làm như bạn muốn...  \n",
       "1  quần dày mỗi lần size nhỏ_nhắn tin cửa_hàng đổ...  \n",
       "2  đã nhận được đóng_gói màu đúng mẫu đúng sau sẽ...  \n",
       "3  đã nhận được đóng_gói sizesẽ khả_năng quay lại...  \n",
       "4  hình_ảnh nhận xu và quan đơn_giản thôi mua nhi...  "
      ]
     },
     "execution_count": 5,
     "metadata": {},
     "output_type": "execute_result"
    }
   ],
   "source": [
    "file_path = r'preprocessed_data.xlsx'\n",
    "df = pd.read_excel(file_path)\n",
    "df.head()"
   ]
  },
  {
   "cell_type": "code",
   "execution_count": 9,
   "metadata": {
    "executionInfo": {
     "elapsed": 168568,
     "status": "ok",
     "timestamp": 1734323929769,
     "user": {
      "displayName": "Nguyễn Trương Hoàng",
      "userId": "04971599599493899416"
     },
     "user_tz": -420
    },
    "id": "w-KB-ahZWMs7"
   },
   "outputs": [],
   "source": [
    "# Đảm bảo rằng tất cả các giá trị trong 'word_tokenize' là chuỗi hợp lệ\n",
    "df['word_tokenize'] = df['word_tokenize'].apply(lambda x: str(x) if isinstance(x, (int, float)) else x)\n",
    "\n",
    "# Áp dụng hàm vectorize_comment\n",
    "df['embedding'] = df['word_tokenize'].apply(vectorize_comment)"
   ]
  },
  {
   "cell_type": "code",
   "execution_count": 10,
   "metadata": {
    "executionInfo": {
     "elapsed": 9,
     "status": "ok",
     "timestamp": 1734323929770,
     "user": {
      "displayName": "Nguyễn Trương Hoàng",
      "userId": "04971599599493899416"
     },
     "user_tz": -420
    },
    "id": "PDNtm2GXTS7d"
   },
   "outputs": [],
   "source": [
    "X_train_comments = df['embedding']\n",
    "y_train = df['sentiment']\n",
    "\n",
    "X_train_comments = convert_embeddings_to_tensor(df)"
   ]
  },
  {
   "cell_type": "code",
   "execution_count": 11,
   "metadata": {
    "executionInfo": {
     "elapsed": 7,
     "status": "ok",
     "timestamp": 1734323929771,
     "user": {
      "displayName": "Nguyễn Trương Hoàng",
      "userId": "04971599599493899416"
     },
     "user_tz": -420
    },
    "id": "UsmnRyHITUDN"
   },
   "outputs": [],
   "source": [
    "X_train_comments, val_x_comments, y_train, val_y = train_test_split(X_train_comments, y_train, test_size=0.2, random_state=42)"
   ]
  },
  {
   "cell_type": "code",
   "execution_count": 12,
   "metadata": {
    "executionInfo": {
     "elapsed": 6,
     "status": "ok",
     "timestamp": 1734323929771,
     "user": {
      "displayName": "Nguyễn Trương Hoàng",
      "userId": "04971599599493899416"
     },
     "user_tz": -420
    },
    "id": "ebftln3-TYKy"
   },
   "outputs": [],
   "source": [
    "X_train_reshaped = X_train_comments.reshape(X_train_comments.shape[0], -1)\n",
    "val_x_reshaped = val_x_comments.reshape(val_x_comments.shape[0], -1)"
   ]
  },
  {
   "cell_type": "markdown",
   "metadata": {
    "id": "GOIbAa2nTV5j"
   },
   "source": [
    "### ___3.2. ML - Logistic regression___"
   ]
  },
  {
   "cell_type": "code",
   "execution_count": 13,
   "metadata": {
    "colab": {
     "base_uri": "https://localhost:8080/",
     "height": 1000
    },
    "executionInfo": {
     "elapsed": 161464,
     "status": "ok",
     "timestamp": 1734325870541,
     "user": {
      "displayName": "Nguyễn Trương Hoàng",
      "userId": "04971599599493899416"
     },
     "user_tz": -420
    },
    "id": "SpG2XYvrTaeV",
    "outputId": "24c39076-c7a6-4faf-de5c-85ee7399aa32"
   },
   "outputs": [
    {
     "name": "stderr",
     "output_type": "stream",
     "text": [
      "c:\\Users\\Nguyen_Thanh_Vinh\\anaconda3\\envs\\RP_Env\\Lib\\site-packages\\sklearn\\linear_model\\_sag.py:349: ConvergenceWarning: The max_iter was reached which means the coef_ did not converge\n",
      "  warnings.warn(\n",
      "c:\\Users\\Nguyen_Thanh_Vinh\\anaconda3\\envs\\RP_Env\\Lib\\site-packages\\sklearn\\linear_model\\_sag.py:349: ConvergenceWarning: The max_iter was reached which means the coef_ did not converge\n",
      "  warnings.warn(\n",
      "c:\\Users\\Nguyen_Thanh_Vinh\\anaconda3\\envs\\RP_Env\\Lib\\site-packages\\sklearn\\linear_model\\_sag.py:349: ConvergenceWarning: The max_iter was reached which means the coef_ did not converge\n",
      "  warnings.warn(\n",
      "c:\\Users\\Nguyen_Thanh_Vinh\\anaconda3\\envs\\RP_Env\\Lib\\site-packages\\sklearn\\linear_model\\_sag.py:349: ConvergenceWarning: The max_iter was reached which means the coef_ did not converge\n",
      "  warnings.warn(\n",
      "c:\\Users\\Nguyen_Thanh_Vinh\\anaconda3\\envs\\RP_Env\\Lib\\site-packages\\sklearn\\linear_model\\_sag.py:349: ConvergenceWarning: The max_iter was reached which means the coef_ did not converge\n",
      "  warnings.warn(\n"
     ]
    },
    {
     "name": "stdout",
     "output_type": "stream",
     "text": [
      "Best hyperparameters (Logistic regression): {'solver': 'liblinear', 'penalty': 'l2', 'C': 0.001}\n",
      "Best score (Logistic regression): 0.9483226318447443\n",
      "Best Logistic regression Accuracy: 0.9375\n",
      "Best Logistic regression Precision: 0.9279279279279279\n",
      "Best Logistic regression Recall: 0.9537037037037037\n",
      "Best Logistic regression AUC: 0.9381907680876752\n",
      "\n",
      "Classification Report:  LogisticRegression\n",
      "              precision    recall  f1-score   support\n",
      "\n",
      "           0       0.92      0.95      0.93        97\n",
      "           1       0.95      0.93      0.94       111\n",
      "\n",
      "    accuracy                           0.94       208\n",
      "   macro avg       0.94      0.94      0.94       208\n",
      "weighted avg       0.94      0.94      0.94       208\n",
      "\n",
      "ROC_AUC_SCORE is  0.9381907680876752\n"
     ]
    },
    {
     "data": {
      "image/png": "[encoded data removed]",
      "text/plain": [
       "<Figure size 640x480 with 1 Axes>"
      ]
     },
     "metadata": {},
     "output_type": "display_data"
    },
    {
     "data": {
      "image/png": "[encoded data removed]",
      "text/plain": [
       "<Figure size 640x480 with 2 Axes>"
      ]
     },
     "metadata": {},
     "output_type": "display_data"
    }
   ],
   "source": [
    "logreg_results = MLT.tune_logistic_regression(X_train_reshaped, y_train, val_x_reshaped, val_y)"
   ]
  },
  {
   "cell_type": "code",
   "execution_count": 14,
   "metadata": {
    "executionInfo": {
     "elapsed": 19,
     "status": "ok",
     "timestamp": 1734325870542,
     "user": {
      "displayName": "Nguyễn Trương Hoàng",
      "userId": "04971599599493899416"
     },
     "user_tz": -420
    },
    "id": "M0A6rTr3TfVu"
   },
   "outputs": [],
   "source": [
    "best_logreg_model = logreg_results[0]"
   ]
  },
  {
   "cell_type": "markdown",
   "metadata": {
    "id": "nCIjZmy1ThGy"
   },
   "source": [
    "### ___3.3. ML-Random Forest___"
   ]
  },
  {
   "cell_type": "code",
   "execution_count": 15,
   "metadata": {
    "colab": {
     "base_uri": "https://localhost:8080/",
     "height": 630
    },
    "executionInfo": {
     "elapsed": 55593,
     "status": "error",
     "timestamp": 1734326200965,
     "user": {
      "displayName": "Nguyễn Trương Hoàng",
      "userId": "04971599599493899416"
     },
     "user_tz": -420
    },
    "id": "zUDioHjrTkfW",
    "outputId": "6ff8b2eb-9eaa-48d1-c959-fa4405929ee1"
   },
   "outputs": [
    {
     "name": "stderr",
     "output_type": "stream",
     "text": [
      "c:\\Users\\Nguyen_Thanh_Vinh\\anaconda3\\envs\\RP_Env\\Lib\\site-packages\\sklearn\\model_selection\\_validation.py:540: FitFailedWarning: \n",
      "15 fits failed out of a total of 50.\n",
      "The score on these train-test partitions for these parameters will be set to nan.\n",
      "If these failures are not expected, you can try to debug them by setting error_score='raise'.\n",
      "\n",
      "Below are more details about the failures:\n",
      "--------------------------------------------------------------------------------\n",
      "15 fits failed with the following error:\n",
      "Traceback (most recent call last):\n",
      "  File \"c:\\Users\\Nguyen_Thanh_Vinh\\anaconda3\\envs\\RP_Env\\Lib\\site-packages\\sklearn\\model_selection\\_validation.py\", line 888, in _fit_and_score\n",
      "    estimator.fit(X_train, y_train, **fit_params)\n",
      "  File \"c:\\Users\\Nguyen_Thanh_Vinh\\anaconda3\\envs\\RP_Env\\Lib\\site-packages\\sklearn\\base.py\", line 1466, in wrapper\n",
      "    estimator._validate_params()\n",
      "  File \"c:\\Users\\Nguyen_Thanh_Vinh\\anaconda3\\envs\\RP_Env\\Lib\\site-packages\\sklearn\\base.py\", line 666, in _validate_params\n",
      "    validate_parameter_constraints(\n",
      "  File \"c:\\Users\\Nguyen_Thanh_Vinh\\anaconda3\\envs\\RP_Env\\Lib\\site-packages\\sklearn\\utils\\_param_validation.py\", line 95, in validate_parameter_constraints\n",
      "    raise InvalidParameterError(\n",
      "sklearn.utils._param_validation.InvalidParameterError: The 'max_features' parameter of RandomForestClassifier must be an int in the range [1, inf), a float in the range (0.0, 1.0], a str among {'log2', 'sqrt'} or None. Got 'auto' instead.\n",
      "\n",
      "  warnings.warn(some_fits_failed_message, FitFailedWarning)\n",
      "c:\\Users\\Nguyen_Thanh_Vinh\\anaconda3\\envs\\RP_Env\\Lib\\site-packages\\sklearn\\model_selection\\_search.py:1102: UserWarning: One or more of the test scores are non-finite: [       nan 0.94952745 0.94110815 0.94592021 0.94831542        nan\n",
      " 0.9447226         nan 0.94832263 0.94713224]\n",
      "  warnings.warn(\n"
     ]
    },
    {
     "name": "stdout",
     "output_type": "stream",
     "text": [
      "Best hyperparameters (RandomForestClassifier): {'max_depth': 15, 'max_features': 'sqrt', 'min_samples_leaf': 9, 'min_samples_split': 9, 'n_estimators': 232}\n",
      "Best score (RandomForestClassifier): 0.9495274511218526\n",
      "Best Random Forest Accuracy: 0.9375\n",
      "Best Random Forest Precision: 0.9279279279279279\n",
      "Best Random Forest Recall: 0.9537037037037037\n",
      "Best Random Forest AUC: 0.9381907680876752\n",
      "Classification Report:  RandomForestClassifier\n",
      "              precision    recall  f1-score   support\n",
      "\n",
      "           0       0.92      0.95      0.93        97\n",
      "           1       0.95      0.93      0.94       111\n",
      "\n",
      "    accuracy                           0.94       208\n",
      "   macro avg       0.94      0.94      0.94       208\n",
      "weighted avg       0.94      0.94      0.94       208\n",
      "\n",
      "ROC_AUC_SCORE is  0.9381907680876752\n"
     ]
    },
    {
     "data": {
      "image/png": "[encoded data removed]",
      "text/plain": [
       "<Figure size 640x480 with 1 Axes>"
      ]
     },
     "metadata": {},
     "output_type": "display_data"
    },
    {
     "data": {
      "image/png": "[encoded data removed]",
      "text/plain": [
       "<Figure size 640x480 with 2 Axes>"
      ]
     },
     "metadata": {},
     "output_type": "display_data"
    }
   ],
   "source": [
    "rf_results = MLT.tune_random_forest(X_train_reshaped, y_train, val_x_reshaped, val_y)"
   ]
  },
  {
   "cell_type": "code",
   "execution_count": 16,
   "metadata": {
    "executionInfo": {
     "elapsed": 14,
     "status": "aborted",
     "timestamp": 1734325911388,
     "user": {
      "displayName": "Nguyễn Trương Hoàng",
      "userId": "04971599599493899416"
     },
     "user_tz": -420
    },
    "id": "QCSSC5UuTmHB"
   },
   "outputs": [],
   "source": [
    "best_rf_model = rf_results[0]"
   ]
  },
  {
   "cell_type": "markdown",
   "metadata": {
    "id": "eyogLtoZTm4Z"
   },
   "source": [
    "### ___3.4. ML-Naive Bayes___"
   ]
  },
  {
   "cell_type": "code",
   "execution_count": 17,
   "metadata": {
    "executionInfo": {
     "elapsed": 615,
     "status": "ok",
     "timestamp": 1734325973933,
     "user": {
      "displayName": "Nguyễn Trương Hoàng",
      "userId": "04971599599493899416"
     },
     "user_tz": -420
    },
    "id": "4utITDImTpcW"
   },
   "outputs": [],
   "source": [
    "from sklearn.preprocessing import MinMaxScaler\n",
    "\n",
    "scaler = MinMaxScaler()\n",
    "X_train_scaled = scaler.fit_transform(X_train_reshaped)\n",
    "val_x_scaled = scaler.transform(val_x_reshaped)"
   ]
  },
  {
   "cell_type": "code",
   "execution_count": 18,
   "metadata": {
    "colab": {
     "base_uri": "https://localhost:8080/",
     "height": 211
    },
    "executionInfo": {
     "elapsed": 924,
     "status": "error",
     "timestamp": 1734326039818,
     "user": {
      "displayName": "Nguyễn Trương Hoàng",
      "userId": "04971599599493899416"
     },
     "user_tz": -420
    },
    "id": "7HqtEPIKTsta",
    "outputId": "c836218b-5dbd-496d-e0a7-16d0e69d39fa"
   },
   "outputs": [
    {
     "name": "stdout",
     "output_type": "stream",
     "text": [
      "Best hyperparameters (MultinomialNB): {'alpha': 8.904822277414155}\n",
      "Best score (MultinomialNB): 0.9411225741288508\n",
      "Best Navie Bayes Accuracy: 0.9326923076923077\n",
      "Best Naive Bayes Precision: 0.918918918918919\n",
      "Best Navie Bayes Recall: 0.9532710280373832\n",
      "Best Naive Bayes AUC: 0.9336862635831708\n",
      "Classification Report:  MultinomialNB\n",
      "              precision    recall  f1-score   support\n",
      "\n",
      "           0       0.91      0.95      0.93        97\n",
      "           1       0.95      0.92      0.94       111\n",
      "\n",
      "    accuracy                           0.93       208\n",
      "   macro avg       0.93      0.93      0.93       208\n",
      "weighted avg       0.93      0.93      0.93       208\n",
      "\n",
      "ROC_AUC_SCORE is  0.9336862635831708\n"
     ]
    },
    {
     "data": {
      "image/png": "[encoded data removed]",
      "text/plain": [
       "<Figure size 640x480 with 1 Axes>"
      ]
     },
     "metadata": {},
     "output_type": "display_data"
    },
    {
     "data": {
      "image/png": "[encoded data removed]",
      "text/plain": [
       "<Figure size 640x480 with 2 Axes>"
      ]
     },
     "metadata": {},
     "output_type": "display_data"
    }
   ],
   "source": [
    "nb_results = MLT.tune_multinomial_nb(X_train_scaled, y_train, val_x_scaled, val_y)"
   ]
  },
  {
   "cell_type": "code",
   "execution_count": 19,
   "metadata": {
    "executionInfo": {
     "elapsed": 10,
     "status": "aborted",
     "timestamp": 1734325976695,
     "user": {
      "displayName": "Nguyễn Trương Hoàng",
      "userId": "04971599599493899416"
     },
     "user_tz": -420
    },
    "id": "Qg39j4vtTt7X"
   },
   "outputs": [],
   "source": [
    "best_nb_results = nb_results[0]"
   ]
  },
  {
   "cell_type": "markdown",
   "metadata": {
    "id": "0W1VG6QVTujy"
   },
   "source": [
    "### ___3.5. DL-LSTM___"
   ]
  },
  {
   "cell_type": "code",
   "execution_count": 20,
   "metadata": {
    "id": "C5489jJJTwZh"
   },
   "outputs": [
    {
     "name": "stdout",
     "output_type": "stream",
     "text": [
      "Trial 2 Complete [00h 00m 07s]\n",
      "val_accuracy: 0.9375\n",
      "\n",
      "Best val_accuracy So Far: 0.9375\n",
      "Total elapsed time: 00h 00m 33s\n",
      "Best hyperparameters found:\n",
      "LSTM units: 32\n",
      "Number of LSTM layers: 3\n",
      "Learning rate: 0.004509469335380268\n"
     ]
    }
   ],
   "source": [
    "import keras_tuner as kt\n",
    "from tensorflow.keras.models import Sequential\n",
    "from tensorflow.keras.layers import LSTM, Dropout, GlobalAveragePooling1D, Dense, Input\n",
    "from tensorflow.keras.optimizers import Adam\n",
    "\n",
    "def build_model(hp):\n",
    "    model = Sequential()\n",
    "\n",
    "    # Đầu vào đã có sẵn embedding với shape (batch_size, 1, 768)\n",
    "    model.add(Input(shape=(1, 768)))  # Đầu vào của dữ liệu embedding có shape (1, 768)\n",
    "\n",
    "    for _ in range(hp.Int('num_lstm_layers', 1, 3)):  # Từ 1 đến 3 lớp LSTM\n",
    "        model.add(LSTM(hp.Int('lstm_units', 32, 128, step=32), return_sequences=True))\n",
    "        model.add(Dropout(0.5))\n",
    "\n",
    "    model.add(GlobalAveragePooling1D())  # Tổng hợp thông tin từ các bước\n",
    "    model.add(Dense(1, activation='sigmoid'))  # Phân loại nhị phân (0 hoặc 1)\n",
    "\n",
    "    model.compile(\n",
    "        loss='binary_crossentropy',  # Sử dụng loss nhị phân cho bài toán phân loại 2 lớp\n",
    "        optimizer=Adam(hp.Float('learning_rate', 1e-4, 1e-2, sampling='log')),\n",
    "        metrics=['accuracy']\n",
    "    )\n",
    "\n",
    "    return model\n",
    "\n",
    "# Đường dẫn và tên dự án\n",
    "base_dir = r'sentiment_NKKK'\n",
    "project_name = 'sentiment_NLP'\n",
    "directory = os.path.join(base_dir, project_name)\n",
    "\n",
    "# Kiểm tra và tạo thư mục nếu chưa có\n",
    "if not os.path.exists(directory):\n",
    "    os.makedirs(directory)\n",
    "    print(f\"Created directory: {directory}\")\n",
    "else:\n",
    "    print(f\"Directory already exists: {directory}\")\n",
    "\n",
    "# Tuner tìm kiếm siêu tham số\n",
    "tuner = kt.RandomSearch(\n",
    "    build_model,\n",
    "    objective='val_accuracy',  # Tối ưu hóa theo độ chính xác trên tập validation\n",
    "    max_trials=2,  # Số lần thử\n",
    "    executions_per_trial=1,  # Mỗi thử nghiệm sẽ chạy 1 lần\n",
    "    directory=base_dir,\n",
    "    project_name=project_name\n",
    ")\n",
    "\n",
    "# Tiến hành tìm kiếm siêu tham số\n",
    "tuner.search(X_train_comments, y_train, epochs=5, validation_data=(val_x_comments, val_y))\n",
    "\n",
    "# Lấy các siêu tham số tốt nhất\n",
    "best_hps = tuner.get_best_hyperparameters(num_trials=1)[0]\n",
    "print(\"Best hyperparameters found:\")\n",
    "print(f\"LSTM units: {best_hps.get('lstm_units')}\")\n",
    "print(f\"Number of LSTM layers: {best_hps.get('num_lstm_layers')}\")\n",
    "print(f\"Learning rate: {best_hps.get('learning_rate')}\")"
   ]
  },
  {
   "cell_type": "code",
   "execution_count": null,
   "metadata": {},
   "outputs": [],
   "source": [
    "# Lấy mô hình tốt nhất từ tuner\n",
    "best_model = tuner.get_best_models(num_models=1)[0]\n",
    "\n",
    "# Lưu mô hình tốt nhất vào file\n",
    "best_model_path = os.path.join(directory, 'PhoBERT_LSTM_best_model.h5')\n",
    "best_model.save(best_model_path)\n",
    "print(f\"Best model saved to {best_model_path}\")"
   ]
  },
  {
   "cell_type": "markdown",
   "metadata": {
    "id": "maykfuasT51b"
   },
   "source": [
    "# __4. Phân tích đánh giá câu ngắn__"
   ]
  },
  {
   "cell_type": "markdown",
   "metadata": {
    "id": "66dsm9HoT_D3"
   },
   "source": [
    "### ___4.1. Đọc dữ liệu và xây dựng mô hình___"
   ]
  },
  {
   "cell_type": "code",
   "execution_count": 21,
   "metadata": {
    "id": "6F8kW35YUDBp"
   },
   "outputs": [
    {
     "name": "stdout",
     "output_type": "stream",
     "text": [
      "   Unnamed: 0                                            comment  \\\n",
      "0         3.0                                           thun dày   \n",
      "1         4.0                                    túi có khóa kéo   \n",
      "2         NaN  mỗi lần size nhỏ nhắn cửa hàng đổi size to hơn...   \n",
      "3         8.0                                           quần dày   \n",
      "4         9.0                                  đã nhận được hàng   \n",
      "\n",
      "   sentiment_manual                                      word_tokenize  \n",
      "0                 1                                           thun dày  \n",
      "1                 1                                    túi có khóa kéo  \n",
      "2                 0  mỗi lần size nhỏ_nhắn cửa_hàng đổi size to hơn...  \n",
      "3                 1                                           quần dày  \n",
      "4                 1                                  đã nhận được hàng  \n"
     ]
    }
   ],
   "source": [
    "file_path1 = r'preprocessed_data1.xlsx'\n",
    "df1 = pd.read_excel(file_path1)\n",
    "print(df1.head())"
   ]
  },
  {
   "cell_type": "code",
   "execution_count": 22,
   "metadata": {},
   "outputs": [],
   "source": [
    "df1['word_tokenize'] = df1['word_tokenize'].astype(str)"
   ]
  },
  {
   "cell_type": "code",
   "execution_count": 23,
   "metadata": {
    "id": "LosJjZmTUP1a"
   },
   "outputs": [],
   "source": [
    "df1['embedding'] = df1['word_tokenize'].apply(vectorize_comment)"
   ]
  },
  {
   "cell_type": "code",
   "execution_count": 30,
   "metadata": {
    "id": "rjQ2yWmET8uW"
   },
   "outputs": [],
   "source": [
    "X_train_comments = df1['embedding']\n",
    "y_train = df1['sentiment_manual']\n",
    "\n",
    "X_train_comments = convert_embeddings_to_tensor(df1)"
   ]
  },
  {
   "cell_type": "code",
   "execution_count": 31,
   "metadata": {
    "id": "kWRPsMnjUWpA"
   },
   "outputs": [],
   "source": [
    "X_train_reshaped = X_train_comments.reshape(X_train_comments.shape[0], -1)\n",
    "val_x_reshaped = val_x_comments.reshape(val_x_comments.shape[0], -1)"
   ]
  },
  {
   "cell_type": "markdown",
   "metadata": {
    "id": "W8TfPWxpUXUC"
   },
   "source": [
    "### ___4.2. ML-Logistic regreesion___"
   ]
  },
  {
   "cell_type": "code",
   "execution_count": 32,
   "metadata": {
    "id": "3SzAurhrUasq"
   },
   "outputs": [
    {
     "name": "stderr",
     "output_type": "stream",
     "text": [
      "c:\\Users\\Nguyen_Thanh_Vinh\\anaconda3\\envs\\RP_Env\\Lib\\site-packages\\sklearn\\linear_model\\_sag.py:349: ConvergenceWarning: The max_iter was reached which means the coef_ did not converge\n",
      "  warnings.warn(\n",
      "c:\\Users\\Nguyen_Thanh_Vinh\\anaconda3\\envs\\RP_Env\\Lib\\site-packages\\sklearn\\linear_model\\_sag.py:349: ConvergenceWarning: The max_iter was reached which means the coef_ did not converge\n",
      "  warnings.warn(\n",
      "c:\\Users\\Nguyen_Thanh_Vinh\\anaconda3\\envs\\RP_Env\\Lib\\site-packages\\sklearn\\linear_model\\_sag.py:349: ConvergenceWarning: The max_iter was reached which means the coef_ did not converge\n",
      "  warnings.warn(\n",
      "c:\\Users\\Nguyen_Thanh_Vinh\\anaconda3\\envs\\RP_Env\\Lib\\site-packages\\sklearn\\linear_model\\_sag.py:349: ConvergenceWarning: The max_iter was reached which means the coef_ did not converge\n",
      "  warnings.warn(\n",
      "c:\\Users\\Nguyen_Thanh_Vinh\\anaconda3\\envs\\RP_Env\\Lib\\site-packages\\sklearn\\linear_model\\_sag.py:349: ConvergenceWarning: The max_iter was reached which means the coef_ did not converge\n",
      "  warnings.warn(\n",
      "c:\\Users\\Nguyen_Thanh_Vinh\\anaconda3\\envs\\RP_Env\\Lib\\site-packages\\sklearn\\linear_model\\_sag.py:349: ConvergenceWarning: The max_iter was reached which means the coef_ did not converge\n",
      "  warnings.warn(\n",
      "c:\\Users\\Nguyen_Thanh_Vinh\\anaconda3\\envs\\RP_Env\\Lib\\site-packages\\sklearn\\linear_model\\_sag.py:349: ConvergenceWarning: The max_iter was reached which means the coef_ did not converge\n",
      "  warnings.warn(\n",
      "c:\\Users\\Nguyen_Thanh_Vinh\\anaconda3\\envs\\RP_Env\\Lib\\site-packages\\sklearn\\linear_model\\_sag.py:349: ConvergenceWarning: The max_iter was reached which means the coef_ did not converge\n",
      "  warnings.warn(\n",
      "c:\\Users\\Nguyen_Thanh_Vinh\\anaconda3\\envs\\RP_Env\\Lib\\site-packages\\sklearn\\linear_model\\_sag.py:349: ConvergenceWarning: The max_iter was reached which means the coef_ did not converge\n",
      "  warnings.warn(\n",
      "c:\\Users\\Nguyen_Thanh_Vinh\\anaconda3\\envs\\RP_Env\\Lib\\site-packages\\sklearn\\linear_model\\_sag.py:349: ConvergenceWarning: The max_iter was reached which means the coef_ did not converge\n",
      "  warnings.warn(\n"
     ]
    },
    {
     "name": "stdout",
     "output_type": "stream",
     "text": [
      "Best hyperparameters (Logistic regression): {'solver': 'liblinear', 'penalty': 'l2', 'C': 0.1}\n",
      "Best score (Logistic regression): 0.9191514437242192\n",
      "Best Logistic regression Accuracy: 0.9567307692307693\n",
      "Best Logistic regression Precision: 0.972972972972973\n",
      "Best Logistic regression Recall: 0.9473684210526315\n",
      "Best Logistic regression AUC: 0.9555586514349401\n",
      "\n",
      "Classification Report:  LogisticRegression\n",
      "              precision    recall  f1-score   support\n",
      "\n",
      "           0       0.97      0.94      0.95        97\n",
      "           1       0.95      0.97      0.96       111\n",
      "\n",
      "    accuracy                           0.96       208\n",
      "   macro avg       0.96      0.96      0.96       208\n",
      "weighted avg       0.96      0.96      0.96       208\n",
      "\n",
      "ROC_AUC_SCORE is  0.9555586514349401\n"
     ]
    },
    {
     "data": {
      "image/png": "[encoded data removed]",
      "text/plain": [
       "<Figure size 640x480 with 1 Axes>"
      ]
     },
     "metadata": {},
     "output_type": "display_data"
    },
    {
     "data": {
      "image/png": "[encoded data removed]",
      "text/plain": [
       "<Figure size 640x480 with 2 Axes>"
      ]
     },
     "metadata": {},
     "output_type": "display_data"
    }
   ],
   "source": [
    "logreg_results = MLT.tune_logistic_regression(X_train_reshaped, y_train, val_x_reshaped, val_y)"
   ]
  },
  {
   "cell_type": "code",
   "execution_count": 33,
   "metadata": {
    "id": "x-yK4EqBUcvG"
   },
   "outputs": [],
   "source": [
    "best_logreg_model_split = logreg_results[0]"
   ]
  },
  {
   "cell_type": "markdown",
   "metadata": {
    "id": "8qcWSk0uUfdl"
   },
   "source": [
    "### ___4.3. ML-RandomForest___"
   ]
  },
  {
   "cell_type": "code",
   "execution_count": 34,
   "metadata": {
    "id": "Oh_zYmBaUibS"
   },
   "outputs": [
    {
     "name": "stderr",
     "output_type": "stream",
     "text": [
      "c:\\Users\\Nguyen_Thanh_Vinh\\anaconda3\\envs\\RP_Env\\Lib\\site-packages\\sklearn\\model_selection\\_validation.py:540: FitFailedWarning: \n",
      "30 fits failed out of a total of 50.\n",
      "The score on these train-test partitions for these parameters will be set to nan.\n",
      "If these failures are not expected, you can try to debug them by setting error_score='raise'.\n",
      "\n",
      "Below are more details about the failures:\n",
      "--------------------------------------------------------------------------------\n",
      "30 fits failed with the following error:\n",
      "Traceback (most recent call last):\n",
      "  File \"c:\\Users\\Nguyen_Thanh_Vinh\\anaconda3\\envs\\RP_Env\\Lib\\site-packages\\sklearn\\model_selection\\_validation.py\", line 888, in _fit_and_score\n",
      "    estimator.fit(X_train, y_train, **fit_params)\n",
      "  File \"c:\\Users\\Nguyen_Thanh_Vinh\\anaconda3\\envs\\RP_Env\\Lib\\site-packages\\sklearn\\base.py\", line 1466, in wrapper\n",
      "    estimator._validate_params()\n",
      "  File \"c:\\Users\\Nguyen_Thanh_Vinh\\anaconda3\\envs\\RP_Env\\Lib\\site-packages\\sklearn\\base.py\", line 666, in _validate_params\n",
      "    validate_parameter_constraints(\n",
      "  File \"c:\\Users\\Nguyen_Thanh_Vinh\\anaconda3\\envs\\RP_Env\\Lib\\site-packages\\sklearn\\utils\\_param_validation.py\", line 95, in validate_parameter_constraints\n",
      "    raise InvalidParameterError(\n",
      "sklearn.utils._param_validation.InvalidParameterError: The 'max_features' parameter of RandomForestClassifier must be an int in the range [1, inf), a float in the range (0.0, 1.0], a str among {'log2', 'sqrt'} or None. Got 'auto' instead.\n",
      "\n",
      "  warnings.warn(some_fits_failed_message, FitFailedWarning)\n",
      "c:\\Users\\Nguyen_Thanh_Vinh\\anaconda3\\envs\\RP_Env\\Lib\\site-packages\\sklearn\\model_selection\\_search.py:1102: UserWarning: One or more of the test scores are non-finite: [0.92044785        nan 0.92174425        nan        nan        nan\n",
      "        nan 0.92209782 0.92280495        nan]\n",
      "  warnings.warn(\n"
     ]
    },
    {
     "name": "stdout",
     "output_type": "stream",
     "text": [
      "Best hyperparameters (RandomForestClassifier): {'max_depth': 26, 'max_features': 'sqrt', 'min_samples_leaf': 9, 'min_samples_split': 2, 'n_estimators': 192}\n",
      "Best score (RandomForestClassifier): 0.9228049499116088\n",
      "Best Random Forest Accuracy: 0.9471153846153846\n",
      "Best Random Forest Precision: 0.963963963963964\n",
      "Best Random Forest Recall: 0.9385964912280702\n",
      "Best Random Forest AUC: 0.945899507755178\n",
      "Classification Report:  RandomForestClassifier\n",
      "              precision    recall  f1-score   support\n",
      "\n",
      "           0       0.96      0.93      0.94        97\n",
      "           1       0.94      0.96      0.95       111\n",
      "\n",
      "    accuracy                           0.95       208\n",
      "   macro avg       0.95      0.95      0.95       208\n",
      "weighted avg       0.95      0.95      0.95       208\n",
      "\n",
      "ROC_AUC_SCORE is  0.945899507755178\n"
     ]
    },
    {
     "data": {
      "image/png": "[encoded data removed]",
      "text/plain": [
       "<Figure size 640x480 with 1 Axes>"
      ]
     },
     "metadata": {},
     "output_type": "display_data"
    },
    {
     "data": {
      "image/png": "[encoded data removed]",
      "text/plain": [
       "<Figure size 640x480 with 2 Axes>"
      ]
     },
     "metadata": {},
     "output_type": "display_data"
    }
   ],
   "source": [
    "rf_results = MLT.tune_random_forest(X_train_reshaped, y_train, val_x_reshaped, val_y)"
   ]
  },
  {
   "cell_type": "code",
   "execution_count": 35,
   "metadata": {
    "id": "f43ulnV1UkrN"
   },
   "outputs": [],
   "source": [
    "best_rf_model_split = rf_results[0]"
   ]
  },
  {
   "cell_type": "markdown",
   "metadata": {
    "id": "Le9PyJjhUlab"
   },
   "source": [
    "### ___4.4. ML-Naive Bayes___"
   ]
  },
  {
   "cell_type": "code",
   "execution_count": 36,
   "metadata": {
    "id": "MU3UpILDUn5X"
   },
   "outputs": [],
   "source": [
    "from sklearn.preprocessing import MinMaxScaler\n",
    "\n",
    "scaler = MinMaxScaler()\n",
    "X_train_scaled = scaler.fit_transform(X_train_reshaped)\n",
    "val_x_scaled = scaler.transform(val_x_reshaped)"
   ]
  },
  {
   "cell_type": "code",
   "execution_count": 37,
   "metadata": {
    "id": "7epp1CdcUphf"
   },
   "outputs": [
    {
     "name": "stdout",
     "output_type": "stream",
     "text": [
      "Best hyperparameters (MultinomialNB): {'alpha': 6.3310949480747665}\n",
      "Best score (MultinomialNB): 0.9000589275191514\n",
      "Best Navie Bayes Accuracy: 0.9375\n",
      "Best Naive Bayes Precision: 0.9369369369369369\n",
      "Best Navie Bayes Recall: 0.9454545454545454\n",
      "Best Naive Bayes AUC: 0.9375406334169221\n",
      "Classification Report:  MultinomialNB\n",
      "              precision    recall  f1-score   support\n",
      "\n",
      "           0       0.93      0.94      0.93        97\n",
      "           1       0.95      0.94      0.94       111\n",
      "\n",
      "    accuracy                           0.94       208\n",
      "   macro avg       0.94      0.94      0.94       208\n",
      "weighted avg       0.94      0.94      0.94       208\n",
      "\n",
      "ROC_AUC_SCORE is  0.9375406334169221\n"
     ]
    },
    {
     "data": {
      "image/png": "[encoded data removed]",
      "text/plain": [
       "<Figure size 640x480 with 1 Axes>"
      ]
     },
     "metadata": {},
     "output_type": "display_data"
    },
    {
     "data": {
      "image/png": "[encoded data removed]",
      "text/plain": [
       "<Figure size 640x480 with 2 Axes>"
      ]
     },
     "metadata": {},
     "output_type": "display_data"
    }
   ],
   "source": [
    "nb_results = MLT.tune_multinomial_nb(X_train_scaled, y_train, val_x_scaled, val_y)"
   ]
  },
  {
   "cell_type": "code",
   "execution_count": 38,
   "metadata": {
    "id": "KK-oYrQJUqPe"
   },
   "outputs": [],
   "source": [
    "best_nb_results_split = nb_results[0]"
   ]
  },
  {
   "cell_type": "markdown",
   "metadata": {
    "id": "iTg8N80nUuVx"
   },
   "source": [
    "### ___4.5. DL-LSTM___"
   ]
  },
  {
   "cell_type": "code",
   "execution_count": 39,
   "metadata": {
    "id": "bWpoSEFeUwfz"
   },
   "outputs": [
    {
     "name": "stdout",
     "output_type": "stream",
     "text": [
      "Trial 2 Complete [00h 01m 22s]\n",
      "val_accuracy: 0.9375\n",
      "\n",
      "Best val_accuracy So Far: 0.9375\n",
      "Total elapsed time: 00h 02m 17s\n",
      "Best hyperparameters found:\n",
      "LSTM units: 32\n",
      "Number of LSTM layers: 1\n",
      "Learning rate: 0.005243440688531572\n"
     ]
    }
   ],
   "source": [
    "# Đường dẫn và tên dự án\n",
    "base_dir = r'sentiment_NKK'\n",
    "project_name = 'Sentiment_NLP_Split'\n",
    "directory = os.path.join(base_dir, project_name)\n",
    "\n",
    "# Kiểm tra và tạo thư mục nếu chưa có\n",
    "if not os.path.exists(directory):\n",
    "    os.makedirs(directory)\n",
    "    print(f\"Created directory: {directory}\")\n",
    "else:\n",
    "    print(f\"Directory already exists: {directory}\")\n",
    "\n",
    "# Tuner tìm kiếm siêu tham số\n",
    "tuner = kt.RandomSearch(\n",
    "    build_model,\n",
    "    objective='val_accuracy',  # Tối ưu hóa theo độ chính xác trên tập validation\n",
    "    max_trials=2,  # Số lần thử\n",
    "    executions_per_trial=1,  # Mỗi thử nghiệm sẽ chạy 1 lần\n",
    "    directory=base_dir,\n",
    "    project_name=project_name\n",
    ")\n",
    "\n",
    "# Tiến hành tìm kiếm siêu tham số\n",
    "tuner.search(X_train_comments, y_train, epochs=5, validation_data=(val_x_comments, val_y))\n",
    "\n",
    "# Lấy các siêu tham số tốt nhất\n",
    "best_hps = tuner.get_best_hyperparameters(num_trials=1)[0]\n",
    "print(\"Best hyperparameters found:\")\n",
    "print(f\"LSTM units: {best_hps.get('lstm_units')}\")\n",
    "print(f\"Number of LSTM layers: {best_hps.get('num_lstm_layers')}\")\n",
    "print(f\"Learning rate: {best_hps.get('learning_rate')}\")"
   ]
  }
 ],
 "metadata": {
  "colab": {
   "collapsed_sections": [
    "GOIbAa2nTV5j",
    "eyogLtoZTm4Z",
    "0W1VG6QVTujy",
    "66dsm9HoT_D3",
    "W8TfPWxpUXUC"
   ],
   "provenance": []
  },
  "kernelspec": {
   "display_name": "Python 3",
   "name": "python3"
  },
  "language_info": {
   "codemirror_mode": {
    "name": "ipython",
    "version": 3
   },
   "file_extension": ".py",
   "mimetype": "text/x-python",
   "name": "python",
   "nbconvert_exporter": "python",
   "pygments_lexer": "ipython3",
   "version": "3.11.9"
  },
  "widgets": {
   "application/vnd.jupyter.widget-state+json": {
    "01b1e151c27d4fe79121311353bedca8": {
     "model_module": "@jupyter-widgets/controls",
     "model_module_version": "1.5.0",
     "model_name": "HTMLModel",
     "state": {
      "_dom_classes": [],
      "_model_module": "@jupyter-widgets/controls",
      "_model_module_version": "1.5.0",
      "_model_name": "HTMLModel",
      "_view_count": null,
      "_view_module": "@jupyter-widgets/controls",
      "_view_module_version": "1.5.0",
      "_view_name": "HTMLView",
      "description": "",
      "description_tooltip": null,
      "layout": "IPY_MODEL_8e287016e85c4ca29eb35f2374c921ea",
      "placeholder": "​",
      "style": "IPY_MODEL_f5c3319e53894b4f8082630453ac4941",
      "value": "special_tokens_map.json: 100%"
     }
    },
    "09b006d7f4c44ca98df4ff91b28383c3": {
     "model_module": "@jupyter-widgets/base",
     "model_module_version": "1.2.0",
     "model_name": "LayoutModel",
     "state": {
      "_model_module": "@jupyter-widgets/base",
      "_model_module_version": "1.2.0",
      "_model_name": "LayoutModel",
      "_view_count": null,
      "_view_module": "@jupyter-widgets/base",
      "_view_module_version": "1.2.0",
      "_view_name": "LayoutView",
      "align_content": null,
      "align_items": null,
      "align_self": null,
      "border": null,
      "bottom": null,
      "display": null,
      "flex": null,
      "flex_flow": null,
      "grid_area": null,
      "grid_auto_columns": null,
      "grid_auto_flow": null,
      "grid_auto_rows": null,
      "grid_column": null,
      "grid_gap": null,
      "grid_row": null,
      "grid_template_areas": null,
      "grid_template_columns": null,
      "grid_template_rows": null,
      "height": null,
      "justify_content": null,
      "justify_items": null,
      "left": null,
      "margin": null,
      "max_height": null,
      "max_width": null,
      "min_height": null,
      "min_width": null,
      "object_fit": null,
      "object_position": null,
      "order": null,
      "overflow": null,
      "overflow_x": null,
      "overflow_y": null,
      "padding": null,
      "right": null,
      "top": null,
      "visibility": null,
      "width": null
     }
    },
    "10afbd7433a6482eaef8913e3d072f8f": {
     "model_module": "@jupyter-widgets/controls",
     "model_module_version": "1.5.0",
     "model_name": "DescriptionStyleModel",
     "state": {
      "_model_module": "@jupyter-widgets/controls",
      "_model_module_version": "1.5.0",
      "_model_name": "DescriptionStyleModel",
      "_view_count": null,
      "_view_module": "@jupyter-widgets/base",
      "_view_module_version": "1.2.0",
      "_view_name": "StyleView",
      "description_width": ""
     }
    },
    "1171ebc106f849a086b87a09fe375310": {
     "model_module": "@jupyter-widgets/controls",
     "model_module_version": "1.5.0",
     "model_name": "DescriptionStyleModel",
     "state": {
      "_model_module": "@jupyter-widgets/controls",
      "_model_module_version": "1.5.0",
      "_model_name": "DescriptionStyleModel",
      "_view_count": null,
      "_view_module": "@jupyter-widgets/base",
      "_view_module_version": "1.2.0",
      "_view_name": "StyleView",
      "description_width": ""
     }
    },
    "13d6b080f8fd438681370fdfc944e076": {
     "model_module": "@jupyter-widgets/controls",
     "model_module_version": "1.5.0",
     "model_name": "DescriptionStyleModel",
     "state": {
      "_model_module": "@jupyter-widgets/controls",
      "_model_module_version": "1.5.0",
      "_model_name": "DescriptionStyleModel",
      "_view_count": null,
      "_view_module": "@jupyter-widgets/base",
      "_view_module_version": "1.2.0",
      "_view_name": "StyleView",
      "description_width": ""
     }
    },
    "18e88f331a97427da26cdd3f680faa89": {
     "model_module": "@jupyter-widgets/controls",
     "model_module_version": "1.5.0",
     "model_name": "ProgressStyleModel",
     "state": {
      "_model_module": "@jupyter-widgets/controls",
      "_model_module_version": "1.5.0",
      "_model_name": "ProgressStyleModel",
      "_view_count": null,
      "_view_module": "@jupyter-widgets/base",
      "_view_module_version": "1.2.0",
      "_view_name": "StyleView",
      "bar_color": null,
      "description_width": ""
     }
    },
    "1a8a2cb612e942a097616533a5d287d6": {
     "model_module": "@jupyter-widgets/controls",
     "model_module_version": "1.5.0",
     "model_name": "DescriptionStyleModel",
     "state": {
      "_model_module": "@jupyter-widgets/controls",
      "_model_module_version": "1.5.0",
      "_model_name": "DescriptionStyleModel",
      "_view_count": null,
      "_view_module": "@jupyter-widgets/base",
      "_view_module_version": "1.2.0",
      "_view_name": "StyleView",
      "description_width": ""
     }
    },
    "1b70f41987734941aa08caa57436d00b": {
     "model_module": "@jupyter-widgets/base",
     "model_module_version": "1.2.0",
     "model_name": "LayoutModel",
     "state": {
      "_model_module": "@jupyter-widgets/base",
      "_model_module_version": "1.2.0",
      "_model_name": "LayoutModel",
      "_view_count": null,
      "_view_module": "@jupyter-widgets/base",
      "_view_module_version": "1.2.0",
      "_view_name": "LayoutView",
      "align_content": null,
      "align_items": null,
      "align_self": null,
      "border": null,
      "bottom": null,
      "display": null,
      "flex": null,
      "flex_flow": null,
      "grid_area": null,
      "grid_auto_columns": null,
      "grid_auto_flow": null,
      "grid_auto_rows": null,
      "grid_column": null,
      "grid_gap": null,
      "grid_row": null,
      "grid_template_areas": null,
      "grid_template_columns": null,
      "grid_template_rows": null,
      "height": null,
      "justify_content": null,
      "justify_items": null,
      "left": null,
      "margin": null,
      "max_height": null,
      "max_width": null,
      "min_height": null,
      "min_width": null,
      "object_fit": null,
      "object_position": null,
      "order": null,
      "overflow": null,
      "overflow_x": null,
      "overflow_y": null,
      "padding": null,
      "right": null,
      "top": null,
      "visibility": null,
      "width": null
     }
    },
    "1c335e014f2544cd924263a461364307": {
     "model_module": "@jupyter-widgets/base",
     "model_module_version": "1.2.0",
     "model_name": "LayoutModel",
     "state": {
      "_model_module": "@jupyter-widgets/base",
      "_model_module_version": "1.2.0",
      "_model_name": "LayoutModel",
      "_view_count": null,
      "_view_module": "@jupyter-widgets/base",
      "_view_module_version": "1.2.0",
      "_view_name": "LayoutView",
      "align_content": null,
      "align_items": null,
      "align_self": null,
      "border": null,
      "bottom": null,
      "display": null,
      "flex": null,
      "flex_flow": null,
      "grid_area": null,
      "grid_auto_columns": null,
      "grid_auto_flow": null,
      "grid_auto_rows": null,
      "grid_column": null,
      "grid_gap": null,
      "grid_row": null,
      "grid_template_areas": null,
      "grid_template_columns": null,
      "grid_template_rows": null,
      "height": null,
      "justify_content": null,
      "justify_items": null,
      "left": null,
      "margin": null,
      "max_height": null,
      "max_width": null,
      "min_height": null,
      "min_width": null,
      "object_fit": null,
      "object_position": null,
      "order": null,
      "overflow": null,
      "overflow_x": null,
      "overflow_y": null,
      "padding": null,
      "right": null,
      "top": null,
      "visibility": null,
      "width": null
     }
    },
    "1ee45b735e5948de8ce78de25cce3f26": {
     "model_module": "@jupyter-widgets/base",
     "model_module_version": "1.2.0",
     "model_name": "LayoutModel",
     "state": {
      "_model_module": "@jupyter-widgets/base",
      "_model_module_version": "1.2.0",
      "_model_name": "LayoutModel",
      "_view_count": null,
      "_view_module": "@jupyter-widgets/base",
      "_view_module_version": "1.2.0",
      "_view_name": "LayoutView",
      "align_content": null,
      "align_items": null,
      "align_self": null,
      "border": null,
      "bottom": null,
      "display": null,
      "flex": null,
      "flex_flow": null,
      "grid_area": null,
      "grid_auto_columns": null,
      "grid_auto_flow": null,
      "grid_auto_rows": null,
      "grid_column": null,
      "grid_gap": null,
      "grid_row": null,
      "grid_template_areas": null,
      "grid_template_columns": null,
      "grid_template_rows": null,
      "height": null,
      "justify_content": null,
      "justify_items": null,
      "left": null,
      "margin": null,
      "max_height": null,
      "max_width": null,
      "min_height": null,
      "min_width": null,
      "object_fit": null,
      "object_position": null,
      "order": null,
      "overflow": null,
      "overflow_x": null,
      "overflow_y": null,
      "padding": null,
      "right": null,
      "top": null,
      "visibility": null,
      "width": null
     }
    },
    "1fcf0c93214c40c5822006eaca589f24": {
     "model_module": "@jupyter-widgets/controls",
     "model_module_version": "1.5.0",
     "model_name": "HBoxModel",
     "state": {
      "_dom_classes": [],
      "_model_module": "@jupyter-widgets/controls",
      "_model_module_version": "1.5.0",
      "_model_name": "HBoxModel",
      "_view_count": null,
      "_view_module": "@jupyter-widgets/controls",
      "_view_module_version": "1.5.0",
      "_view_name": "HBoxView",
      "box_style": "",
      "children": [
       "IPY_MODEL_bd84846799164399a80d814305fd1d50",
       "IPY_MODEL_73d263dac1b643ceabb66ff2cacc50ae",
       "IPY_MODEL_c8dd3672e55a443494bd7d4ee31189cd"
      ],
      "layout": "IPY_MODEL_9166c544ea244734a9581e101cc130c0"
     }
    },
    "2356db76eb5a461dadb508b764e7dc93": {
     "model_module": "@jupyter-widgets/base",
     "model_module_version": "1.2.0",
     "model_name": "LayoutModel",
     "state": {
      "_model_module": "@jupyter-widgets/base",
      "_model_module_version": "1.2.0",
      "_model_name": "LayoutModel",
      "_view_count": null,
      "_view_module": "@jupyter-widgets/base",
      "_view_module_version": "1.2.0",
      "_view_name": "LayoutView",
      "align_content": null,
      "align_items": null,
      "align_self": null,
      "border": null,
      "bottom": null,
      "display": null,
      "flex": null,
      "flex_flow": null,
      "grid_area": null,
      "grid_auto_columns": null,
      "grid_auto_flow": null,
      "grid_auto_rows": null,
      "grid_column": null,
      "grid_gap": null,
      "grid_row": null,
      "grid_template_areas": null,
      "grid_template_columns": null,
      "grid_template_rows": null,
      "height": null,
      "justify_content": null,
      "justify_items": null,
      "left": null,
      "margin": null,
      "max_height": null,
      "max_width": null,
      "min_height": null,
      "min_width": null,
      "object_fit": null,
      "object_position": null,
      "order": null,
      "overflow": null,
      "overflow_x": null,
      "overflow_y": null,
      "padding": null,
      "right": null,
      "top": null,
      "visibility": null,
      "width": null
     }
    },
    "2df44c2aad7c4fa7831e87fbf68c1d4a": {
     "model_module": "@jupyter-widgets/base",
     "model_module_version": "1.2.0",
     "model_name": "LayoutModel",
     "state": {
      "_model_module": "@jupyter-widgets/base",
      "_model_module_version": "1.2.0",
      "_model_name": "LayoutModel",
      "_view_count": null,
      "_view_module": "@jupyter-widgets/base",
      "_view_module_version": "1.2.0",
      "_view_name": "LayoutView",
      "align_content": null,
      "align_items": null,
      "align_self": null,
      "border": null,
      "bottom": null,
      "display": null,
      "flex": null,
      "flex_flow": null,
      "grid_area": null,
      "grid_auto_columns": null,
      "grid_auto_flow": null,
      "grid_auto_rows": null,
      "grid_column": null,
      "grid_gap": null,
      "grid_row": null,
      "grid_template_areas": null,
      "grid_template_columns": null,
      "grid_template_rows": null,
      "height": null,
      "justify_content": null,
      "justify_items": null,
      "left": null,
      "margin": null,
      "max_height": null,
      "max_width": null,
      "min_height": null,
      "min_width": null,
      "object_fit": null,
      "object_position": null,
      "order": null,
      "overflow": null,
      "overflow_x": null,
      "overflow_y": null,
      "padding": null,
      "right": null,
      "top": null,
      "visibility": null,
      "width": null
     }
    },
    "34dce1bdd46947f6b7db575184e6c1e6": {
     "model_module": "@jupyter-widgets/base",
     "model_module_version": "1.2.0",
     "model_name": "LayoutModel",
     "state": {
      "_model_module": "@jupyter-widgets/base",
      "_model_module_version": "1.2.0",
      "_model_name": "LayoutModel",
      "_view_count": null,
      "_view_module": "@jupyter-widgets/base",
      "_view_module_version": "1.2.0",
      "_view_name": "LayoutView",
      "align_content": null,
      "align_items": null,
      "align_self": null,
      "border": null,
      "bottom": null,
      "display": null,
      "flex": null,
      "flex_flow": null,
      "grid_area": null,
      "grid_auto_columns": null,
      "grid_auto_flow": null,
      "grid_auto_rows": null,
      "grid_column": null,
      "grid_gap": null,
      "grid_row": null,
      "grid_template_areas": null,
      "grid_template_columns": null,
      "grid_template_rows": null,
      "height": null,
      "justify_content": null,
      "justify_items": null,
      "left": null,
      "margin": null,
      "max_height": null,
      "max_width": null,
      "min_height": null,
      "min_width": null,
      "object_fit": null,
      "object_position": null,
      "order": null,
      "overflow": null,
      "overflow_x": null,
      "overflow_y": null,
      "padding": null,
      "right": null,
      "top": null,
      "visibility": null,
      "width": null
     }
    },
    "3d211471fca24545894adcb609ba0fae": {
     "model_module": "@jupyter-widgets/controls",
     "model_module_version": "1.5.0",
     "model_name": "HTMLModel",
     "state": {
      "_dom_classes": [],
      "_model_module": "@jupyter-widgets/controls",
      "_model_module_version": "1.5.0",
      "_model_name": "HTMLModel",
      "_view_count": null,
      "_view_module": "@jupyter-widgets/controls",
      "_view_module_version": "1.5.0",
      "_view_name": "HTMLView",
      "description": "",
      "description_tooltip": null,
      "layout": "IPY_MODEL_65d63ba5d7d740ec8d6eb88d08d2ca14",
      "placeholder": "​",
      "style": "IPY_MODEL_1171ebc106f849a086b87a09fe375310",
      "value": " 540M/540M [00:06&lt;00:00, 63.6MB/s]"
     }
    },
    "3fc0c8f8fc0c49d6af5c57b44919793c": {
     "model_module": "@jupyter-widgets/controls",
     "model_module_version": "1.5.0",
     "model_name": "HBoxModel",
     "state": {
      "_dom_classes": [],
      "_model_module": "@jupyter-widgets/controls",
      "_model_module_version": "1.5.0",
      "_model_name": "HBoxModel",
      "_view_count": null,
      "_view_module": "@jupyter-widgets/controls",
      "_view_module_version": "1.5.0",
      "_view_name": "HBoxView",
      "box_style": "",
      "children": [
       "IPY_MODEL_7c76016e748144f4bf490490262cf880",
       "IPY_MODEL_5c55aa18ca2743f4a9a17bc0ca8dd94f",
       "IPY_MODEL_3d211471fca24545894adcb609ba0fae"
      ],
      "layout": "IPY_MODEL_f870486056a745848a1d531f64433a0c"
     }
    },
    "3fca803ee83e4b7087c7aeee93a398a8": {
     "model_module": "@jupyter-widgets/controls",
     "model_module_version": "1.5.0",
     "model_name": "HBoxModel",
     "state": {
      "_dom_classes": [],
      "_model_module": "@jupyter-widgets/controls",
      "_model_module_version": "1.5.0",
      "_model_name": "HBoxModel",
      "_view_count": null,
      "_view_module": "@jupyter-widgets/controls",
      "_view_module_version": "1.5.0",
      "_view_name": "HBoxView",
      "box_style": "",
      "children": [
       "IPY_MODEL_b5b267abfa1f45ce923b5126f48cb704",
       "IPY_MODEL_983536bca2a64b9eb5f31f050e95d21e",
       "IPY_MODEL_b8fc38b85b8f46348608eb0960a4673e"
      ],
      "layout": "IPY_MODEL_c8a69c9db64544299e454c98cfbfb57a"
     }
    },
    "429e2e00cea042d3aa1c7e0b8e8e6ccf": {
     "model_module": "@jupyter-widgets/controls",
     "model_module_version": "1.5.0",
     "model_name": "HTMLModel",
     "state": {
      "_dom_classes": [],
      "_model_module": "@jupyter-widgets/controls",
      "_model_module_version": "1.5.0",
      "_model_name": "HTMLModel",
      "_view_count": null,
      "_view_module": "@jupyter-widgets/controls",
      "_view_module_version": "1.5.0",
      "_view_name": "HTMLView",
      "description": "",
      "description_tooltip": null,
      "layout": "IPY_MODEL_53cf99ba347a43eea740cd7bd343c52d",
      "placeholder": "​",
      "style": "IPY_MODEL_d9fb577cdb464eb6a1b0fa1ef3e08c94",
      "value": "tokenizer_config.json: 100%"
     }
    },
    "45ade662a5934bbc9e2caf5fc83603a0": {
     "model_module": "@jupyter-widgets/controls",
     "model_module_version": "1.5.0",
     "model_name": "ProgressStyleModel",
     "state": {
      "_model_module": "@jupyter-widgets/controls",
      "_model_module_version": "1.5.0",
      "_model_name": "ProgressStyleModel",
      "_view_count": null,
      "_view_module": "@jupyter-widgets/base",
      "_view_module_version": "1.2.0",
      "_view_name": "StyleView",
      "bar_color": null,
      "description_width": ""
     }
    },
    "465286516dca4c4f8f328bce1b629538": {
     "model_module": "@jupyter-widgets/base",
     "model_module_version": "1.2.0",
     "model_name": "LayoutModel",
     "state": {
      "_model_module": "@jupyter-widgets/base",
      "_model_module_version": "1.2.0",
      "_model_name": "LayoutModel",
      "_view_count": null,
      "_view_module": "@jupyter-widgets/base",
      "_view_module_version": "1.2.0",
      "_view_name": "LayoutView",
      "align_content": null,
      "align_items": null,
      "align_self": null,
      "border": null,
      "bottom": null,
      "display": null,
      "flex": null,
      "flex_flow": null,
      "grid_area": null,
      "grid_auto_columns": null,
      "grid_auto_flow": null,
      "grid_auto_rows": null,
      "grid_column": null,
      "grid_gap": null,
      "grid_row": null,
      "grid_template_areas": null,
      "grid_template_columns": null,
      "grid_template_rows": null,
      "height": null,
      "justify_content": null,
      "justify_items": null,
      "left": null,
      "margin": null,
      "max_height": null,
      "max_width": null,
      "min_height": null,
      "min_width": null,
      "object_fit": null,
      "object_position": null,
      "order": null,
      "overflow": null,
      "overflow_x": null,
      "overflow_y": null,
      "padding": null,
      "right": null,
      "top": null,
      "visibility": null,
      "width": null
     }
    },
    "46b8336109cb4f59aae6d37346eed1cc": {
     "model_module": "@jupyter-widgets/controls",
     "model_module_version": "1.5.0",
     "model_name": "ProgressStyleModel",
     "state": {
      "_model_module": "@jupyter-widgets/controls",
      "_model_module_version": "1.5.0",
      "_model_name": "ProgressStyleModel",
      "_view_count": null,
      "_view_module": "@jupyter-widgets/base",
      "_view_module_version": "1.2.0",
      "_view_name": "StyleView",
      "bar_color": null,
      "description_width": ""
     }
    },
    "4ec3a4c8182f472c87cf15af444d3b86": {
     "model_module": "@jupyter-widgets/controls",
     "model_module_version": "1.5.0",
     "model_name": "FloatProgressModel",
     "state": {
      "_dom_classes": [],
      "_model_module": "@jupyter-widgets/controls",
      "_model_module_version": "1.5.0",
      "_model_name": "FloatProgressModel",
      "_view_count": null,
      "_view_module": "@jupyter-widgets/controls",
      "_view_module_version": "1.5.0",
      "_view_name": "ProgressView",
      "bar_style": "success",
      "description": "",
      "description_tooltip": null,
      "layout": "IPY_MODEL_09b006d7f4c44ca98df4ff91b28383c3",
      "max": 285,
      "min": 0,
      "orientation": "horizontal",
      "style": "IPY_MODEL_82fc588fe10145faa7135f9c1ae1f551",
      "value": 285
     }
    },
    "53cf99ba347a43eea740cd7bd343c52d": {
     "model_module": "@jupyter-widgets/base",
     "model_module_version": "1.2.0",
     "model_name": "LayoutModel",
     "state": {
      "_model_module": "@jupyter-widgets/base",
      "_model_module_version": "1.2.0",
      "_model_name": "LayoutModel",
      "_view_count": null,
      "_view_module": "@jupyter-widgets/base",
      "_view_module_version": "1.2.0",
      "_view_name": "LayoutView",
      "align_content": null,
      "align_items": null,
      "align_self": null,
      "border": null,
      "bottom": null,
      "display": null,
      "flex": null,
      "flex_flow": null,
      "grid_area": null,
      "grid_auto_columns": null,
      "grid_auto_flow": null,
      "grid_auto_rows": null,
      "grid_column": null,
      "grid_gap": null,
      "grid_row": null,
      "grid_template_areas": null,
      "grid_template_columns": null,
      "grid_template_rows": null,
      "height": null,
      "justify_content": null,
      "justify_items": null,
      "left": null,
      "margin": null,
      "max_height": null,
      "max_width": null,
      "min_height": null,
      "min_width": null,
      "object_fit": null,
      "object_position": null,
      "order": null,
      "overflow": null,
      "overflow_x": null,
      "overflow_y": null,
      "padding": null,
      "right": null,
      "top": null,
      "visibility": null,
      "width": null
     }
    },
    "5b7f5acaec1a43f586a717f1b0977a06": {
     "model_module": "@jupyter-widgets/controls",
     "model_module_version": "1.5.0",
     "model_name": "HBoxModel",
     "state": {
      "_dom_classes": [],
      "_model_module": "@jupyter-widgets/controls",
      "_model_module_version": "1.5.0",
      "_model_name": "HBoxModel",
      "_view_count": null,
      "_view_module": "@jupyter-widgets/controls",
      "_view_module_version": "1.5.0",
      "_view_name": "HBoxView",
      "box_style": "",
      "children": [
       "IPY_MODEL_a3babe48448141d6bf5dcb39506cc653",
       "IPY_MODEL_7fcfda6989fc41239248809baf562d47",
       "IPY_MODEL_ed75897bd24a4cdb8b488d60909cc861"
      ],
      "layout": "IPY_MODEL_6408362ccdab4630bb208abdfcf5b356"
     }
    },
    "5c55aa18ca2743f4a9a17bc0ca8dd94f": {
     "model_module": "@jupyter-widgets/controls",
     "model_module_version": "1.5.0",
     "model_name": "FloatProgressModel",
     "state": {
      "_dom_classes": [],
      "_model_module": "@jupyter-widgets/controls",
      "_model_module_version": "1.5.0",
      "_model_name": "FloatProgressModel",
      "_view_count": null,
      "_view_module": "@jupyter-widgets/controls",
      "_view_module_version": "1.5.0",
      "_view_name": "ProgressView",
      "bar_style": "success",
      "description": "",
      "description_tooltip": null,
      "layout": "IPY_MODEL_1c335e014f2544cd924263a461364307",
      "max": 540069101,
      "min": 0,
      "orientation": "horizontal",
      "style": "IPY_MODEL_d94ed453d14b41618592ff5cd5e9678d",
      "value": 540069101
     }
    },
    "6408362ccdab4630bb208abdfcf5b356": {
     "model_module": "@jupyter-widgets/base",
     "model_module_version": "1.2.0",
     "model_name": "LayoutModel",
     "state": {
      "_model_module": "@jupyter-widgets/base",
      "_model_module_version": "1.2.0",
      "_model_name": "LayoutModel",
      "_view_count": null,
      "_view_module": "@jupyter-widgets/base",
      "_view_module_version": "1.2.0",
      "_view_name": "LayoutView",
      "align_content": null,
      "align_items": null,
      "align_self": null,
      "border": null,
      "bottom": null,
      "display": null,
      "flex": null,
      "flex_flow": null,
      "grid_area": null,
      "grid_auto_columns": null,
      "grid_auto_flow": null,
      "grid_auto_rows": null,
      "grid_column": null,
      "grid_gap": null,
      "grid_row": null,
      "grid_template_areas": null,
      "grid_template_columns": null,
      "grid_template_rows": null,
      "height": null,
      "justify_content": null,
      "justify_items": null,
      "left": null,
      "margin": null,
      "max_height": null,
      "max_width": null,
      "min_height": null,
      "min_width": null,
      "object_fit": null,
      "object_position": null,
      "order": null,
      "overflow": null,
      "overflow_x": null,
      "overflow_y": null,
      "padding": null,
      "right": null,
      "top": null,
      "visibility": null,
      "width": null
     }
    },
    "65d63ba5d7d740ec8d6eb88d08d2ca14": {
     "model_module": "@jupyter-widgets/base",
     "model_module_version": "1.2.0",
     "model_name": "LayoutModel",
     "state": {
      "_model_module": "@jupyter-widgets/base",
      "_model_module_version": "1.2.0",
      "_model_name": "LayoutModel",
      "_view_count": null,
      "_view_module": "@jupyter-widgets/base",
      "_view_module_version": "1.2.0",
      "_view_name": "LayoutView",
      "align_content": null,
      "align_items": null,
      "align_self": null,
      "border": null,
      "bottom": null,
      "display": null,
      "flex": null,
      "flex_flow": null,
      "grid_area": null,
      "grid_auto_columns": null,
      "grid_auto_flow": null,
      "grid_auto_rows": null,
      "grid_column": null,
      "grid_gap": null,
      "grid_row": null,
      "grid_template_areas": null,
      "grid_template_columns": null,
      "grid_template_rows": null,
      "height": null,
      "justify_content": null,
      "justify_items": null,
      "left": null,
      "margin": null,
      "max_height": null,
      "max_width": null,
      "min_height": null,
      "min_width": null,
      "object_fit": null,
      "object_position": null,
      "order": null,
      "overflow": null,
      "overflow_x": null,
      "overflow_y": null,
      "padding": null,
      "right": null,
      "top": null,
      "visibility": null,
      "width": null
     }
    },
    "6be20b576d9149f7a44d6b4494577eac": {
     "model_module": "@jupyter-widgets/controls",
     "model_module_version": "1.5.0",
     "model_name": "HTMLModel",
     "state": {
      "_dom_classes": [],
      "_model_module": "@jupyter-widgets/controls",
      "_model_module_version": "1.5.0",
      "_model_name": "HTMLModel",
      "_view_count": null,
      "_view_module": "@jupyter-widgets/controls",
      "_view_module_version": "1.5.0",
      "_view_name": "HTMLView",
      "description": "",
      "description_tooltip": null,
      "layout": "IPY_MODEL_465286516dca4c4f8f328bce1b629538",
      "placeholder": "​",
      "style": "IPY_MODEL_987ef083257249cab888ae27d24e74d0",
      "value": "vocab.txt: 100%"
     }
    },
    "701a71a706584c1d9854afd1e2a3fef7": {
     "model_module": "@jupyter-widgets/base",
     "model_module_version": "1.2.0",
     "model_name": "LayoutModel",
     "state": {
      "_model_module": "@jupyter-widgets/base",
      "_model_module_version": "1.2.0",
      "_model_name": "LayoutModel",
      "_view_count": null,
      "_view_module": "@jupyter-widgets/base",
      "_view_module_version": "1.2.0",
      "_view_name": "LayoutView",
      "align_content": null,
      "align_items": null,
      "align_self": null,
      "border": null,
      "bottom": null,
      "display": null,
      "flex": null,
      "flex_flow": null,
      "grid_area": null,
      "grid_auto_columns": null,
      "grid_auto_flow": null,
      "grid_auto_rows": null,
      "grid_column": null,
      "grid_gap": null,
      "grid_row": null,
      "grid_template_areas": null,
      "grid_template_columns": null,
      "grid_template_rows": null,
      "height": null,
      "justify_content": null,
      "justify_items": null,
      "left": null,
      "margin": null,
      "max_height": null,
      "max_width": null,
      "min_height": null,
      "min_width": null,
      "object_fit": null,
      "object_position": null,
      "order": null,
      "overflow": null,
      "overflow_x": null,
      "overflow_y": null,
      "padding": null,
      "right": null,
      "top": null,
      "visibility": null,
      "width": null
     }
    },
    "73d263dac1b643ceabb66ff2cacc50ae": {
     "model_module": "@jupyter-widgets/controls",
     "model_module_version": "1.5.0",
     "model_name": "FloatProgressModel",
     "state": {
      "_dom_classes": [],
      "_model_module": "@jupyter-widgets/controls",
      "_model_module_version": "1.5.0",
      "_model_name": "FloatProgressModel",
      "_view_count": null,
      "_view_module": "@jupyter-widgets/controls",
      "_view_module_version": "1.5.0",
      "_view_name": "ProgressView",
      "bar_style": "success",
      "description": "",
      "description_tooltip": null,
      "layout": "IPY_MODEL_ae457da466a6487f866c90b5e2d805a7",
      "max": 17,
      "min": 0,
      "orientation": "horizontal",
      "style": "IPY_MODEL_91e998b777c64583ae7fdc147b0c5723",
      "value": 17
     }
    },
    "781eb91d3af54d87876b25ff113e9f01": {
     "model_module": "@jupyter-widgets/controls",
     "model_module_version": "1.5.0",
     "model_name": "DescriptionStyleModel",
     "state": {
      "_model_module": "@jupyter-widgets/controls",
      "_model_module_version": "1.5.0",
      "_model_name": "DescriptionStyleModel",
      "_view_count": null,
      "_view_module": "@jupyter-widgets/base",
      "_view_module_version": "1.2.0",
      "_view_name": "StyleView",
      "description_width": ""
     }
    },
    "7c76016e748144f4bf490490262cf880": {
     "model_module": "@jupyter-widgets/controls",
     "model_module_version": "1.5.0",
     "model_name": "HTMLModel",
     "state": {
      "_dom_classes": [],
      "_model_module": "@jupyter-widgets/controls",
      "_model_module_version": "1.5.0",
      "_model_name": "HTMLModel",
      "_view_count": null,
      "_view_module": "@jupyter-widgets/controls",
      "_view_module_version": "1.5.0",
      "_view_name": "HTMLView",
      "description": "",
      "description_tooltip": null,
      "layout": "IPY_MODEL_1b70f41987734941aa08caa57436d00b",
      "placeholder": "​",
      "style": "IPY_MODEL_13d6b080f8fd438681370fdfc944e076",
      "value": "pytorch_model.bin: 100%"
     }
    },
    "7d4813a152834d3aae0aacfa902bb4b1": {
     "model_module": "@jupyter-widgets/controls",
     "model_module_version": "1.5.0",
     "model_name": "FloatProgressModel",
     "state": {
      "_dom_classes": [],
      "_model_module": "@jupyter-widgets/controls",
      "_model_module_version": "1.5.0",
      "_model_name": "FloatProgressModel",
      "_view_count": null,
      "_view_module": "@jupyter-widgets/controls",
      "_view_module_version": "1.5.0",
      "_view_name": "ProgressView",
      "bar_style": "success",
      "description": "",
      "description_tooltip": null,
      "layout": "IPY_MODEL_1ee45b735e5948de8ce78de25cce3f26",
      "max": 895321,
      "min": 0,
      "orientation": "horizontal",
      "style": "IPY_MODEL_46b8336109cb4f59aae6d37346eed1cc",
      "value": 895321
     }
    },
    "7fcfda6989fc41239248809baf562d47": {
     "model_module": "@jupyter-widgets/controls",
     "model_module_version": "1.5.0",
     "model_name": "FloatProgressModel",
     "state": {
      "_dom_classes": [],
      "_model_module": "@jupyter-widgets/controls",
      "_model_module_version": "1.5.0",
      "_model_name": "FloatProgressModel",
      "_view_count": null,
      "_view_module": "@jupyter-widgets/controls",
      "_view_module_version": "1.5.0",
      "_view_name": "ProgressView",
      "bar_style": "success",
      "description": "",
      "description_tooltip": null,
      "layout": "IPY_MODEL_2356db76eb5a461dadb508b764e7dc93",
      "max": 1135173,
      "min": 0,
      "orientation": "horizontal",
      "style": "IPY_MODEL_80b410d57de84cddb1a7f22bb5581d97",
      "value": 1135173
     }
    },
    "80b410d57de84cddb1a7f22bb5581d97": {
     "model_module": "@jupyter-widgets/controls",
     "model_module_version": "1.5.0",
     "model_name": "ProgressStyleModel",
     "state": {
      "_model_module": "@jupyter-widgets/controls",
      "_model_module_version": "1.5.0",
      "_model_name": "ProgressStyleModel",
      "_view_count": null,
      "_view_module": "@jupyter-widgets/base",
      "_view_module_version": "1.2.0",
      "_view_name": "StyleView",
      "bar_color": null,
      "description_width": ""
     }
    },
    "81bef49b0af5447fb3fa871bec9dad42": {
     "model_module": "@jupyter-widgets/base",
     "model_module_version": "1.2.0",
     "model_name": "LayoutModel",
     "state": {
      "_model_module": "@jupyter-widgets/base",
      "_model_module_version": "1.2.0",
      "_model_name": "LayoutModel",
      "_view_count": null,
      "_view_module": "@jupyter-widgets/base",
      "_view_module_version": "1.2.0",
      "_view_name": "LayoutView",
      "align_content": null,
      "align_items": null,
      "align_self": null,
      "border": null,
      "bottom": null,
      "display": null,
      "flex": null,
      "flex_flow": null,
      "grid_area": null,
      "grid_auto_columns": null,
      "grid_auto_flow": null,
      "grid_auto_rows": null,
      "grid_column": null,
      "grid_gap": null,
      "grid_row": null,
      "grid_template_areas": null,
      "grid_template_columns": null,
      "grid_template_rows": null,
      "height": null,
      "justify_content": null,
      "justify_items": null,
      "left": null,
      "margin": null,
      "max_height": null,
      "max_width": null,
      "min_height": null,
      "min_width": null,
      "object_fit": null,
      "object_position": null,
      "order": null,
      "overflow": null,
      "overflow_x": null,
      "overflow_y": null,
      "padding": null,
      "right": null,
      "top": null,
      "visibility": null,
      "width": null
     }
    },
    "8266941177444519b360f6e7c11411ce": {
     "model_module": "@jupyter-widgets/controls",
     "model_module_version": "1.5.0",
     "model_name": "DescriptionStyleModel",
     "state": {
      "_model_module": "@jupyter-widgets/controls",
      "_model_module_version": "1.5.0",
      "_model_name": "DescriptionStyleModel",
      "_view_count": null,
      "_view_module": "@jupyter-widgets/base",
      "_view_module_version": "1.2.0",
      "_view_name": "StyleView",
      "description_width": ""
     }
    },
    "82fc588fe10145faa7135f9c1ae1f551": {
     "model_module": "@jupyter-widgets/controls",
     "model_module_version": "1.5.0",
     "model_name": "ProgressStyleModel",
     "state": {
      "_model_module": "@jupyter-widgets/controls",
      "_model_module_version": "1.5.0",
      "_model_name": "ProgressStyleModel",
      "_view_count": null,
      "_view_module": "@jupyter-widgets/base",
      "_view_module_version": "1.2.0",
      "_view_name": "StyleView",
      "bar_color": null,
      "description_width": ""
     }
    },
    "86202686bc934263af93f9dab51f47f6": {
     "model_module": "@jupyter-widgets/controls",
     "model_module_version": "1.5.0",
     "model_name": "HBoxModel",
     "state": {
      "_dom_classes": [],
      "_model_module": "@jupyter-widgets/controls",
      "_model_module_version": "1.5.0",
      "_model_name": "HBoxModel",
      "_view_count": null,
      "_view_module": "@jupyter-widgets/controls",
      "_view_module_version": "1.5.0",
      "_view_name": "HBoxView",
      "box_style": "",
      "children": [
       "IPY_MODEL_01b1e151c27d4fe79121311353bedca8",
       "IPY_MODEL_ab974a89c0a64edd9044152e13fcec87",
       "IPY_MODEL_f88185df5cd64693ae375d5a6e3318e2"
      ],
      "layout": "IPY_MODEL_dfc49e012caa4267929fc199b71b52f4"
     }
    },
    "8aae20c361794c0e9b61c5b49c7f886c": {
     "model_module": "@jupyter-widgets/controls",
     "model_module_version": "1.5.0",
     "model_name": "DescriptionStyleModel",
     "state": {
      "_model_module": "@jupyter-widgets/controls",
      "_model_module_version": "1.5.0",
      "_model_name": "DescriptionStyleModel",
      "_view_count": null,
      "_view_module": "@jupyter-widgets/base",
      "_view_module_version": "1.2.0",
      "_view_name": "StyleView",
      "description_width": ""
     }
    },
    "8e287016e85c4ca29eb35f2374c921ea": {
     "model_module": "@jupyter-widgets/base",
     "model_module_version": "1.2.0",
     "model_name": "LayoutModel",
     "state": {
      "_model_module": "@jupyter-widgets/base",
      "_model_module_version": "1.2.0",
      "_model_name": "LayoutModel",
      "_view_count": null,
      "_view_module": "@jupyter-widgets/base",
      "_view_module_version": "1.2.0",
      "_view_name": "LayoutView",
      "align_content": null,
      "align_items": null,
      "align_self": null,
      "border": null,
      "bottom": null,
      "display": null,
      "flex": null,
      "flex_flow": null,
      "grid_area": null,
      "grid_auto_columns": null,
      "grid_auto_flow": null,
      "grid_auto_rows": null,
      "grid_column": null,
      "grid_gap": null,
      "grid_row": null,
      "grid_template_areas": null,
      "grid_template_columns": null,
      "grid_template_rows": null,
      "height": null,
      "justify_content": null,
      "justify_items": null,
      "left": null,
      "margin": null,
      "max_height": null,
      "max_width": null,
      "min_height": null,
      "min_width": null,
      "object_fit": null,
      "object_position": null,
      "order": null,
      "overflow": null,
      "overflow_x": null,
      "overflow_y": null,
      "padding": null,
      "right": null,
      "top": null,
      "visibility": null,
      "width": null
     }
    },
    "9166c544ea244734a9581e101cc130c0": {
     "model_module": "@jupyter-widgets/base",
     "model_module_version": "1.2.0",
     "model_name": "LayoutModel",
     "state": {
      "_model_module": "@jupyter-widgets/base",
      "_model_module_version": "1.2.0",
      "_model_name": "LayoutModel",
      "_view_count": null,
      "_view_module": "@jupyter-widgets/base",
      "_view_module_version": "1.2.0",
      "_view_name": "LayoutView",
      "align_content": null,
      "align_items": null,
      "align_self": null,
      "border": null,
      "bottom": null,
      "display": null,
      "flex": null,
      "flex_flow": null,
      "grid_area": null,
      "grid_auto_columns": null,
      "grid_auto_flow": null,
      "grid_auto_rows": null,
      "grid_column": null,
      "grid_gap": null,
      "grid_row": null,
      "grid_template_areas": null,
      "grid_template_columns": null,
      "grid_template_rows": null,
      "height": null,
      "justify_content": null,
      "justify_items": null,
      "left": null,
      "margin": null,
      "max_height": null,
      "max_width": null,
      "min_height": null,
      "min_width": null,
      "object_fit": null,
      "object_position": null,
      "order": null,
      "overflow": null,
      "overflow_x": null,
      "overflow_y": null,
      "padding": null,
      "right": null,
      "top": null,
      "visibility": null,
      "width": null
     }
    },
    "91e998b777c64583ae7fdc147b0c5723": {
     "model_module": "@jupyter-widgets/controls",
     "model_module_version": "1.5.0",
     "model_name": "ProgressStyleModel",
     "state": {
      "_model_module": "@jupyter-widgets/controls",
      "_model_module_version": "1.5.0",
      "_model_name": "ProgressStyleModel",
      "_view_count": null,
      "_view_module": "@jupyter-widgets/base",
      "_view_module_version": "1.2.0",
      "_view_name": "StyleView",
      "bar_color": null,
      "description_width": ""
     }
    },
    "97253d044fb04a3e9e5c6f884e873311": {
     "model_module": "@jupyter-widgets/controls",
     "model_module_version": "1.5.0",
     "model_name": "DescriptionStyleModel",
     "state": {
      "_model_module": "@jupyter-widgets/controls",
      "_model_module_version": "1.5.0",
      "_model_name": "DescriptionStyleModel",
      "_view_count": null,
      "_view_module": "@jupyter-widgets/base",
      "_view_module_version": "1.2.0",
      "_view_name": "StyleView",
      "description_width": ""
     }
    },
    "97dfd034ec2243c89b9b58b685db12dc": {
     "model_module": "@jupyter-widgets/base",
     "model_module_version": "1.2.0",
     "model_name": "LayoutModel",
     "state": {
      "_model_module": "@jupyter-widgets/base",
      "_model_module_version": "1.2.0",
      "_model_name": "LayoutModel",
      "_view_count": null,
      "_view_module": "@jupyter-widgets/base",
      "_view_module_version": "1.2.0",
      "_view_name": "LayoutView",
      "align_content": null,
      "align_items": null,
      "align_self": null,
      "border": null,
      "bottom": null,
      "display": null,
      "flex": null,
      "flex_flow": null,
      "grid_area": null,
      "grid_auto_columns": null,
      "grid_auto_flow": null,
      "grid_auto_rows": null,
      "grid_column": null,
      "grid_gap": null,
      "grid_row": null,
      "grid_template_areas": null,
      "grid_template_columns": null,
      "grid_template_rows": null,
      "height": null,
      "justify_content": null,
      "justify_items": null,
      "left": null,
      "margin": null,
      "max_height": null,
      "max_width": null,
      "min_height": null,
      "min_width": null,
      "object_fit": null,
      "object_position": null,
      "order": null,
      "overflow": null,
      "overflow_x": null,
      "overflow_y": null,
      "padding": null,
      "right": null,
      "top": null,
      "visibility": null,
      "width": null
     }
    },
    "983536bca2a64b9eb5f31f050e95d21e": {
     "model_module": "@jupyter-widgets/controls",
     "model_module_version": "1.5.0",
     "model_name": "FloatProgressModel",
     "state": {
      "_dom_classes": [],
      "_model_module": "@jupyter-widgets/controls",
      "_model_module_version": "1.5.0",
      "_model_name": "FloatProgressModel",
      "_view_count": null,
      "_view_module": "@jupyter-widgets/controls",
      "_view_module_version": "1.5.0",
      "_view_name": "ProgressView",
      "bar_style": "success",
      "description": "",
      "description_tooltip": null,
      "layout": "IPY_MODEL_eb6917da972f4f21b296f3876b143275",
      "max": 999,
      "min": 0,
      "orientation": "horizontal",
      "style": "IPY_MODEL_18e88f331a97427da26cdd3f680faa89",
      "value": 999
     }
    },
    "987ef083257249cab888ae27d24e74d0": {
     "model_module": "@jupyter-widgets/controls",
     "model_module_version": "1.5.0",
     "model_name": "DescriptionStyleModel",
     "state": {
      "_model_module": "@jupyter-widgets/controls",
      "_model_module_version": "1.5.0",
      "_model_name": "DescriptionStyleModel",
      "_view_count": null,
      "_view_module": "@jupyter-widgets/base",
      "_view_module_version": "1.2.0",
      "_view_name": "StyleView",
      "description_width": ""
     }
    },
    "99297fb5e5e54c998fc54077a2926ca5": {
     "model_module": "@jupyter-widgets/controls",
     "model_module_version": "1.5.0",
     "model_name": "HTMLModel",
     "state": {
      "_dom_classes": [],
      "_model_module": "@jupyter-widgets/controls",
      "_model_module_version": "1.5.0",
      "_model_name": "HTMLModel",
      "_view_count": null,
      "_view_module": "@jupyter-widgets/controls",
      "_view_module_version": "1.5.0",
      "_view_name": "HTMLView",
      "description": "",
      "description_tooltip": null,
      "layout": "IPY_MODEL_ca3b05c44cd04534b59d459da7dc86d1",
      "placeholder": "​",
      "style": "IPY_MODEL_8aae20c361794c0e9b61c5b49c7f886c",
      "value": " 895k/895k [00:00&lt;00:00, 14.1MB/s]"
     }
    },
    "9a8e05f6427540e295341b9be93cb31a": {
     "model_module": "@jupyter-widgets/base",
     "model_module_version": "1.2.0",
     "model_name": "LayoutModel",
     "state": {
      "_model_module": "@jupyter-widgets/base",
      "_model_module_version": "1.2.0",
      "_model_name": "LayoutModel",
      "_view_count": null,
      "_view_module": "@jupyter-widgets/base",
      "_view_module_version": "1.2.0",
      "_view_name": "LayoutView",
      "align_content": null,
      "align_items": null,
      "align_self": null,
      "border": null,
      "bottom": null,
      "display": null,
      "flex": null,
      "flex_flow": null,
      "grid_area": null,
      "grid_auto_columns": null,
      "grid_auto_flow": null,
      "grid_auto_rows": null,
      "grid_column": null,
      "grid_gap": null,
      "grid_row": null,
      "grid_template_areas": null,
      "grid_template_columns": null,
      "grid_template_rows": null,
      "height": null,
      "justify_content": null,
      "justify_items": null,
      "left": null,
      "margin": null,
      "max_height": null,
      "max_width": null,
      "min_height": null,
      "min_width": null,
      "object_fit": null,
      "object_position": null,
      "order": null,
      "overflow": null,
      "overflow_x": null,
      "overflow_y": null,
      "padding": null,
      "right": null,
      "top": null,
      "visibility": null,
      "width": null
     }
    },
    "a0c8c47baeab46a28990ebbdbd04e261": {
     "model_module": "@jupyter-widgets/controls",
     "model_module_version": "1.5.0",
     "model_name": "DescriptionStyleModel",
     "state": {
      "_model_module": "@jupyter-widgets/controls",
      "_model_module_version": "1.5.0",
      "_model_name": "DescriptionStyleModel",
      "_view_count": null,
      "_view_module": "@jupyter-widgets/base",
      "_view_module_version": "1.2.0",
      "_view_name": "StyleView",
      "description_width": ""
     }
    },
    "a3babe48448141d6bf5dcb39506cc653": {
     "model_module": "@jupyter-widgets/controls",
     "model_module_version": "1.5.0",
     "model_name": "HTMLModel",
     "state": {
      "_dom_classes": [],
      "_model_module": "@jupyter-widgets/controls",
      "_model_module_version": "1.5.0",
      "_model_name": "HTMLModel",
      "_view_count": null,
      "_view_module": "@jupyter-widgets/controls",
      "_view_module_version": "1.5.0",
      "_view_name": "HTMLView",
      "description": "",
      "description_tooltip": null,
      "layout": "IPY_MODEL_f36373a43f684e1fbdc2daa9aac2a6da",
      "placeholder": "​",
      "style": "IPY_MODEL_a66636cca5e44094bd547e368a3372d2",
      "value": "bpe.codes: 100%"
     }
    },
    "a66636cca5e44094bd547e368a3372d2": {
     "model_module": "@jupyter-widgets/controls",
     "model_module_version": "1.5.0",
     "model_name": "DescriptionStyleModel",
     "state": {
      "_model_module": "@jupyter-widgets/controls",
      "_model_module_version": "1.5.0",
      "_model_name": "DescriptionStyleModel",
      "_view_count": null,
      "_view_module": "@jupyter-widgets/base",
      "_view_module_version": "1.2.0",
      "_view_name": "StyleView",
      "description_width": ""
     }
    },
    "ab8d7550db9444038c29adebf7310976": {
     "model_module": "@jupyter-widgets/controls",
     "model_module_version": "1.5.0",
     "model_name": "HBoxModel",
     "state": {
      "_dom_classes": [],
      "_model_module": "@jupyter-widgets/controls",
      "_model_module_version": "1.5.0",
      "_model_name": "HBoxModel",
      "_view_count": null,
      "_view_module": "@jupyter-widgets/controls",
      "_view_module_version": "1.5.0",
      "_view_name": "HBoxView",
      "box_style": "",
      "children": [
       "IPY_MODEL_429e2e00cea042d3aa1c7e0b8e8e6ccf",
       "IPY_MODEL_4ec3a4c8182f472c87cf15af444d3b86",
       "IPY_MODEL_b123b458558a4a68b82117efa46092ec"
      ],
      "layout": "IPY_MODEL_e9fd8a96060a4fe0be3548caa56d4879"
     }
    },
    "ab974a89c0a64edd9044152e13fcec87": {
     "model_module": "@jupyter-widgets/controls",
     "model_module_version": "1.5.0",
     "model_name": "FloatProgressModel",
     "state": {
      "_dom_classes": [],
      "_model_module": "@jupyter-widgets/controls",
      "_model_module_version": "1.5.0",
      "_model_name": "FloatProgressModel",
      "_view_count": null,
      "_view_module": "@jupyter-widgets/controls",
      "_view_module_version": "1.5.0",
      "_view_name": "ProgressView",
      "bar_style": "success",
      "description": "",
      "description_tooltip": null,
      "layout": "IPY_MODEL_2df44c2aad7c4fa7831e87fbf68c1d4a",
      "max": 150,
      "min": 0,
      "orientation": "horizontal",
      "style": "IPY_MODEL_45ade662a5934bbc9e2caf5fc83603a0",
      "value": 150
     }
    },
    "ae457da466a6487f866c90b5e2d805a7": {
     "model_module": "@jupyter-widgets/base",
     "model_module_version": "1.2.0",
     "model_name": "LayoutModel",
     "state": {
      "_model_module": "@jupyter-widgets/base",
      "_model_module_version": "1.2.0",
      "_model_name": "LayoutModel",
      "_view_count": null,
      "_view_module": "@jupyter-widgets/base",
      "_view_module_version": "1.2.0",
      "_view_name": "LayoutView",
      "align_content": null,
      "align_items": null,
      "align_self": null,
      "border": null,
      "bottom": null,
      "display": null,
      "flex": null,
      "flex_flow": null,
      "grid_area": null,
      "grid_auto_columns": null,
      "grid_auto_flow": null,
      "grid_auto_rows": null,
      "grid_column": null,
      "grid_gap": null,
      "grid_row": null,
      "grid_template_areas": null,
      "grid_template_columns": null,
      "grid_template_rows": null,
      "height": null,
      "justify_content": null,
      "justify_items": null,
      "left": null,
      "margin": null,
      "max_height": null,
      "max_width": null,
      "min_height": null,
      "min_width": null,
      "object_fit": null,
      "object_position": null,
      "order": null,
      "overflow": null,
      "overflow_x": null,
      "overflow_y": null,
      "padding": null,
      "right": null,
      "top": null,
      "visibility": null,
      "width": null
     }
    },
    "b123b458558a4a68b82117efa46092ec": {
     "model_module": "@jupyter-widgets/controls",
     "model_module_version": "1.5.0",
     "model_name": "HTMLModel",
     "state": {
      "_dom_classes": [],
      "_model_module": "@jupyter-widgets/controls",
      "_model_module_version": "1.5.0",
      "_model_name": "HTMLModel",
      "_view_count": null,
      "_view_module": "@jupyter-widgets/controls",
      "_view_module_version": "1.5.0",
      "_view_name": "HTMLView",
      "description": "",
      "description_tooltip": null,
      "layout": "IPY_MODEL_701a71a706584c1d9854afd1e2a3fef7",
      "placeholder": "​",
      "style": "IPY_MODEL_a0c8c47baeab46a28990ebbdbd04e261",
      "value": " 285/285 [00:00&lt;00:00, 5.96kB/s]"
     }
    },
    "b5b267abfa1f45ce923b5126f48cb704": {
     "model_module": "@jupyter-widgets/controls",
     "model_module_version": "1.5.0",
     "model_name": "HTMLModel",
     "state": {
      "_dom_classes": [],
      "_model_module": "@jupyter-widgets/controls",
      "_model_module_version": "1.5.0",
      "_model_name": "HTMLModel",
      "_view_count": null,
      "_view_module": "@jupyter-widgets/controls",
      "_view_module_version": "1.5.0",
      "_view_name": "HTMLView",
      "description": "",
      "description_tooltip": null,
      "layout": "IPY_MODEL_34dce1bdd46947f6b7db575184e6c1e6",
      "placeholder": "​",
      "style": "IPY_MODEL_c46a940454aa429488a32179be63068c",
      "value": "config.json: 100%"
     }
    },
    "b8fc38b85b8f46348608eb0960a4673e": {
     "model_module": "@jupyter-widgets/controls",
     "model_module_version": "1.5.0",
     "model_name": "HTMLModel",
     "state": {
      "_dom_classes": [],
      "_model_module": "@jupyter-widgets/controls",
      "_model_module_version": "1.5.0",
      "_model_name": "HTMLModel",
      "_view_count": null,
      "_view_module": "@jupyter-widgets/controls",
      "_view_module_version": "1.5.0",
      "_view_name": "HTMLView",
      "description": "",
      "description_tooltip": null,
      "layout": "IPY_MODEL_97dfd034ec2243c89b9b58b685db12dc",
      "placeholder": "​",
      "style": "IPY_MODEL_10afbd7433a6482eaef8913e3d072f8f",
      "value": " 999/999 [00:00&lt;00:00, 16.3kB/s]"
     }
    },
    "ba3acf3fc14a4bb5a60d26ecf3dfd466": {
     "model_module": "@jupyter-widgets/base",
     "model_module_version": "1.2.0",
     "model_name": "LayoutModel",
     "state": {
      "_model_module": "@jupyter-widgets/base",
      "_model_module_version": "1.2.0",
      "_model_name": "LayoutModel",
      "_view_count": null,
      "_view_module": "@jupyter-widgets/base",
      "_view_module_version": "1.2.0",
      "_view_name": "LayoutView",
      "align_content": null,
      "align_items": null,
      "align_self": null,
      "border": null,
      "bottom": null,
      "display": null,
      "flex": null,
      "flex_flow": null,
      "grid_area": null,
      "grid_auto_columns": null,
      "grid_auto_flow": null,
      "grid_auto_rows": null,
      "grid_column": null,
      "grid_gap": null,
      "grid_row": null,
      "grid_template_areas": null,
      "grid_template_columns": null,
      "grid_template_rows": null,
      "height": null,
      "justify_content": null,
      "justify_items": null,
      "left": null,
      "margin": null,
      "max_height": null,
      "max_width": null,
      "min_height": null,
      "min_width": null,
      "object_fit": null,
      "object_position": null,
      "order": null,
      "overflow": null,
      "overflow_x": null,
      "overflow_y": null,
      "padding": null,
      "right": null,
      "top": null,
      "visibility": null,
      "width": null
     }
    },
    "bd84846799164399a80d814305fd1d50": {
     "model_module": "@jupyter-widgets/controls",
     "model_module_version": "1.5.0",
     "model_name": "HTMLModel",
     "state": {
      "_dom_classes": [],
      "_model_module": "@jupyter-widgets/controls",
      "_model_module_version": "1.5.0",
      "_model_name": "HTMLModel",
      "_view_count": null,
      "_view_module": "@jupyter-widgets/controls",
      "_view_module_version": "1.5.0",
      "_view_name": "HTMLView",
      "description": "",
      "description_tooltip": null,
      "layout": "IPY_MODEL_ffb93829ed0a4485aa7ff475cb072b04",
      "placeholder": "​",
      "style": "IPY_MODEL_781eb91d3af54d87876b25ff113e9f01",
      "value": "added_tokens.json: 100%"
     }
    },
    "c46a940454aa429488a32179be63068c": {
     "model_module": "@jupyter-widgets/controls",
     "model_module_version": "1.5.0",
     "model_name": "DescriptionStyleModel",
     "state": {
      "_model_module": "@jupyter-widgets/controls",
      "_model_module_version": "1.5.0",
      "_model_name": "DescriptionStyleModel",
      "_view_count": null,
      "_view_module": "@jupyter-widgets/base",
      "_view_module_version": "1.2.0",
      "_view_name": "StyleView",
      "description_width": ""
     }
    },
    "c8a69c9db64544299e454c98cfbfb57a": {
     "model_module": "@jupyter-widgets/base",
     "model_module_version": "1.2.0",
     "model_name": "LayoutModel",
     "state": {
      "_model_module": "@jupyter-widgets/base",
      "_model_module_version": "1.2.0",
      "_model_name": "LayoutModel",
      "_view_count": null,
      "_view_module": "@jupyter-widgets/base",
      "_view_module_version": "1.2.0",
      "_view_name": "LayoutView",
      "align_content": null,
      "align_items": null,
      "align_self": null,
      "border": null,
      "bottom": null,
      "display": null,
      "flex": null,
      "flex_flow": null,
      "grid_area": null,
      "grid_auto_columns": null,
      "grid_auto_flow": null,
      "grid_auto_rows": null,
      "grid_column": null,
      "grid_gap": null,
      "grid_row": null,
      "grid_template_areas": null,
      "grid_template_columns": null,
      "grid_template_rows": null,
      "height": null,
      "justify_content": null,
      "justify_items": null,
      "left": null,
      "margin": null,
      "max_height": null,
      "max_width": null,
      "min_height": null,
      "min_width": null,
      "object_fit": null,
      "object_position": null,
      "order": null,
      "overflow": null,
      "overflow_x": null,
      "overflow_y": null,
      "padding": null,
      "right": null,
      "top": null,
      "visibility": null,
      "width": null
     }
    },
    "c8dd3672e55a443494bd7d4ee31189cd": {
     "model_module": "@jupyter-widgets/controls",
     "model_module_version": "1.5.0",
     "model_name": "HTMLModel",
     "state": {
      "_dom_classes": [],
      "_model_module": "@jupyter-widgets/controls",
      "_model_module_version": "1.5.0",
      "_model_name": "HTMLModel",
      "_view_count": null,
      "_view_module": "@jupyter-widgets/controls",
      "_view_module_version": "1.5.0",
      "_view_name": "HTMLView",
      "description": "",
      "description_tooltip": null,
      "layout": "IPY_MODEL_fb36cdcd4c6b4d8d8ab85726372409e4",
      "placeholder": "​",
      "style": "IPY_MODEL_1a8a2cb612e942a097616533a5d287d6",
      "value": " 17.0/17.0 [00:00&lt;00:00, 479B/s]"
     }
    },
    "ca3b05c44cd04534b59d459da7dc86d1": {
     "model_module": "@jupyter-widgets/base",
     "model_module_version": "1.2.0",
     "model_name": "LayoutModel",
     "state": {
      "_model_module": "@jupyter-widgets/base",
      "_model_module_version": "1.2.0",
      "_model_name": "LayoutModel",
      "_view_count": null,
      "_view_module": "@jupyter-widgets/base",
      "_view_module_version": "1.2.0",
      "_view_name": "LayoutView",
      "align_content": null,
      "align_items": null,
      "align_self": null,
      "border": null,
      "bottom": null,
      "display": null,
      "flex": null,
      "flex_flow": null,
      "grid_area": null,
      "grid_auto_columns": null,
      "grid_auto_flow": null,
      "grid_auto_rows": null,
      "grid_column": null,
      "grid_gap": null,
      "grid_row": null,
      "grid_template_areas": null,
      "grid_template_columns": null,
      "grid_template_rows": null,
      "height": null,
      "justify_content": null,
      "justify_items": null,
      "left": null,
      "margin": null,
      "max_height": null,
      "max_width": null,
      "min_height": null,
      "min_width": null,
      "object_fit": null,
      "object_position": null,
      "order": null,
      "overflow": null,
      "overflow_x": null,
      "overflow_y": null,
      "padding": null,
      "right": null,
      "top": null,
      "visibility": null,
      "width": null
     }
    },
    "d94ed453d14b41618592ff5cd5e9678d": {
     "model_module": "@jupyter-widgets/controls",
     "model_module_version": "1.5.0",
     "model_name": "ProgressStyleModel",
     "state": {
      "_model_module": "@jupyter-widgets/controls",
      "_model_module_version": "1.5.0",
      "_model_name": "ProgressStyleModel",
      "_view_count": null,
      "_view_module": "@jupyter-widgets/base",
      "_view_module_version": "1.2.0",
      "_view_name": "StyleView",
      "bar_color": null,
      "description_width": ""
     }
    },
    "d9fb577cdb464eb6a1b0fa1ef3e08c94": {
     "model_module": "@jupyter-widgets/controls",
     "model_module_version": "1.5.0",
     "model_name": "DescriptionStyleModel",
     "state": {
      "_model_module": "@jupyter-widgets/controls",
      "_model_module_version": "1.5.0",
      "_model_name": "DescriptionStyleModel",
      "_view_count": null,
      "_view_module": "@jupyter-widgets/base",
      "_view_module_version": "1.2.0",
      "_view_name": "StyleView",
      "description_width": ""
     }
    },
    "dfc49e012caa4267929fc199b71b52f4": {
     "model_module": "@jupyter-widgets/base",
     "model_module_version": "1.2.0",
     "model_name": "LayoutModel",
     "state": {
      "_model_module": "@jupyter-widgets/base",
      "_model_module_version": "1.2.0",
      "_model_name": "LayoutModel",
      "_view_count": null,
      "_view_module": "@jupyter-widgets/base",
      "_view_module_version": "1.2.0",
      "_view_name": "LayoutView",
      "align_content": null,
      "align_items": null,
      "align_self": null,
      "border": null,
      "bottom": null,
      "display": null,
      "flex": null,
      "flex_flow": null,
      "grid_area": null,
      "grid_auto_columns": null,
      "grid_auto_flow": null,
      "grid_auto_rows": null,
      "grid_column": null,
      "grid_gap": null,
      "grid_row": null,
      "grid_template_areas": null,
      "grid_template_columns": null,
      "grid_template_rows": null,
      "height": null,
      "justify_content": null,
      "justify_items": null,
      "left": null,
      "margin": null,
      "max_height": null,
      "max_width": null,
      "min_height": null,
      "min_width": null,
      "object_fit": null,
      "object_position": null,
      "order": null,
      "overflow": null,
      "overflow_x": null,
      "overflow_y": null,
      "padding": null,
      "right": null,
      "top": null,
      "visibility": null,
      "width": null
     }
    },
    "e9fd8a96060a4fe0be3548caa56d4879": {
     "model_module": "@jupyter-widgets/base",
     "model_module_version": "1.2.0",
     "model_name": "LayoutModel",
     "state": {
      "_model_module": "@jupyter-widgets/base",
      "_model_module_version": "1.2.0",
      "_model_name": "LayoutModel",
      "_view_count": null,
      "_view_module": "@jupyter-widgets/base",
      "_view_module_version": "1.2.0",
      "_view_name": "LayoutView",
      "align_content": null,
      "align_items": null,
      "align_self": null,
      "border": null,
      "bottom": null,
      "display": null,
      "flex": null,
      "flex_flow": null,
      "grid_area": null,
      "grid_auto_columns": null,
      "grid_auto_flow": null,
      "grid_auto_rows": null,
      "grid_column": null,
      "grid_gap": null,
      "grid_row": null,
      "grid_template_areas": null,
      "grid_template_columns": null,
      "grid_template_rows": null,
      "height": null,
      "justify_content": null,
      "justify_items": null,
      "left": null,
      "margin": null,
      "max_height": null,
      "max_width": null,
      "min_height": null,
      "min_width": null,
      "object_fit": null,
      "object_position": null,
      "order": null,
      "overflow": null,
      "overflow_x": null,
      "overflow_y": null,
      "padding": null,
      "right": null,
      "top": null,
      "visibility": null,
      "width": null
     }
    },
    "eb6917da972f4f21b296f3876b143275": {
     "model_module": "@jupyter-widgets/base",
     "model_module_version": "1.2.0",
     "model_name": "LayoutModel",
     "state": {
      "_model_module": "@jupyter-widgets/base",
      "_model_module_version": "1.2.0",
      "_model_name": "LayoutModel",
      "_view_count": null,
      "_view_module": "@jupyter-widgets/base",
      "_view_module_version": "1.2.0",
      "_view_name": "LayoutView",
      "align_content": null,
      "align_items": null,
      "align_self": null,
      "border": null,
      "bottom": null,
      "display": null,
      "flex": null,
      "flex_flow": null,
      "grid_area": null,
      "grid_auto_columns": null,
      "grid_auto_flow": null,
      "grid_auto_rows": null,
      "grid_column": null,
      "grid_gap": null,
      "grid_row": null,
      "grid_template_areas": null,
      "grid_template_columns": null,
      "grid_template_rows": null,
      "height": null,
      "justify_content": null,
      "justify_items": null,
      "left": null,
      "margin": null,
      "max_height": null,
      "max_width": null,
      "min_height": null,
      "min_width": null,
      "object_fit": null,
      "object_position": null,
      "order": null,
      "overflow": null,
      "overflow_x": null,
      "overflow_y": null,
      "padding": null,
      "right": null,
      "top": null,
      "visibility": null,
      "width": null
     }
    },
    "ed75897bd24a4cdb8b488d60909cc861": {
     "model_module": "@jupyter-widgets/controls",
     "model_module_version": "1.5.0",
     "model_name": "HTMLModel",
     "state": {
      "_dom_classes": [],
      "_model_module": "@jupyter-widgets/controls",
      "_model_module_version": "1.5.0",
      "_model_name": "HTMLModel",
      "_view_count": null,
      "_view_module": "@jupyter-widgets/controls",
      "_view_module_version": "1.5.0",
      "_view_name": "HTMLView",
      "description": "",
      "description_tooltip": null,
      "layout": "IPY_MODEL_ba3acf3fc14a4bb5a60d26ecf3dfd466",
      "placeholder": "​",
      "style": "IPY_MODEL_8266941177444519b360f6e7c11411ce",
      "value": " 1.14M/1.14M [00:00&lt;00:00, 14.1MB/s]"
     }
    },
    "f36373a43f684e1fbdc2daa9aac2a6da": {
     "model_module": "@jupyter-widgets/base",
     "model_module_version": "1.2.0",
     "model_name": "LayoutModel",
     "state": {
      "_model_module": "@jupyter-widgets/base",
      "_model_module_version": "1.2.0",
      "_model_name": "LayoutModel",
      "_view_count": null,
      "_view_module": "@jupyter-widgets/base",
      "_view_module_version": "1.2.0",
      "_view_name": "LayoutView",
      "align_content": null,
      "align_items": null,
      "align_self": null,
      "border": null,
      "bottom": null,
      "display": null,
      "flex": null,
      "flex_flow": null,
      "grid_area": null,
      "grid_auto_columns": null,
      "grid_auto_flow": null,
      "grid_auto_rows": null,
      "grid_column": null,
      "grid_gap": null,
      "grid_row": null,
      "grid_template_areas": null,
      "grid_template_columns": null,
      "grid_template_rows": null,
      "height": null,
      "justify_content": null,
      "justify_items": null,
      "left": null,
      "margin": null,
      "max_height": null,
      "max_width": null,
      "min_height": null,
      "min_width": null,
      "object_fit": null,
      "object_position": null,
      "order": null,
      "overflow": null,
      "overflow_x": null,
      "overflow_y": null,
      "padding": null,
      "right": null,
      "top": null,
      "visibility": null,
      "width": null
     }
    },
    "f5c3319e53894b4f8082630453ac4941": {
     "model_module": "@jupyter-widgets/controls",
     "model_module_version": "1.5.0",
     "model_name": "DescriptionStyleModel",
     "state": {
      "_model_module": "@jupyter-widgets/controls",
      "_model_module_version": "1.5.0",
      "_model_name": "DescriptionStyleModel",
      "_view_count": null,
      "_view_module": "@jupyter-widgets/base",
      "_view_module_version": "1.2.0",
      "_view_name": "StyleView",
      "description_width": ""
     }
    },
    "f870486056a745848a1d531f64433a0c": {
     "model_module": "@jupyter-widgets/base",
     "model_module_version": "1.2.0",
     "model_name": "LayoutModel",
     "state": {
      "_model_module": "@jupyter-widgets/base",
      "_model_module_version": "1.2.0",
      "_model_name": "LayoutModel",
      "_view_count": null,
      "_view_module": "@jupyter-widgets/base",
      "_view_module_version": "1.2.0",
      "_view_name": "LayoutView",
      "align_content": null,
      "align_items": null,
      "align_self": null,
      "border": null,
      "bottom": null,
      "display": null,
      "flex": null,
      "flex_flow": null,
      "grid_area": null,
      "grid_auto_columns": null,
      "grid_auto_flow": null,
      "grid_auto_rows": null,
      "grid_column": null,
      "grid_gap": null,
      "grid_row": null,
      "grid_template_areas": null,
      "grid_template_columns": null,
      "grid_template_rows": null,
      "height": null,
      "justify_content": null,
      "justify_items": null,
      "left": null,
      "margin": null,
      "max_height": null,
      "max_width": null,
      "min_height": null,
      "min_width": null,
      "object_fit": null,
      "object_position": null,
      "order": null,
      "overflow": null,
      "overflow_x": null,
      "overflow_y": null,
      "padding": null,
      "right": null,
      "top": null,
      "visibility": null,
      "width": null
     }
    },
    "f88185df5cd64693ae375d5a6e3318e2": {
     "model_module": "@jupyter-widgets/controls",
     "model_module_version": "1.5.0",
     "model_name": "HTMLModel",
     "state": {
      "_dom_classes": [],
      "_model_module": "@jupyter-widgets/controls",
      "_model_module_version": "1.5.0",
      "_model_name": "HTMLModel",
      "_view_count": null,
      "_view_module": "@jupyter-widgets/controls",
      "_view_module_version": "1.5.0",
      "_view_name": "HTMLView",
      "description": "",
      "description_tooltip": null,
      "layout": "IPY_MODEL_9a8e05f6427540e295341b9be93cb31a",
      "placeholder": "​",
      "style": "IPY_MODEL_97253d044fb04a3e9e5c6f884e873311",
      "value": " 150/150 [00:00&lt;00:00, 2.41kB/s]"
     }
    },
    "fb36cdcd4c6b4d8d8ab85726372409e4": {
     "model_module": "@jupyter-widgets/base",
     "model_module_version": "1.2.0",
     "model_name": "LayoutModel",
     "state": {
      "_model_module": "@jupyter-widgets/base",
      "_model_module_version": "1.2.0",
      "_model_name": "LayoutModel",
      "_view_count": null,
      "_view_module": "@jupyter-widgets/base",
      "_view_module_version": "1.2.0",
      "_view_name": "LayoutView",
      "align_content": null,
      "align_items": null,
      "align_self": null,
      "border": null,
      "bottom": null,
      "display": null,
      "flex": null,
      "flex_flow": null,
      "grid_area": null,
      "grid_auto_columns": null,
      "grid_auto_flow": null,
      "grid_auto_rows": null,
      "grid_column": null,
      "grid_gap": null,
      "grid_row": null,
      "grid_template_areas": null,
      "grid_template_columns": null,
      "grid_template_rows": null,
      "height": null,
      "justify_content": null,
      "justify_items": null,
      "left": null,
      "margin": null,
      "max_height": null,
      "max_width": null,
      "min_height": null,
      "min_width": null,
      "object_fit": null,
      "object_position": null,
      "order": null,
      "overflow": null,
      "overflow_x": null,
      "overflow_y": null,
      "padding": null,
      "right": null,
      "top": null,
      "visibility": null,
      "width": null
     }
    },
    "fed9d848d5ed44b9b2bd0d0edc1ea57d": {
     "model_module": "@jupyter-widgets/controls",
     "model_module_version": "1.5.0",
     "model_name": "HBoxModel",
     "state": {
      "_dom_classes": [],
      "_model_module": "@jupyter-widgets/controls",
      "_model_module_version": "1.5.0",
      "_model_name": "HBoxModel",
      "_view_count": null,
      "_view_module": "@jupyter-widgets/controls",
      "_view_module_version": "1.5.0",
      "_view_name": "HBoxView",
      "box_style": "",
      "children": [
       "IPY_MODEL_6be20b576d9149f7a44d6b4494577eac",
       "IPY_MODEL_7d4813a152834d3aae0aacfa902bb4b1",
       "IPY_MODEL_99297fb5e5e54c998fc54077a2926ca5"
      ],
      "layout": "IPY_MODEL_81bef49b0af5447fb3fa871bec9dad42"
     }
    },
    "ffb93829ed0a4485aa7ff475cb072b04": {
     "model_module": "@jupyter-widgets/base",
     "model_module_version": "1.2.0",
     "model_name": "LayoutModel",
     "state": {
      "_model_module": "@jupyter-widgets/base",
      "_model_module_version": "1.2.0",
      "_model_name": "LayoutModel",
      "_view_count": null,
      "_view_module": "@jupyter-widgets/base",
      "_view_module_version": "1.2.0",
      "_view_name": "LayoutView",
      "align_content": null,
      "align_items": null,
      "align_self": null,
      "border": null,
      "bottom": null,
      "display": null,
      "flex": null,
      "flex_flow": null,
      "grid_area": null,
      "grid_auto_columns": null,
      "grid_auto_flow": null,
      "grid_auto_rows": null,
      "grid_column": null,
      "grid_gap": null,
      "grid_row": null,
      "grid_template_areas": null,
      "grid_template_columns": null,
      "grid_template_rows": null,
      "height": null,
      "justify_content": null,
      "justify_items": null,
      "left": null,
      "margin": null,
      "max_height": null,
      "max_width": null,
      "min_height": null,
      "min_width": null,
      "object_fit": null,
      "object_position": null,
      "order": null,
      "overflow": null,
      "overflow_x": null,
      "overflow_y": null,
      "padding": null,
      "right": null,
      "top": null,
      "visibility": null,
      "width": null
     }
    }
   }
  }
 },
 "nbformat": 4,
 "nbformat_minor": 0
}
